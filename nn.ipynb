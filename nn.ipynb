{
 "cells": [
  {
   "cell_type": "code",
   "execution_count": 1,
   "metadata": {
    "collapsed": true
   },
   "outputs": [],
   "source": [
    "import numpy as np"
   ]
  },
  {
   "cell_type": "code",
   "execution_count": 2,
   "metadata": {
    "collapsed": true
   },
   "outputs": [],
   "source": [
    "X = np.array([ [0,0,1],[0,1,1],[1,0,1],[1,1,1] ])\n",
    "y = np.array([[0,1,1,0]]).T\n",
    "#[-1,1]\n",
    "syn0 = 2*np.random.random((3,4)) - 1 \n",
    "syn1 = 2*np.random.random((4,1)) - 1"
   ]
  },
  {
   "cell_type": "code",
   "execution_count": 10,
   "metadata": {
    "collapsed": true
   },
   "outputs": [],
   "source": [
    "for j in xrange(60000):  \n",
    "    l1 = 1/(1+np.exp(-(np.dot(X,syn0))))  \n",
    "    l2 = 1/(1+np.exp(-(np.dot(l1,syn1))))  \n",
    "    l2_delta = (y - l2)*(l2*(1-l2))  \n",
    "    l1_delta = l2_delta.dot(syn1.T) * (l1 * (1-l1))  \n",
    "    syn1 += l1.T.dot(l2_delta)  \n",
    "    syn0 += X.T.dot(l1_delta)  "
   ]
  },
  {
   "cell_type": "code",
   "execution_count": null,
   "metadata": {
    "collapsed": true
   },
   "outputs": [],
   "source": []
  },
  {
   "cell_type": "code",
   "execution_count": 21,
   "metadata": {},
   "outputs": [
    {
     "name": "stdout",
     "output_type": "stream",
     "text": [
      "Output After Training:\n",
      "[[ 0.00966449]\n",
      " [ 0.00786506]\n",
      " [ 0.99358898]\n",
      " [ 0.99211957]]\n"
     ]
    }
   ],
   "source": [
    "# sigmoid function  \n",
    "def nonlin(x,deriv=False):  \n",
    "    if(deriv==True):  \n",
    "        return x*(1-x)  \n",
    "    return 1/(1+np.exp(-x))  \n",
    "      \n",
    "# input dataset  \n",
    "X = np.array([  [0,0,1],  \n",
    "                [0,1,1],  \n",
    "                [1,0,1],  \n",
    "                [1,1,1] ])  \n",
    "      \n",
    "# output dataset              \n",
    "y = np.array([[0,0,1,1]]).T  \n",
    "  \n",
    "# seed random numbers to make calculation  \n",
    "# deterministic (just a good practice)  \n",
    "np.random.seed(1)  \n",
    "  \n",
    "# initialize weights randomly with mean 0  \n",
    "syn0 = 2*np.random.random((3,1)) - 1  \n",
    "  \n",
    "for iter in xrange(10000):  \n",
    "  \n",
    "    # forward propagation  \n",
    "    l0 = X  \n",
    "    l1 = nonlin(np.dot(l0,syn0))  \n",
    "  \n",
    "    # how much did we miss?  \n",
    "    l1_error = y - l1  \n",
    "  \n",
    "    # multiply how much we missed by the   \n",
    "    # slope of the sigmoid at the values in l1  \n",
    "    l1_delta = l1_error * nonlin(l1,True)  \n",
    "  \n",
    "    # update weights  \n",
    "    syn0 += np.dot(l0.T,l1_delta)  \n",
    "  \n",
    "print \"Output After Training:\"  \n",
    "print l1 "
   ]
  },
  {
   "cell_type": "code",
   "execution_count": 23,
   "metadata": {},
   "outputs": [
    {
     "data": {
      "text/plain": [
       "(array([[0, 0, 1],\n",
       "        [0, 1, 1],\n",
       "        [1, 0, 1],\n",
       "        [1, 1, 1]]), array([[ 9.67299303],\n",
       "        [-0.2078435 ],\n",
       "        [-4.62963669]]))"
      ]
     },
     "execution_count": 23,
     "metadata": {},
     "output_type": "execute_result"
    }
   ],
   "source": [
    "l0, syn0"
   ]
  },
  {
   "cell_type": "code",
   "execution_count": 29,
   "metadata": {},
   "outputs": [
    {
     "name": "stdout",
     "output_type": "stream",
     "text": [
      "[[0 0 1]\n",
      " [0 1 1]\n",
      " [1 0 1]\n",
      " [1 1 1]]\n"
     ]
    }
   ],
   "source": [
    "print(l0)"
   ]
  },
  {
   "cell_type": "code",
   "execution_count": 26,
   "metadata": {},
   "outputs": [
    {
     "data": {
      "text/plain": [
       "1"
      ]
     },
     "execution_count": 26,
     "metadata": {},
     "output_type": "execute_result"
    }
   ],
   "source": [
    "1"
   ]
  },
  {
   "cell_type": "code",
   "execution_count": null,
   "metadata": {
    "collapsed": true
   },
   "outputs": [],
   "source": []
  }
 ],
 "metadata": {
  "kernelspec": {
   "display_name": "Python 2",
   "language": "python",
   "name": "python2"
  },
  "language_info": {
   "codemirror_mode": {
    "name": "ipython",
    "version": 2
   },
   "file_extension": ".py",
   "mimetype": "text/x-python",
   "name": "python",
   "nbconvert_exporter": "python",
   "pygments_lexer": "ipython2",
   "version": "2.7.13"
  }
 },
 "nbformat": 4,
 "nbformat_minor": 2
}
