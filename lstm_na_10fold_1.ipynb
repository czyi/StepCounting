{
 "cells": [
  {
   "cell_type": "code",
   "execution_count": 1,
   "metadata": {},
   "outputs": [
    {
     "name": "stderr",
     "output_type": "stream",
     "text": [
      "/home/ziyi/anaconda3/lib/python3.6/importlib/_bootstrap.py:219: RuntimeWarning: compiletime version 3.5 of module 'tensorflow.python.framework.fast_tensor_util' does not match runtime version 3.6\n",
      "  return f(*args, **kwds)\n"
     ]
    }
   ],
   "source": [
    "import numpy as np\n",
    "import matplotlib.pyplot as plt\n",
    "import tensorflow as tf\n",
    "import math\n",
    "import re\n",
    "import random\n",
    "import csv"
   ]
  },
  {
   "cell_type": "code",
   "execution_count": 2,
   "metadata": {
    "collapsed": true
   },
   "outputs": [],
   "source": [
    "# Network Parameters\n",
    "num_input = 6\n",
    "timesteps = 50 # timesteps\n",
    "num_hidden = 100 # hidden layer num of features\n",
    "num_output= 1"
   ]
  },
  {
   "cell_type": "code",
   "execution_count": 3,
   "metadata": {
    "collapsed": true
   },
   "outputs": [],
   "source": [
    "def read_sensor(filename):\n",
    "    with open(filename, \"r\") as csvfile:\n",
    "        reader = csv.reader(csvfile)\n",
    "        dataset = [row[17:23] for row in reader]\n",
    "        #data_x\n",
    "        return np.array(dataset)\n",
    "    \n",
    "def read_xml(filename, length):\n",
    "    f = open(filename)\n",
    "    cts = f.read()\n",
    "    f.close()\n",
    "\n",
    "    p_foot = re.compile(r'<WhichFoot>(.*?)</WhichFoot>')\n",
    "    all_foot = p_foot.findall(cts)\n",
    "\n",
    "    p_time = re.compile(r'<Time>(.*?)</Time>')\n",
    "    all_time = p_time.findall(cts)\n",
    "\n",
    "    strike_times = []\n",
    "    #L-1 R-0\n",
    "    strike_times.append([0.0, 0.5])\n",
    "    for i in range(len(all_foot)):\n",
    "        if(all_foot[i]=='L'):\n",
    "            strike_times.append([float(all_time[i]), 1])\n",
    "        else:\n",
    "            strike_times.append([float(all_time[i]), 0])\n",
    "    strike_times[-1][1] = 0.5\n",
    "    strike_times.append([length/25.0, 0.5])\n",
    "\n",
    "    window_y = []\n",
    "    strike_index=0\n",
    "    for i in range(length):\n",
    "        if(i/25.0 >= strike_times[strike_index+1][0]):\n",
    "            strike_index += 1\n",
    "        window_y.append([strike_times[strike_index][1]])\n",
    "\n",
    "    p_info = re.compile(r'<StartTime>(.*?)</StartTime>\\n\\t<EndTime>(.*?)</EndTime>\\n\\t<NSteps>(.*?)</NSteps>\\n\\t<Direction>(.*?)</Direction>')\n",
    "    all_info = p_info.findall(cts)#start_time, end_time, step_num, direction=turn\n",
    "\n",
    "    for i in range(len(all_info)):\n",
    "        if(all_info[i][3][:4]=='Turn'):\n",
    "#             print(all_info[i])\n",
    "            start_time = int(float(all_info[i][0])*25)\n",
    "            end_time = int(float(all_info[i][1])*25)\n",
    "#             print('start and end time : ', all_info[i][0], all_info[i][1])\n",
    "            for t in range(start_time-1, end_time):\n",
    "                window_y[t] = [0.5]\n",
    "\n",
    "    p_feature = re.compile(r'<Feature>\\n\\t\\t\\t<StartTime>(.*?)</StartTime>\\n\\t\\t\\t<EndTime>(.*?)</EndTime>')\n",
    "    all_feature = p_feature.findall(cts)#start_time, end_time, step_num, direction=turn\n",
    "\n",
    "    for i in range(len(all_feature)):\n",
    "        start_time = int(float(all_feature[i][0])*25)\n",
    "        end_time = int(float(all_feature[i][1])*25)\n",
    "        for t in range(start_time-1, end_time):\n",
    "            window_y[t] = [0.5]\n",
    "            \n",
    "#     print(len(window_y))  \n",
    "    return window_y\n",
    "\n",
    "def add_data(path, person, phone_location, assistant):\n",
    "    data_x = read_sensor('weallwalk/sensor/iPhoneSensors_T'+str(path)+'_ID'+str(person)+'_'+phone_location+'_'+assistant+'.csv')\n",
    "    data_y = read_xml('weallwalk/xml/T'+str(path)+'_ID'+str(person)+'_'+assistant+'.xml', len(data_x))\n",
    "    \n",
    "    split_x, split_x_part = [], []\n",
    "    split_y, split_y_part = [], []\n",
    "    for i in range(len(data_y)):\n",
    "        if(data_y[i][0]!=0.5):\n",
    "            split_y_part.append(data_y[i])\n",
    "            split_x_part.append(data_x[i])\n",
    "        else:\n",
    "            if(len(split_y_part)>0):\n",
    "                split_y.append(split_y_part)\n",
    "                split_x.append(split_x_part)\n",
    "                split_y_part = []\n",
    "                split_x_part = []\n",
    "    \n",
    "    data_x_seq, data_y_seq = [], []\n",
    "    for i in range(len(split_x)):\n",
    "        data_x_part, data_y_part = [], []\n",
    "        for j in range(len(split_x[i])-timesteps):\n",
    "            x = split_x[i][j:j+timesteps]\n",
    "            y = split_y[i][j:j+timesteps]\n",
    "            data_x_part.append(x)\n",
    "            data_y_part.append(y)\n",
    "        if(len(data_x_part)>0):\n",
    "            data_x_seq.append(data_x_part)\n",
    "            data_y_seq.append(data_y_part)\n",
    "    \n",
    "    return data_x_seq, data_y_seq"
   ]
  },
  {
   "cell_type": "code",
   "execution_count": 28,
   "metadata": {},
   "outputs": [
    {
     "name": "stdout",
     "output_type": "stream",
     "text": [
      "[[1, 12, '1L', 'NA'], [1, 13, '1L', 'NA'], [1, 14, '1L', 'NA'], [1, 15, '1L', 'NA'], [1, 12, '2R', 'NA'], [1, 13, '2R', 'NA'], [1, 14, '2R', 'NA'], [1, 15, '2R', 'NA'], [2, 12, '1L', 'NA'], [2, 13, '1L', 'NA'], [2, 14, '1L', 'NA'], [2, 15, '1L', 'NA'], [2, 12, '2R', 'NA'], [2, 13, '2R', 'NA'], [2, 14, '2R', 'NA'], [2, 15, '2R', 'NA'], [3, 12, '1L', 'NA'], [3, 13, '1L', 'NA'], [3, 14, '1L', 'NA'], [3, 15, '1L', 'NA'], [3, 12, '2R', 'NA'], [3, 13, '2R', 'NA'], [3, 14, '2R', 'NA'], [3, 15, '2R', 'NA'], [4, 12, '1L', 'NA'], [4, 13, '1L', 'NA'], [4, 14, '1L', 'NA'], [4, 15, '1L', 'NA'], [4, 12, '2R', 'NA'], [4, 13, '2R', 'NA'], [4, 14, '2R', 'NA'], [4, 15, '2R', 'NA'], [5, 12, '1L', 'NA'], [5, 13, '1L', 'NA'], [5, 14, '1L', 'NA'], [5, 15, '1L', 'NA'], [5, 12, '2R', 'NA'], [5, 13, '2R', 'NA'], [5, 14, '2R', 'NA'], [5, 15, '2R', 'NA'], [6, 12, '1L', 'NA'], [6, 13, '1L', 'NA'], [6, 14, '1L', 'NA'], [6, 15, '1L', 'NA'], [6, 12, '2R', 'NA'], [6, 13, '2R', 'NA'], [6, 14, '2R', 'NA'], [6, 15, '2R', 'NA']]\n"
     ]
    }
   ],
   "source": [
    "step_data_list = []\n",
    "for i in range(1,7):\n",
    "#     step_data_list.append([i, 11, '1L', 'NA'])\n",
    "    step_data_list.append([i, 12, '1L', 'NA'])\n",
    "    step_data_list.append([i, 13, '1L', 'NA'])\n",
    "    step_data_list.append([i, 14, '1L', 'NA'])\n",
    "    step_data_list.append([i, 15, '1L', 'NA'])\n",
    "#     step_data_list.append([i, 11, '2R', 'NA'])\n",
    "    step_data_list.append([i, 12, '2R', 'NA'])\n",
    "    step_data_list.append([i, 13, '2R', 'NA'])\n",
    "    step_data_list.append([i, 14, '2R', 'NA'])\n",
    "    step_data_list.append([i, 15, '2R', 'NA'])    \n",
    "    \n",
    "print(step_data_list)"
   ]
  },
  {
   "cell_type": "code",
   "execution_count": 29,
   "metadata": {},
   "outputs": [
    {
     "name": "stdout",
     "output_type": "stream",
     "text": [
      "102377\n",
      "102377\n"
     ]
    }
   ],
   "source": [
    "data_x, data_y = [], []\n",
    "for i in step_data_list:\n",
    "    data_x_segement, data_y_segement = add_data(i[0], i[1], i[2], i[3])\n",
    "    for dx in data_x_segement:\n",
    "        data_x.extend(dx)\n",
    "    for dy in data_y_segement:\n",
    "        data_y.extend(dy)\n",
    "    \n",
    "print(len(data_x))\n",
    "print(len(data_y))"
   ]
  },
  {
   "cell_type": "code",
   "execution_count": 30,
   "metadata": {},
   "outputs": [
    {
     "name": "stdout",
     "output_type": "stream",
     "text": [
      "102377\n",
      "0 10237\n",
      "92396 10493\n",
      "10237 20475\n",
      "92395 10494\n",
      "20475 30713\n",
      "92395 10494\n",
      "30713 40950\n",
      "92396 10493\n",
      "40950 51188\n",
      "92395 10494\n",
      "51188 61426\n",
      "92395 10494\n",
      "61426 71663\n",
      "92396 10493\n",
      "71663 81901\n",
      "92395 10494\n",
      "81901 92139\n",
      "92395 10494\n",
      "92139 102377\n",
      "92395 10494\n"
     ]
    }
   ],
   "source": [
    "data_size = len(data_x)\n",
    "batch_size = 256\n",
    "print(data_size)\n",
    "\n",
    "order = list(range(0,len(data_x),1))\n",
    "random.shuffle(order)\n",
    "\n",
    "train_x_list, train_y_list = [], []\n",
    "valid_x_list, valid_y_list = [], []\n",
    "\n",
    "#10 fold cross validation\n",
    "for i in range(0,10):\n",
    "    start = int(data_size*1.0/10*i)\n",
    "    end = int(data_size*1.0/10*(i+1))\n",
    "    print(start, end)\n",
    "    \n",
    "    train_x = [data_x[i] for i in order[0:start]]\n",
    "    train_x.extend([data_x[i] for i in order[end:data_size]])\n",
    "    train_x.extend([train_x[i] for i in range(0, batch_size)])\n",
    "    train_y = [data_y[i] for i in order[0:start]]\n",
    "    train_y.extend([data_y[i] for i in order[end:data_size]])\n",
    "    train_y.extend([train_y[i] for i in range(0, batch_size)])\n",
    "    train_x_list.append(train_x)\n",
    "    train_y_list.append(train_y)\n",
    "    \n",
    "    valid_x = [data_x[i] for i in order[start:end]]\n",
    "    valid_x.extend([valid_x[i] for i in range(0, batch_size)])\n",
    "    valid_y = [data_y[i] for i in order[start:end]]\n",
    "    valid_y.extend([valid_y[i] for i in range(0, batch_size)])\n",
    "    valid_x_list.append(valid_x)\n",
    "    valid_y_list.append(valid_y)\n",
    "    \n",
    "    print(len(train_x), len(valid_x))"
   ]
  },
  {
   "cell_type": "code",
   "execution_count": 31,
   "metadata": {},
   "outputs": [
    {
     "name": "stdout",
     "output_type": "stream",
     "text": [
      "[[1, 11, '1L', 'NA'], [1, 11, '2R', 'NA'], [2, 11, '1L', 'NA'], [2, 11, '2R', 'NA'], [3, 11, '1L', 'NA'], [3, 11, '2R', 'NA'], [4, 11, '1L', 'NA'], [4, 11, '2R', 'NA'], [5, 11, '1L', 'NA'], [5, 11, '2R', 'NA'], [6, 11, '1L', 'NA'], [6, 11, '2R', 'NA']]\n"
     ]
    }
   ],
   "source": [
    "step_test_list = []\n",
    "for i in range(1,7):\n",
    "    step_test_list.append([i, 11, '1L', 'NA'])\n",
    "#     step_test_list.append([i, 12, '1L', 'NA'])\n",
    "#     step_test_list.append([i, 13, '1L', 'NA'])\n",
    "#     step_test_list.append([i, 14, '1L', 'NA'])\n",
    "#     step_test_list.append([i, 15, '1L', 'NA'])\n",
    "    step_test_list.append([i, 11, '2R', 'NA'])\n",
    "#     step_test_list.append([i, 12, '2R', 'NA'])\n",
    "#     step_test_list.append([i, 13, '2R', 'NA'])\n",
    "#     step_test_list.append([i, 14, '2R', 'NA'])\n",
    "#     step_test_list.append([i, 15, '2R', 'NA'])    \n",
    "        \n",
    "print(step_test_list)"
   ]
  },
  {
   "cell_type": "code",
   "execution_count": 32,
   "metadata": {},
   "outputs": [
    {
     "name": "stdout",
     "output_type": "stream",
     "text": [
      "60\n",
      "60\n",
      "[35, 88, 761, 71, 35, 88, 761, 71, 63, 1154, 125, 70, 63, 1154, 125, 70, 1016, 270, 1016, 270, 223, 1069, 112, 1071, 105, 791, 92, 719, 223, 1069, 112, 1071, 105, 791, 92, 719, 46, 324, 577, 244, 348, 262, 1096, 46, 324, 577, 244, 348, 262, 1096, 10, 366, 5, 1035, 51, 10, 366, 5, 1035, 51]\n"
     ]
    }
   ],
   "source": [
    "test_x, test_y=[], []\n",
    "for i in step_test_list:\n",
    "    data_x_segement, data_y_segement = add_data(i[0], i[1], i[2], i[3])\n",
    "    test_x.extend(data_x_segement)\n",
    "    test_y.extend(data_y_segement)\n",
    "#     test_x.append(data_x_segement)\n",
    "#     test_y.append(data_y_segement)\n",
    "    \n",
    "print(len(test_x))\n",
    "print(len(test_y))\n",
    "\n",
    "print([len(i) for i in test_y])"
   ]
  },
  {
   "cell_type": "code",
   "execution_count": 33,
   "metadata": {},
   "outputs": [
    {
     "data": {
      "image/png": "[encoded data removed]",
      "text/plain": [
       "<matplotlib.figure.Figure at 0x7f97ad7ecbe0>"
      ]
     },
     "metadata": {},
     "output_type": "display_data"
    }
   ],
   "source": [
    "plt.figure(figsize=(18, 5))\n",
    "plt.plot([i[0] for i in test_y[0]], 'r')\n",
    "plt.show()"
   ]
  },
  {
   "cell_type": "code",
   "execution_count": 34,
   "metadata": {},
   "outputs": [
    {
     "name": "stdout",
     "output_type": "stream",
     "text": [
      "(?, 50, 1)\n",
      "(50, 1)\n"
     ]
    }
   ],
   "source": [
    "NUM_LAYERS=2\n",
    "\n",
    "def LstmCell():\n",
    "    lstm_cell = tf.contrib.rnn.BasicLSTMCell(num_hidden)#, forget_bias=1.0)\n",
    "    cell = tf.contrib.rnn.DropoutWrapper(lstm_cell, output_keep_prob=0.5)\n",
    "    return cell\n",
    "\n",
    "graph = tf.Graph()\n",
    "with graph.as_default(), tf.device('/gpu:0'):\n",
    "    # tf Graph input\n",
    "    X = tf.placeholder(\"float\", [None, timesteps, num_input])\n",
    "    Y = tf.placeholder(\"float\", [None, timesteps, num_output])\n",
    "    \n",
    "    # Define weights\n",
    "    weights = {\n",
    "        'out': tf.Variable(tf.random_normal([num_hidden, num_output]))\n",
    "    }\n",
    "    biases = {\n",
    "        'out': tf.Variable(tf.random_normal([num_output]))\n",
    "    }\n",
    "    \n",
    "    def RNN(x, weights, biases):\n",
    "        x = tf.unstack(x, timesteps, 1)\n",
    "        cell = tf.contrib.rnn.MultiRNNCell([LstmCell() for _ in range(NUM_LAYERS)])\n",
    "        outputs, state = tf.nn.dynamic_rnn(cell, X, dtype=tf.float32)\n",
    "        outputs = tf.transpose(outputs, [1,0,2])\n",
    "\n",
    "#         return tf.matmul(outputs[-2], weights['out']) + biases['out']\n",
    "        ret = []\n",
    "#         print(outputs.shape)\n",
    "        for i in range(0, timesteps):\n",
    "            ret.append(tf.matmul(outputs[i], weights['out']) + biases['out'])\n",
    "            \n",
    "        return ret\n",
    "\n",
    "#         return np.array(ret)\n",
    "    \n",
    "    logits = RNN(X, weights, biases)\n",
    "    logits = tf.transpose(logits, [1,0,2])\n",
    "#     print(len(logits))\n",
    "    print(logits.shape)\n",
    "    print(logits[0].shape)\n",
    "    mean_train = tf.reduce_mean(X)\n",
    "    \n",
    "    \n",
    "    loss = tf.reduce_mean(tf.squared_difference(logits, Y))\n",
    "\n",
    "    optimizer = tf.train.AdamOptimizer(learning_rate = 0.001).minimize(loss)\n",
    "    \n",
    "    saver = tf.train.Saver()"
   ]
  },
  {
   "cell_type": "code",
   "execution_count": 35,
   "metadata": {},
   "outputs": [
    {
     "name": "stdout",
     "output_type": "stream",
     "text": [
      "92395\n",
      "92395\n"
     ]
    }
   ],
   "source": [
    "batch_size = 256\n",
    "batch_start = 0;\n",
    "train_length = len(train_x)\n",
    "print(train_length)\n",
    "\n",
    "train_x_extend = [i for i in train_x]\n",
    "train_y_extend = [i for i in train_y]\n",
    "\n",
    "print(len(train_x_extend))"
   ]
  },
  {
   "cell_type": "code",
   "execution_count": 36,
   "metadata": {},
   "outputs": [
    {
     "name": "stdout",
     "output_type": "stream",
     "text": [
      "92651\n"
     ]
    }
   ],
   "source": [
    "if(len(train_x_extend)==len(train_x)):\n",
    "    train_x_extend.extend(train_x[0:batch_size])\n",
    "    train_y_extend.extend(train_y[0:batch_size])\n",
    "print(len(train_x_extend))"
   ]
  },
  {
   "cell_type": "code",
   "execution_count": 37,
   "metadata": {
    "collapsed": true
   },
   "outputs": [],
   "source": [
    "def cal_accuarcy(y, _y):\n",
    "#     print(len(y))\n",
    "#     print(len(y[0]))\n",
    "#     print(len(y[0][0]))\n",
    "#     print(y[0][0])\n",
    "    count = 0\n",
    "    total = 0\n",
    "    for i in range(len(y[0])):\n",
    "        total += 1\n",
    "        if(y[0][i][0] == round(_y[0][i][0])):\n",
    "            count += 1\n",
    "    for i in range(1, len(y)):\n",
    "        total += 1\n",
    "        if(y[i][-1][0] == round(_y[i][-1][0])):\n",
    "            count += 1;\n",
    "    return(count*1.0/total)\n",
    "#     print(\"train accuarcy : \", count/len(y))"
   ]
  },
  {
   "cell_type": "code",
   "execution_count": 38,
   "metadata": {
    "scrolled": true
   },
   "outputs": [
    {
     "name": "stdout",
     "output_type": "stream",
     "text": [
      "cross validation  0\n",
      "Initialized\n",
      "Loss at step 0: 0.844566, train accuarcy : 0.347541\n",
      "Loss at step 200: 0.125683, train accuarcy : 0.878689\n",
      "Loss at step 400: 0.100037, train accuarcy : 0.918033\n",
      "Loss at step 600: 0.086799, train accuarcy : 0.921311\n",
      "Loss at step 800: 0.084372, train accuarcy : 0.914754\n",
      "Loss at step 1000: 0.073033, train accuarcy : 0.940984\n",
      "Loss at step 1200: 0.072426, train accuarcy : 0.931148\n",
      "Loss at step 1400: 0.067229, train accuarcy : 0.937705\n",
      "Loss at step 1600: 0.062300, train accuarcy : 0.924590\n",
      "Loss at step 1800: 0.069650, train accuarcy : 0.931148\n",
      "Loss at step 2000: 0.061340, train accuarcy : 0.940984\n",
      "Loss at step 2200: 0.065196, train accuarcy : 0.927869\n",
      "Loss at step 2400: 0.062639, train accuarcy : 0.957377\n",
      "Loss at step 2600: 0.056039, train accuarcy : 0.957377\n",
      "Loss at step 2800: 0.055866, train accuarcy : 0.921311\n",
      "Loss at step 3000: 0.054713, train accuarcy : 0.954098\n",
      "test loss :  0.0570681\n",
      "cross validation  1\n",
      "Initialized\n",
      "Loss at step 0: 2.158678, train accuarcy : 0.091803\n",
      "Loss at step 200: 0.161008, train accuarcy : 0.862295\n",
      "Loss at step 400: 0.130361, train accuarcy : 0.904918\n",
      "Loss at step 600: 0.110818, train accuarcy : 0.911475\n",
      "Loss at step 800: 0.106635, train accuarcy : 0.924590\n",
      "Loss at step 1000: 0.092786, train accuarcy : 0.934426\n",
      "Loss at step 1200: 0.088266, train accuarcy : 0.927869\n",
      "Loss at step 1400: 0.083912, train accuarcy : 0.934426\n",
      "Loss at step 1600: 0.074536, train accuarcy : 0.927869\n",
      "Loss at step 1800: 0.082199, train accuarcy : 0.947541\n",
      "Loss at step 2000: 0.071484, train accuarcy : 0.947541\n",
      "Loss at step 2200: 0.069883, train accuarcy : 0.940984\n",
      "Loss at step 2400: 0.071445, train accuarcy : 0.950820\n",
      "Loss at step 2600: 0.061686, train accuarcy : 0.940984\n",
      "Loss at step 2800: 0.062411, train accuarcy : 0.937705\n",
      "Loss at step 3000: 0.060781, train accuarcy : 0.940984\n",
      "test loss :  0.0624715\n",
      "cross validation  2\n",
      "Initialized\n",
      "Loss at step 0: 2.647183, train accuarcy : 0.114754\n",
      "Loss at step 200: 0.170071, train accuarcy : 0.849180\n",
      "Loss at step 400: 0.139468, train accuarcy : 0.865574\n",
      "Loss at step 600: 0.115362, train accuarcy : 0.898361\n",
      "Loss at step 800: 0.104371, train accuarcy : 0.927869\n",
      "Loss at step 1000: 0.094894, train accuarcy : 0.914754\n",
      "Loss at step 1200: 0.090182, train accuarcy : 0.921311\n",
      "Loss at step 1400: 0.082680, train accuarcy : 0.921311\n",
      "Loss at step 1600: 0.076849, train accuarcy : 0.927869\n",
      "Loss at step 1800: 0.083848, train accuarcy : 0.927869\n",
      "Loss at step 2000: 0.072464, train accuarcy : 0.927869\n",
      "Loss at step 2200: 0.072488, train accuarcy : 0.944262\n",
      "Loss at step 2400: 0.073708, train accuarcy : 0.944262\n",
      "Loss at step 2600: 0.066393, train accuarcy : 0.934426\n",
      "Loss at step 2800: 0.063860, train accuarcy : 0.937705\n",
      "Loss at step 3000: 0.061388, train accuarcy : 0.954098\n",
      "test loss :  0.0645536\n",
      "cross validation  3\n",
      "Initialized\n",
      "Loss at step 0: 0.446318, train accuarcy : 0.521311\n",
      "Loss at step 200: 0.114336, train accuarcy : 0.895082\n",
      "Loss at step 400: 0.095658, train accuarcy : 0.931148\n",
      "Loss at step 600: 0.077352, train accuarcy : 0.944262\n",
      "Loss at step 800: 0.071649, train accuarcy : 0.944262\n",
      "Loss at step 1000: 0.067379, train accuarcy : 0.950820\n",
      "Loss at step 1200: 0.072936, train accuarcy : 0.918033\n",
      "Loss at step 1400: 0.064753, train accuarcy : 0.947541\n",
      "Loss at step 1600: 0.059808, train accuarcy : 0.947541\n",
      "Loss at step 1800: 0.068758, train accuarcy : 0.931148\n",
      "Loss at step 2000: 0.059605, train accuarcy : 0.940984\n",
      "Loss at step 2200: 0.059611, train accuarcy : 0.957377\n",
      "Loss at step 2400: 0.060812, train accuarcy : 0.947541\n",
      "Loss at step 2600: 0.057135, train accuarcy : 0.950820\n",
      "Loss at step 2800: 0.054878, train accuarcy : 0.924590\n",
      "Loss at step 3000: 0.054950, train accuarcy : 0.957377\n",
      "test loss :  0.0551133\n",
      "cross validation  4\n",
      "Initialized\n",
      "Loss at step 0: 1.230185, train accuarcy : 0.373770\n",
      "Loss at step 200: 0.138313, train accuarcy : 0.855738\n",
      "Loss at step 400: 0.115258, train accuarcy : 0.918033\n",
      "Loss at step 600: 0.091970, train accuarcy : 0.931148\n",
      "Loss at step 800: 0.084198, train accuarcy : 0.940984\n",
      "Loss at step 1000: 0.077237, train accuarcy : 0.924590\n",
      "Loss at step 1200: 0.081768, train accuarcy : 0.908197\n",
      "Loss at step 1400: 0.071909, train accuarcy : 0.918033\n",
      "Loss at step 1600: 0.071635, train accuarcy : 0.914754\n",
      "Loss at step 1800: 0.072914, train accuarcy : 0.934426\n",
      "Loss at step 2000: 0.064201, train accuarcy : 0.934426\n",
      "Loss at step 2200: 0.063806, train accuarcy : 0.947541\n",
      "Loss at step 2400: 0.064882, train accuarcy : 0.944262\n",
      "Loss at step 2600: 0.059250, train accuarcy : 0.937705\n",
      "Loss at step 2800: 0.058414, train accuarcy : 0.934426\n",
      "Loss at step 3000: 0.057703, train accuarcy : 0.960656\n",
      "test loss :  0.0582507\n",
      "cross validation  5\n",
      "Initialized\n",
      "Loss at step 0: 0.632883, train accuarcy : 0.380328\n",
      "Loss at step 200: 0.113338, train accuarcy : 0.904918\n",
      "Loss at step 400: 0.097580, train accuarcy : 0.931148\n",
      "Loss at step 600: 0.078618, train accuarcy : 0.944262\n",
      "Loss at step 800: 0.074307, train accuarcy : 0.934426\n",
      "Loss at step 1000: 0.070027, train accuarcy : 0.931148\n",
      "Loss at step 1200: 0.074448, train accuarcy : 0.931148\n",
      "Loss at step 1400: 0.065135, train accuarcy : 0.927869\n",
      "Loss at step 1600: 0.065262, train accuarcy : 0.921311\n",
      "Loss at step 1800: 0.070101, train accuarcy : 0.937705\n",
      "Loss at step 2000: 0.058527, train accuarcy : 0.954098\n",
      "Loss at step 2200: 0.060705, train accuarcy : 0.960656\n",
      "Loss at step 2400: 0.059388, train accuarcy : 0.960656\n",
      "Loss at step 2600: 0.056148, train accuarcy : 0.944262\n",
      "Loss at step 2800: 0.054872, train accuarcy : 0.934426\n",
      "Loss at step 3000: 0.053302, train accuarcy : 0.960656\n",
      "test loss :  0.0554497\n",
      "cross validation  6\n",
      "Initialized\n",
      "Loss at step 0: 2.881547, train accuarcy : 0.059016\n",
      "Loss at step 200: 0.184997, train accuarcy : 0.855738\n",
      "Loss at step 400: 0.146796, train accuarcy : 0.855738\n",
      "Loss at step 600: 0.126607, train accuarcy : 0.875410\n",
      "Loss at step 800: 0.111358, train accuarcy : 0.901639\n",
      "Loss at step 1000: 0.100214, train accuarcy : 0.914754\n",
      "Loss at step 1200: 0.099513, train accuarcy : 0.881967\n",
      "Loss at step 1400: 0.090236, train accuarcy : 0.918033\n",
      "Loss at step 1600: 0.087411, train accuarcy : 0.914754\n",
      "Loss at step 1800: 0.087941, train accuarcy : 0.908197\n",
      "Loss at step 2000: 0.076235, train accuarcy : 0.927869\n",
      "Loss at step 2200: 0.076638, train accuarcy : 0.934426\n",
      "Loss at step 2400: 0.072619, train accuarcy : 0.927869\n",
      "Loss at step 2600: 0.071037, train accuarcy : 0.950820\n",
      "Loss at step 2800: 0.067215, train accuarcy : 0.921311\n",
      "Loss at step 3000: 0.066230, train accuarcy : 0.937705\n",
      "test loss :  0.0670664\n",
      "cross validation  7\n",
      "Initialized\n",
      "Loss at step 0: 1.991166, train accuarcy : 0.144262\n",
      "Loss at step 200: 0.157241, train accuarcy : 0.865574\n",
      "Loss at step 400: 0.127200, train accuarcy : 0.911475\n",
      "Loss at step 600: 0.108383, train accuarcy : 0.895082\n",
      "Loss at step 800: 0.098776, train accuarcy : 0.918033\n",
      "Loss at step 1000: 0.090849, train accuarcy : 0.934426\n",
      "Loss at step 1200: 0.088936, train accuarcy : 0.888525\n",
      "Loss at step 1400: 0.079349, train accuarcy : 0.911475\n",
      "Loss at step 1600: 0.078817, train accuarcy : 0.934426\n",
      "Loss at step 1800: 0.079458, train accuarcy : 0.924590\n",
      "Loss at step 2000: 0.068944, train accuarcy : 0.944262\n",
      "Loss at step 2200: 0.068519, train accuarcy : 0.950820\n",
      "Loss at step 2400: 0.066484, train accuarcy : 0.927869\n",
      "Loss at step 2600: 0.064278, train accuarcy : 0.940984\n",
      "Loss at step 2800: 0.060441, train accuarcy : 0.931148\n",
      "Loss at step 3000: 0.060935, train accuarcy : 0.963934\n",
      "test loss :  0.0614344\n",
      "cross validation  8\n",
      "Initialized\n",
      "Loss at step 0: 1.219695, train accuarcy : 0.350820\n",
      "Loss at step 200: 0.136511, train accuarcy : 0.898361\n",
      "Loss at step 400: 0.110478, train accuarcy : 0.908197\n",
      "Loss at step 600: 0.093541, train accuarcy : 0.924590\n",
      "Loss at step 800: 0.084073, train accuarcy : 0.927869\n",
      "Loss at step 1000: 0.080339, train accuarcy : 0.950820\n",
      "Loss at step 1200: 0.081014, train accuarcy : 0.904918\n",
      "Loss at step 1400: 0.076039, train accuarcy : 0.901639\n",
      "Loss at step 1600: 0.070872, train accuarcy : 0.924590\n",
      "Loss at step 1800: 0.073175, train accuarcy : 0.934426\n",
      "Loss at step 2000: 0.062515, train accuarcy : 0.947541\n",
      "Loss at step 2200: 0.063138, train accuarcy : 0.950820\n",
      "Loss at step 2400: 0.061243, train accuarcy : 0.927869\n",
      "Loss at step 2600: 0.060814, train accuarcy : 0.944262\n"
     ]
    },
    {
     "name": "stdout",
     "output_type": "stream",
     "text": [
      "Loss at step 2800: 0.058391, train accuarcy : 0.954098\n",
      "Loss at step 3000: 0.058482, train accuarcy : 0.957377\n",
      "test loss :  0.0578941\n",
      "cross validation  9\n",
      "Initialized\n",
      "Loss at step 0: 0.538493, train accuarcy : 0.478689\n",
      "Loss at step 200: 0.115322, train accuarcy : 0.914754\n",
      "Loss at step 400: 0.094822, train accuarcy : 0.921311\n",
      "Loss at step 600: 0.079085, train accuarcy : 0.944262\n",
      "Loss at step 800: 0.070417, train accuarcy : 0.940984\n",
      "Loss at step 1000: 0.070743, train accuarcy : 0.947541\n",
      "Loss at step 1200: 0.073801, train accuarcy : 0.924590\n",
      "Loss at step 1400: 0.067774, train accuarcy : 0.914754\n",
      "Loss at step 1600: 0.065445, train accuarcy : 0.924590\n",
      "Loss at step 1800: 0.057062, train accuarcy : 0.950820\n",
      "Loss at step 2000: 0.058204, train accuarcy : 0.957377\n",
      "Loss at step 2200: 0.059261, train accuarcy : 0.957377\n",
      "Loss at step 2400: 0.057132, train accuarcy : 0.954098\n",
      "Loss at step 2600: 0.055871, train accuarcy : 0.954098\n",
      "Loss at step 2800: 0.055045, train accuarcy : 0.947541\n",
      "Loss at step 3000: 0.053351, train accuarcy : 0.960656\n",
      "test loss :  0.0547697\n"
     ]
    }
   ],
   "source": [
    "training_steps = 3001\n",
    "test_loss_list, test_logits_list = [], []\n",
    "\n",
    "for i in range(0, 10):\n",
    "    batch_start=0\n",
    "    print(\"cross validation \", i)\n",
    "    batch_start = 0\n",
    "    train_x = train_x_list[i]\n",
    "    train_y = train_y_list[i]\n",
    "    config = tf.ConfigProto(allow_soft_placement=True)\n",
    "    with tf.Session(graph=graph, config=config) as session:\n",
    "#         saver.restore(session, tf.train.latest_checkpoint('lstm_check'))\n",
    "    #     saver.restore(session, \"lstm_check/my-model-gpu-error-metric-dropout2.ckpt-6000\")\n",
    "        tf.global_variables_initializer().run()\n",
    "        print('Initialized')\n",
    "        for step in range(training_steps):      \n",
    "            feed_dict = {X: train_x[batch_start:batch_start+batch_size], Y: train_y[batch_start:batch_start+batch_size]}\n",
    "            _, l, predictions, m = session.run([optimizer, loss, logits, mean_train], feed_dict = feed_dict)\n",
    "            if (step % 200 == 0):\n",
    "                train_accuarcy = cal_accuarcy(train_y[batch_start:batch_start+batch_size], predictions)\n",
    "                print('Loss at step %d: %f, train accuarcy : %f' % (step, l, train_accuarcy))\n",
    "                #train accuarcy\n",
    "            if (step % 1000 == 0):\n",
    "                saver.save(session, 'lstm_check/my-model-gpu-error-metric-dropout2-na-10fold-'+str(i)+'-.ckpt', global_step=step+6000)\n",
    "            batch_start += batch_size\n",
    "            if(batch_start>=train_length):\n",
    "                batch_start -=train_length\n",
    "        valid_loss, valid_logits = session.run([loss,logits], feed_dict={X: valid_x_list[i], Y: valid_y_list[i]})\n",
    "        print(\"test loss : \", valid_loss)\n",
    "        cal_accuarcy(valid_y_list[i], valid_logits)\n",
    "\n",
    "        test_loss, test_logits = [], []\n",
    "        for i in range(len(test_x)):\n",
    "            test_loss_part, test_logits_part = session.run([loss,logits], feed_dict={X: test_x[i], Y: test_y[i]})\n",
    "            test_loss.append(test_loss_part)\n",
    "            test_logits.append(test_logits_part)\n",
    "\n",
    "        test_loss_list.append(test_loss)\n",
    "        test_logits_list.append(test_logits)\n"
   ]
  },
  {
   "cell_type": "code",
   "execution_count": 39,
   "metadata": {},
   "outputs": [],
   "source": [
    "# with tf.Session(graph=graph, config=config) as session:\n",
    "#     saver.restore(session, \"lstm_check/my-model-gpu-error-metric-dropout2-na-10fold-9-.ckpt-7000\")\n",
    "#     print('Test')\n",
    "\n",
    "#     test_loss, test_logits = [], []\n",
    "#     for i in range(len(test_x)):\n",
    "#         test_loss_part, test_logits_part = session.run([loss,logits], feed_dict={X: test_x[i], Y: test_y[i]})\n",
    "#         test_loss.append(test_loss_part)\n",
    "#         test_logits.append(test_logits_part)"
   ]
  },
  {
   "cell_type": "code",
   "execution_count": 82,
   "metadata": {},
   "outputs": [
    {
     "name": "stdout",
     "output_type": "stream",
     "text": [
      "60\n",
      "60\n"
     ]
    },
    {
     "data": {
      "image/png": "[encoded data removed]",
      "text/plain": [
       "<matplotlib.figure.Figure at 0x7f97c67e35c0>"
      ]
     },
     "metadata": {},
     "output_type": "display_data"
    }
   ],
   "source": [
    "print(len(test_y))\n",
    "print(len(test_logits_list[0]))\n",
    "\n",
    "index = 3\n",
    "index1= 6\n",
    "\n",
    "test_logits = test_logits_list[index]\n",
    "\n",
    "\n",
    "plt.figure(figsize=(18, 5))\n",
    "start=0\n",
    "end=2000\n",
    "plt.plot([i[0] for i in test_y[index1][start:end]], 'r')\n",
    "plt.plot([i[0] for i in test_logits[index1][start:end]], 'b')\n",
    "plt.show()"
   ]
  },
  {
   "cell_type": "code",
   "execution_count": 83,
   "metadata": {},
   "outputs": [
    {
     "name": "stdout",
     "output_type": "stream",
     "text": [
      "test loss :  [0.43742341, 0.49279335, 0.48377711, 0.45992172, 0.31055543, 0.2776238, 0.28714979, 0.20997767, 0.50978547, 0.49650416, 0.43198889, 0.34714606, 0.24517891, 0.2816045, 0.21621172, 0.22771773, 0.45518839, 0.48195004, 0.23568814, 0.32158303, 0.51808208, 0.49870557, 0.41520962, 0.51115841, 0.47128329, 0.46562916, 0.43344927, 0.47203407, 0.30405137, 0.25219014, 0.23898894, 0.32968357, 0.2156038, 0.24664512, 0.23360074, 0.26102039, 0.50621349, 0.55654508, 0.58421385, 0.58921117, 0.56259441, 0.58949822, 0.60407847, 0.24267836, 0.30881444, 0.29489267, 0.38755354, 0.30705631, 0.40147823, 0.3578065, 0.3218309, 0.50153124, 0.47577667, 0.49978906, 0.46257272, 0.17053367, 0.2679916, 0.25430578, 0.27491683, 0.21575552]\n"
     ]
    }
   ],
   "source": [
    "print(\"test loss : \", test_loss)"
   ]
  },
  {
   "cell_type": "code",
   "execution_count": 84,
   "metadata": {},
   "outputs": [
    {
     "name": "stdout",
     "output_type": "stream",
     "text": [
      "60\n",
      "35\n",
      "50\n",
      "13963\n",
      "27338\n",
      "test accuarcy :  0.5107542614675543\n"
     ]
    }
   ],
   "source": [
    "print(len(test_logits))\n",
    "print(len(test_logits[0]))\n",
    "print(len(test_logits[0][0]))  \n",
    "\n",
    "test_y_seq_list, test_logits_bin_list = [], []\n",
    "\n",
    "for t in test_logits:  \n",
    "    t_all = [i for i in t[0]]\n",
    "    t_all.extend([i[-1] for i in t[1:]])\n",
    "#     print(len(t_all)-len(t))\n",
    "    \n",
    "    test_logits_part = [[round(i[0])] for i in t_all]\n",
    "    for i in range(1, len(test_logits_part)-1):\n",
    "        if(test_logits_part[i-1][0]!=test_logits_part[i][0] and test_logits_part[i-1][0]==test_logits_part[i+1][0]):\n",
    "            test_logits_part[i][0]=test_logits_part[i-1][0]    \n",
    "    test_logits_bin_list.append(test_logits_part)\n",
    "    \n",
    "for t in test_y:  \n",
    "    t_all = [i for i in t[0]]\n",
    "    t_all.extend([i[-1] for i in t[1:]])\n",
    "    test_y_seq_list.append(t_all)\n",
    "\n",
    "# print(test_y_seq_list)\n",
    "    \n",
    "count = 0\n",
    "total = 0\n",
    "for i in range(0, len(test_y_seq_list)):\n",
    "    total += len(test_y_seq_list[i])\n",
    "    for j in range(0, len(test_y_seq_list[i])):\n",
    "        if(test_y_seq_list[i][j][0] == test_logits_bin_list[i][j][0]):\n",
    "            count += 1\n",
    "\n",
    "print(count)\n",
    "print(total)\n",
    "print(\"test accuarcy : \", count*1.0/total)"
   ]
  },
  {
   "cell_type": "code",
   "execution_count": 85,
   "metadata": {},
   "outputs": [
    {
     "data": {
      "image/png": "[encoded data removed]",
      "text/plain": [
       "<matplotlib.figure.Figure at 0x7f97a177cac8>"
      ]
     },
     "metadata": {},
     "output_type": "display_data"
    }
   ],
   "source": [
    "ii = 13\n",
    "\n",
    "start=0\n",
    "end=500\n",
    "\n",
    "plt.figure(figsize=(18, 5))\n",
    "plt.plot([i[0] for i in test_y_seq_list[ii][start:end]], 'r')\n",
    "plt.plot([i[0] for i in test_logits_bin_list[ii][start:end]], 'b')\n",
    "plt.show()"
   ]
  },
  {
   "cell_type": "code",
   "execution_count": 86,
   "metadata": {},
   "outputs": [
    {
     "name": "stdout",
     "output_type": "stream",
     "text": [
      "Step number for each segement\n",
      "[5, 10, 58, 8, 5, 10, 58, 8, 8, 84, 12, 7, 8, 84, 12, 7, 79, 22, 79, 22, 20, 80, 10, 79, 11, 60, 10, 54, 20, 80, 10, 79, 11, 60, 10, 54, 6, 26, 44, 20, 27, 21, 82, 6, 26, 44, 20, 27, 21, 82, 4, 30, 3, 77, 6, 4, 30, 3, 77, 6]\n",
      "[7, 11, 58, 9, 7, 10, 67, 9, 10, 86, 12, 7, 8, 90, 12, 8, 69, 24, 97, 25, 17, 82, 13, 82, 12, 59, 11, 55, 22, 100, 14, 91, 11, 70, 10, 65, 7, 27, 44, 20, 28, 21, 85, 9, 31, 64, 22, 36, 22, 108, 6, 29, 4, 79, 8, 4, 33, 5, 94, 6]\n",
      "======\n",
      "[12, 26, 40, 55, 69, 82, 96, 110, 124, 137, 153, 164, 177, 191, 205, 218, 233, 246, 261, 275, 288, 302, 316, 330, 343, 359, 372, 387, 399, 412, 427, 440, 453, 467, 483, 495, 510, 525, 538, 553, 566, 581, 594, 609, 623, 637, 650, 665, 679, 694, 709, 723, 738, 753, 767, 782, 796, 812, 825, 840, 854, 869, 884, 897, 911, 925, 939, 955, 969, 983, 998, 1012, 1027, 1042, 1056, 1070, 1086, 1098, 1113, 1129, 1143, 1160, 1173, 1189]\n",
      "[0, 19.0, 33.0, 47.5, 62.0, 75.5, 89.0, 103.0, 117.0, 130.5, 145.0, 158.5, 170.5, 184.0, 198.0, 211.5, 225.5, 239.5, 253.5, 268.0, 281.5, 295.0, 309.0, 323.0, 336.5, 351.0, 365.5, 379.5, 393.0, 405.5, 419.5, 433.5, 446.5, 460.0, 475.0, 489.0, 502.5, 517.5, 531.5, 545.5, 559.5, 573.5, 587.5, 601.5, 616.0, 630.0, 643.5, 657.5, 672.0, 686.5, 701.5, 716.0, 730.5, 745.5, 760.0, 774.5, 789.0, 804.0, 818.5, 832.5, 847.0, 861.5, 876.5, 890.5, 904.0, 918.0, 932.0, 947.0, 962.0, 976.0, 990.5, 1005.0, 1019.5, 1034.5, 1049.0, 1063.0, 1078.0, 1092.0, 1105.5, 1121.0, 1136.0, 1151.5, 1166.5, 1181.0, 2378]\n",
      "[2, 13, 26, 43, 58, 72, 84, 103, 112, 128, 140, 154, 165, 181, 194, 208, 221, 235, 247, 268, 275, 291, 304, 320, 335, 347, 359, 374, 376, 380, 389, 408, 415, 429, 445, 457, 473, 491, 498, 513, 527, 547, 558, 575, 585, 603, 611, 629, 639, 640, 653, 668, 683, 685, 687, 697, 711, 727, 740, 757, 770, 787, 801, 813, 834, 842, 863, 871, 886, 899, 915, 929, 947, 957, 972, 985, 1001, 1014, 1036, 1044, 1060, 1071, 1086, 1099, 1116, 1128, 1147, 1160, 1176, 1189]\n"
     ]
    }
   ],
   "source": [
    "step_time_actual, step_time_predict= [], []\n",
    "step_time_actual_gap = []\n",
    "\n",
    "#test_y_seq_list, test_logits_bin_list\n",
    "for i in range(0, len(test_y_seq_list)):\n",
    "    step_time_actual_part, step_time_predict_part= [], []\n",
    "    for j in range(1, len(test_y_seq_list[i])):\n",
    "        if(abs(test_y_seq_list[i][j][0]-test_y_seq_list[i][j-1][0])>0.5):\n",
    "            step_time_actual_part.append(j)\n",
    "    #     if(abs(test_logits[i][0]-test_logits[i-1][0])>0.5):\n",
    "        if(abs(test_logits_bin_list[i][j][0]-test_logits_bin_list[i][j-1][0])>0.5):\n",
    "            step_time_predict_part.append(j)\n",
    "    step_time_actual.append(step_time_actual_part)\n",
    "    step_time_predict.append(step_time_predict_part)\n",
    "    \n",
    "    step_time_actual_gap_part = []\n",
    "    step_time_actual_gap_part.append(0)\n",
    "#     step_time_actual_gap_part.append(step_time_actual_part[0]/2.0)\n",
    "    for i in range(1, len(step_time_actual_part)):\n",
    "        step_time_actual_gap_part.append((step_time_actual_part[i-1]+step_time_actual_part[i])/2.0)\n",
    "    step_time_actual_gap_part.append(step_time_actual_part[-1]*2)\n",
    "    step_time_actual_gap.append(step_time_actual_gap_part)\n",
    "\n",
    "print('Step number for each segement')\n",
    "print([len(i) for i in step_time_actual])   \n",
    "print([len(i) for i in step_time_predict])\n",
    "\n",
    "print('======')\n",
    "iii = 13\n",
    "print(step_time_actual[iii])\n",
    "print(step_time_actual_gap[iii])\n",
    "print(step_time_predict[iii])"
   ]
  },
  {
   "cell_type": "code",
   "execution_count": 87,
   "metadata": {},
   "outputs": [
    {
     "name": "stdout",
     "output_type": "stream",
     "text": [
      "60\n",
      "60\n",
      "449\n",
      "[4, 3, 10, 4, 3, 1, 17, 1, 2, 20, 5, 3, 1, 17, 1, 1, 6, 4, 25, 7, 0, 10, 5, 18, 4, 11, 5, 15, 5, 23, 4, 17, 0, 13, 2, 15, 4, 1, 1, 1, 1, 2, 4, 3, 7, 28, 4, 10, 5, 36, 4, 3, 1, 16, 4, 1, 6, 2, 22, 1]\n",
      "60\n",
      "221\n",
      "[2, 1, 0, 1, 2, 0, 9, 1, 2, 2, 0, 0, 0, 6, 0, 1, 0, 2, 18, 3, 0, 2, 3, 3, 1, 0, 1, 1, 2, 20, 4, 12, 0, 10, 0, 11, 1, 1, 0, 0, 1, 0, 3, 3, 5, 20, 2, 9, 1, 26, 2, 0, 1, 2, 2, 0, 3, 2, 17, 0]\n",
      "error : \n",
      "total undercount metric 1:\t 0.20041536863966772\n",
      "total overcount metric 1:\t 0.2720664589823468\n",
      "total undercount metric 2:\t 0.1261682242990654\n",
      "total overcount metric 2:\t 0.23312564901349947\n",
      "total undercount metric 3:\t 0.00778816199376947\n",
      "total overcount metric 3:\t 0.11474558670820353\n"
     ]
    }
   ],
   "source": [
    "total_step_count = sum([len(i) for i in step_time_actual])\n",
    "metric1_undercount = 0\n",
    "metric2_undercount = 0\n",
    "metric3_undercount = 0\n",
    "metric1_overcount = 0\n",
    "metric2_overcount = 0\n",
    "metric3_overcount = 0\n",
    "\n",
    "metric2_overcount_list = []\n",
    "metric3_overcount_list = []\n",
    "\n",
    "print(len(test_x))\n",
    "\n",
    "for i in range(len(test_x)):\n",
    "    step_count = len(step_time_actual[i])\n",
    "    undercount = 0\n",
    "    overcount = 0\n",
    "\n",
    "    for j in range(1, step_count):\n",
    "        gap_count = [t for t in step_time_predict[i] if t>=step_time_actual[i][j-1] and t<step_time_actual[i][j]]\n",
    "    #     print(gap_count)\n",
    "        if(len(gap_count)>1):\n",
    "            overcount += len(gap_count)-1\n",
    "        if(len(gap_count)<1):\n",
    "            undercount += 1\n",
    "    gap_count = [t for t in step_time_predict[i] if t>=step_time_actual[i][-1]]\n",
    "    if(len(gap_count)>1):\n",
    "        overcount += len(gap_count)-1\n",
    "    if(len(gap_count)<1):\n",
    "        undercount += 1\n",
    "    \n",
    "    metric1_undercount += undercount\n",
    "    metric1_overcount += overcount\n",
    "    \n",
    "    undercount = 0\n",
    "    overcount = 0\n",
    "    for j in range(1, len(step_time_actual_gap[i])):\n",
    "        gap_count = [t for t in step_time_predict[i] if t>=step_time_actual_gap[i][j-1] and t<step_time_actual_gap[i][j]]\n",
    "    #     print(gap_count)\n",
    "        if(len(gap_count)>1):\n",
    "            overcount += (len(gap_count)-1)\n",
    "        if(len(gap_count)<1):\n",
    "            undercount += 1    \n",
    "    \n",
    "    metric2_undercount += undercount\n",
    "    metric2_overcount += overcount  \n",
    "    metric2_overcount_list.append(overcount)\n",
    "    \n",
    "#     print(undercount, overcount)\n",
    "#     print('undercount : ', undercount*1.0/step_count)\n",
    "#     print('overcount : ', overcount*1.0/step_count)\n",
    "    diff = len(step_time_predict[i])-len(step_time_actual[i])\n",
    "#     if(diff==0):\n",
    "#         print(\"segement correct!\")\n",
    "\n",
    "    if(diff<0):\n",
    "#         print('segement undercount : ', 1-len(step_time_predict[i])*1.0/len(step_time_actual[i]))\n",
    "        metric3_undercount -= diff\n",
    "        metric3_overcount_list.append(0)\n",
    "#     if(diff>=0):\n",
    "    else:\n",
    "#         print('segement overcount : ', 1-len(step_time_actual[i])*1.0/len(step_time_predict[i]))\n",
    "        metric3_overcount += diff\n",
    "        metric3_overcount_list.append(diff)\n",
    "\n",
    "print(len(metric2_overcount_list))\n",
    "print(sum(metric2_overcount_list))\n",
    "print(metric2_overcount_list)\n",
    "print(len(metric3_overcount_list))\n",
    "print(sum(metric3_overcount_list))\n",
    "print(metric3_overcount_list)\n",
    "        \n",
    "print('error : ')\n",
    "print(\"total undercount metric 1:\\t\", metric1_undercount*1.0/total_step_count)\n",
    "print(\"total overcount metric 1:\\t\", metric1_overcount*1.0/total_step_count)\n",
    "print(\"total undercount metric 2:\\t\", metric2_undercount*1.0/total_step_count)\n",
    "print(\"total overcount metric 2:\\t\", metric2_overcount*1.0/total_step_count)\n",
    "print(\"total undercount metric 3:\\t\", metric3_undercount*1.0/total_step_count)\n",
    "print(\"total overcount metric 3:\\t\", metric3_overcount*1.0/total_step_count)"
   ]
  },
  {
   "cell_type": "markdown",
   "metadata": {
    "collapsed": true
   },
   "source": [
    "# index = 1\n",
    "total undercount metric 1 :  0.22154471544715448\n",
    "total overcount metric 1 :  0.2073170731707317\n",
    "total undercount metric 2 :  0.016260162601626018\n",
    "total overcount metric 2 :  0.007452574525745257\n",
    "total undercount metric 3 :  0.011517615176151762\n",
    "total overcount metric 3 :  0.013550135501355014\n",
    "# index=2\n",
    "total undercount metric 1 :  0.22831978319783197\n",
    "total overcount metric 1 :  0.21747967479674796\n",
    "total undercount metric 2 :  0.014905149051490514\n",
    "total overcount metric 2 :  0.008807588075880758\n",
    "total undercount metric 3 :  0.008807588075880758\n",
    "total overcount metric 3 :  0.014227642276422764\n",
    "# index=3\n",
    "total undercount metric 1 :  0.19986449864498645\n",
    "total overcount metric 1 :  0.18834688346883469\n",
    "total undercount metric 2 :  0.014905149051490514\n",
    "total overcount metric 2 :  0.008807588075880758\n",
    "total undercount metric 3 :  0.008807588075880758\n",
    "total overcount metric 3 :  0.01016260162601626\n",
    "# index=4\n",
    "total undercount metric 1 :  0.22560975609756098\n",
    "total overcount metric 1 :  0.21544715447154472\n",
    "total undercount metric 2 :  0.014905149051490514\n",
    "total overcount metric 2 :  0.008130081300813009\n",
    "total undercount metric 3 :  0.009485094850948509\n",
    "total overcount metric 3 :  0.01084010840108401\n"
   ]
  },
  {
   "cell_type": "code",
   "execution_count": null,
   "metadata": {
    "collapsed": true
   },
   "outputs": [],
   "source": []
  }
 ],
 "metadata": {
  "kernelspec": {
   "display_name": "Python 3",
   "language": "python",
   "name": "python3"
  },
  "language_info": {
   "codemirror_mode": {
    "name": "ipython",
    "version": 3
   },
   "file_extension": ".py",
   "mimetype": "text/x-python",
   "name": "python",
   "nbconvert_exporter": "python",
   "pygments_lexer": "ipython3",
   "version": "3.6.3"
  }
 },
 "nbformat": 4,
 "nbformat_minor": 2
}
