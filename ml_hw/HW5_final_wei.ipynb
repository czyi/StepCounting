{
 "cells": [
  {
   "cell_type": "markdown",
   "metadata": {},
   "source": [
    "# HW5"
   ]
  },
  {
   "cell_type": "code",
   "execution_count": 2,
   "metadata": {
    "ExecuteTime": {
     "end_time": "2017-11-03T08:33:52.990820Z",
     "start_time": "2017-11-03T08:33:51.491967Z"
    }
   },
   "outputs": [
    {
     "name": "stdout",
     "output_type": "stream",
     "text": [
      "hdf5 is not supported on this machine (please install/reinstall h5py for optimal experience)\n"
     ]
    }
   ],
   "source": [
    "import pandas as pd\n",
    "import numpy as np\n",
    "import tensorflow as tf\n",
    "from nltk.tokenize import TweetTokenizer\n",
    "from tensorflow.contrib import rnn\n",
    "from collections import Counter\n",
    "import tflearn\n",
    "import gensim\n",
    "%matplotlib inline"
   ]
  },
  {
   "cell_type": "code",
   "execution_count": 4,
   "metadata": {
    "ExecuteTime": {
     "end_time": "2017-11-03T08:33:53.016235Z",
     "start_time": "2017-11-03T08:33:52.993372Z"
    },
    "collapsed": true
   },
   "outputs": [],
   "source": [
    "train_data = pd.read_csv(\"./train.csv\")\n",
    "X_train = train_data[\"tweet\"]\n",
    "y_train = train_data.handle.map({\"HillaryClinton\": np.array([1.0,0]), \"realDonaldTrump\": np.array([0,1.0])})\n",
    "y_train = np.array(y_train.tolist(),dtype=float)\n",
    "\n",
    "test_data = pd.read_csv('./new_test.csv')\n",
    "X_test = test_data[\"tweet\"]\n",
    "y_test = test_data.handle.map({\"HillaryClinton\": np.array([1.0,0]), \"realDonaldTrump\": np.array([0,1.0])})\n",
    "y_test = np.array(y_test.tolist(),dtype=float)"
   ]
  },
  {
   "cell_type": "code",
   "execution_count": 3,
   "metadata": {
    "collapsed": true
   },
   "outputs": [],
   "source": [
    "# model = {}\n",
    "# glove_data = 'data/glove.twitter.27B.25d.txt'\n",
    "# f = open(glove_data)\n",
    "# for line in f:\n",
    "#     values = line.split()\n",
    "#     word = values[0]\n",
    "#     value = np.asarray(values[1:], dtype='float32')\n",
    "#     model[word] = value\n",
    "# f.close()"
   ]
  },
  {
   "cell_type": "code",
   "execution_count": 5,
   "metadata": {
    "ExecuteTime": {
     "end_time": "2017-11-03T08:33:53.134920Z",
     "start_time": "2017-11-03T08:33:53.018616Z"
    },
    "collapsed": true
   },
   "outputs": [],
   "source": [
    "def tokenize(tknzr,tweet):\n",
    "    try:\n",
    "        tweet = tweet.lower()\n",
    "        tokens = tknzr.tokenize(tweet)\n",
    "        tokens = map(lambda t: t if not t.startswith('http') else '<url>', tokens)\n",
    "#         tokens = filter(lambda t: t not in stopwords.words('english'),tokens)\n",
    "        return tokens\n",
    "    except:\n",
    "        return 'NC'"
   ]
  },
  {
   "cell_type": "code",
   "execution_count": 6,
   "metadata": {
    "ExecuteTime": {
     "end_time": "2017-11-03T08:33:53.841430Z",
     "start_time": "2017-11-03T08:33:53.136560Z"
    },
    "collapsed": true
   },
   "outputs": [],
   "source": [
    "tknzr = TweetTokenizer()\n",
    "train_count=0\n",
    "X_train_tk = []\n",
    "for i in range(X_train.shape[0]):\n",
    "    token_tmp = tokenize(tknzr,X_train[i])\n",
    "    tmp = []\n",
    "    for word in token_tmp:\n",
    "        if word[0]=='#' and word!='#':\n",
    "            tmp.append('<hashtag>')\n",
    "            tmp.append(word[1:].lower())\n",
    "        elif word[0]=='@' and word!='@':\n",
    "            tmp.append('<user>')\n",
    "            tmp.append(word[1:].lower())\n",
    "        elif word[0].isdigit():\n",
    "            tmp.append('<number>')\n",
    "        else:\n",
    "            tmp.append(word)\n",
    "    \n",
    "    train_count = max(train_count,len(tmp))\n",
    "    X_train_tk.append(tmp)    \n",
    "\n",
    "test_count = 0\n",
    "X_test_tk = []\n",
    "for i in range(X_test.shape[0]):\n",
    "    token_tmp = tokenize(tknzr,X_test[i])\n",
    "    tmp = []\n",
    "    for word in token_tmp:\n",
    "        if word[0]=='#' and word!='#':\n",
    "            tmp.append('<hashtag>')\n",
    "            tmp.append(word[1:].lower())\n",
    "        elif word[0]=='@' and word!='@':\n",
    "            tmp.append('<user>')\n",
    "            tmp.append(word[1:].lower())\n",
    "        elif word[0].isdigit():\n",
    "            tmp.append('<number>')\n",
    "        else:\n",
    "            tmp.append(word)\n",
    "    \n",
    "    test_count = max(train_count,len(tmp))\n",
    "    X_test_tk.append(tmp)  \n",
    "\n",
    "model = gensim.models.Word2Vec(X_train_tk+X_test_tk,min_count=1,size=25,iter=8)"
   ]
  },
  {
   "cell_type": "code",
   "execution_count": 7,
   "metadata": {
    "collapsed": true
   },
   "outputs": [],
   "source": [
    "X_test_tk = X_test_tk +X_test_tk[-66:]\n",
    "y_test = np.vstack((y_test,y_test[-66:,:]))"
   ]
  },
  {
   "cell_type": "code",
   "execution_count": 8,
   "metadata": {
    "ExecuteTime": {
     "end_time": "2017-11-03T08:33:53.891129Z",
     "start_time": "2017-11-03T08:33:53.842898Z"
    },
    "collapsed": true
   },
   "outputs": [],
   "source": [
    "vocab_list = []\n",
    "for word_list in X_train_tk:\n",
    "    vocab_list += word_list\n",
    "count = Counter(vocab_list)\n",
    "\n",
    "vocab_dict = dict()\n",
    "embedding_matrix = np.empty((0,25),float)\n",
    "\n",
    "for word in count:\n",
    "    vocab_dict[word] = len(vocab_dict)\n",
    "    embedding_matrix = np.vstack((embedding_matrix,model[word]))"
   ]
  },
  {
   "cell_type": "code",
   "execution_count": 9,
   "metadata": {
    "ExecuteTime": {
     "end_time": "2017-11-03T08:33:53.992216Z",
     "start_time": "2017-11-03T08:33:53.892789Z"
    },
    "collapsed": true
   },
   "outputs": [],
   "source": [
    "X_train_vec = []\n",
    "X_train_length = []\n",
    "for i in range(len(X_train_tk)):\n",
    "    tmp = []\n",
    "    for word in X_train_tk[i]:\n",
    "        tmp.append(vocab_dict[word])\n",
    "    tmp = np.array(tmp)\n",
    "    X_train_vec.append(tmp)\n",
    "    X_train_length.append(len(tmp))\n",
    "X_train_vec=np.array(X_train_vec)\n",
    "X_train_length=np.array(X_train_length)\n",
    "\n",
    "X_test_vec = []\n",
    "X_test_length = []\n",
    "for i in range(len(X_test_tk)):\n",
    "    tmp = []\n",
    "    for word in X_test_tk[i]:\n",
    "        if word in vocab_dict:\n",
    "            tmp.append(vocab_dict[word])\n",
    "    tmp = np.array(tmp)\n",
    "    X_test_vec.append(tmp)\n",
    "    X_test_length.append(len(tmp))\n",
    "X_test_vec = np.array(X_test_vec)\n",
    "X_test_length=np.array(X_test_length)"
   ]
  },
  {
   "cell_type": "code",
   "execution_count": 10,
   "metadata": {
    "ExecuteTime": {
     "end_time": "2017-11-03T08:33:54.078725Z",
     "start_time": "2017-11-03T08:33:53.994799Z"
    },
    "collapsed": true
   },
   "outputs": [],
   "source": [
    "X_train_pad = tflearn.data_utils.pad_sequences(X_train_vec)\n",
    "X_test_pad = tflearn.data_utils.pad_sequences(X_test_vec,maxlen=X_train_pad.shape[1])"
   ]
  },
  {
   "cell_type": "code",
   "execution_count": 11,
   "metadata": {
    "ExecuteTime": {
     "end_time": "2017-11-03T08:33:54.146583Z",
     "start_time": "2017-11-03T08:33:54.081225Z"
    },
    "collapsed": true
   },
   "outputs": [],
   "source": [
    "# Training Parameters\n",
    "training_steps = 20\n",
    "batch_size = 93\n",
    "display_step = 50\n",
    "embed_size = 25\n",
    "\n",
    "# Network Parameters\n",
    "num_input = 1 # MNIST data input (img shape: 28*28)\n",
    "time_step = X_train_pad.shape[1]\n",
    "num_hidden = 20 # hidden layer num of features\n",
    "num_classes = 2 # MNIST total classes (0-9 digits)\n",
    "\n",
    "# tf Graph input\n",
    "X = tf.placeholder(tf.int32, [None, time_step])\n",
    "X_length = tf.placeholder(tf.int32,[None])\n",
    "embedding =tf.Variable(embedding_matrix)\n",
    "Y = tf.placeholder(tf.float16,[None,num_classes])"
   ]
  },
  {
   "cell_type": "code",
   "execution_count": 12,
   "metadata": {
    "ExecuteTime": {
     "end_time": "2017-11-03T08:33:54.346120Z",
     "start_time": "2017-11-03T08:33:54.148496Z"
    },
    "collapsed": true
   },
   "outputs": [],
   "source": [
    "# Define weights\n",
    "weights = {\n",
    "    'out': tf.Variable(tf.random_normal([num_hidden, num_classes]))\n",
    "}\n",
    "biases = {\n",
    "    'out': tf.Variable(tf.random_normal([num_classes]))\n",
    "}"
   ]
  },
  {
   "cell_type": "code",
   "execution_count": 13,
   "metadata": {
    "ExecuteTime": {
     "end_time": "2017-11-03T08:33:54.368084Z",
     "start_time": "2017-11-03T08:33:54.348242Z"
    },
    "collapsed": true
   },
   "outputs": [],
   "source": [
    "def RNN(x,x_length,weights, biases):\n",
    "\n",
    "    # Prepare data shape to match `rnn` function requirements\n",
    "    # Current data input shape: (batch_size, timesteps, n_input)\n",
    "    # Required shape: 'timesteps' tensors list of shape (batch_size, n_input)\n",
    "\n",
    "    # Unstack to get a list of 'timesteps' tensors of shape (batch_size, n_input)\n",
    "    batch_size_tmp = tf.shape(x)[0]\n",
    "    embedding = tf.get_variable('embedding', [len(vocab_dict), embed_size])\n",
    "    embed = [tf.nn.embedding_lookup(embedding,row) for row in tf.split(x,batch_size)]\n",
    "    embed = tf.reshape(embed,(batch_size_tmp,time_step,embed_size))\n",
    "    embed = tf.unstack(embed,time_step,1)\n",
    "    # Define a lstm cell with tensorflow\n",
    "    lstm_cell = rnn.BasicLSTMCell(num_hidden)#, forget_bias=1.0)\n",
    "\n",
    "\n",
    "    cell = tf.contrib.rnn.DropoutWrapper(lstm_cell, output_keep_prob=0.5)\n",
    "    cell = rnn.MultiRNNCell([cell] * 1)\n",
    "#     states_series, current_state = tf.nn.dynamic_rnn(cell, tf.expand_dims(batchX_placeholder, -1), initial_state=rnn_tuple_state)\n",
    "    # Get lstm cell output\n",
    "    outputs, states = rnn.static_rnn(cell, dtype=tf.float32,sequence_length=x_length,inputs=embed)\n",
    "    \n",
    "    # Linear activation, using rnn inner loop last output\n",
    "    outputs = tf.stack(outputs)\n",
    "    outputs = tf.transpose(outputs,[1,0,2])\n",
    "    \n",
    "    index = tf.range(0,batch_size_tmp)*X_train_pad.shape[1]+tf.reshape(x_length-1,[batch_size_tmp])\n",
    "    outputs = tf.gather(tf.reshape(outputs, [-1, num_hidden]), index)\n",
    "    \n",
    "    \n",
    "    return tf.matmul(outputs, weights['out']) + biases['out']"
   ]
  },
  {
   "cell_type": "code",
   "execution_count": 14,
   "metadata": {
    "ExecuteTime": {
     "end_time": "2017-11-03T08:34:00.727812Z",
     "start_time": "2017-11-03T08:33:54.369695Z"
    }
   },
   "outputs": [
    {
     "name": "stderr",
     "output_type": "stream",
     "text": [
      "/home/dlearner/.local/lib/python3.5/site-packages/tensorflow/python/ops/gradients_impl.py:96: UserWarning: Converting sparse IndexedSlices to a dense Tensor of unknown shape. This may consume a large amount of memory.\n",
      "  \"Converting sparse IndexedSlices to a dense Tensor of unknown shape. \"\n"
     ]
    }
   ],
   "source": [
    "logits = RNN(X,X_length, weights, biases)\n",
    "prediction = tf.nn.softmax(logits)\n",
    "tf.summary.histogram('logits',logits)\n",
    "\n",
    "# Define loss and optimizer\n",
    "loss_op = tf.reduce_mean(tf.nn.softmax_cross_entropy_with_logits(\n",
    "    logits=logits, labels=Y))\n",
    "\n",
    "optimizer = tf.train.AdamOptimizer()\n",
    "train_op = optimizer.minimize(loss_op)\n",
    "tf.summary.scalar('loss',loss_op)\n",
    "# Evaluate model (with test logits, for dropout to be disabled)\n",
    "\n",
    "correct_pred = tf.equal(tf.argmax(prediction, 1), tf.argmax(Y, 1))\n",
    "accuracy = tf.reduce_mean(tf.cast(correct_pred, tf.float32))\n",
    "tf.summary.scalar('accuracy',accuracy)\n",
    "\n",
    "# Initialize the variables (i.e. assign their default value)\n",
    "init = tf.global_variables_initializer()\n",
    "\n",
    "merged_summary = tf.summary.merge_all()\n",
    "writer = tf.summary.FileWriter('./log/hw5')"
   ]
  },
  {
   "cell_type": "code",
   "execution_count": 15,
   "metadata": {
    "collapsed": true
   },
   "outputs": [],
   "source": [
    "predict_all = []"
   ]
  },
  {
   "cell_type": "code",
   "execution_count": 34,
   "metadata": {
    "ExecuteTime": {
     "end_time": "2017-11-03T08:47:40.193455Z",
     "start_time": "2017-11-03T08:34:00.729786Z"
    },
    "scrolled": true
   },
   "outputs": [
    {
     "name": "stdout",
     "output_type": "stream",
     "text": [
      "Step 1, Minibatch Loss= 0.3925, Training Accuracy= 0.845\n",
      "Step 2, Minibatch Loss= 0.1985, Training Accuracy= 0.926\n",
      "Step 3, Minibatch Loss= 0.1638, Training Accuracy= 0.943\n",
      "Step 4, Minibatch Loss= 0.2053, Training Accuracy= 0.945\n",
      "Step 5, Minibatch Loss= 0.2013, Training Accuracy= 0.942\n"
     ]
    },
    {
     "ename": "KeyboardInterrupt",
     "evalue": "",
     "output_type": "error",
     "traceback": [
      "\u001b[0;31m---------------------------------------------------------------------------\u001b[0m",
      "\u001b[0;31mKeyboardInterrupt\u001b[0m                         Traceback (most recent call last)",
      "\u001b[0;32m<ipython-input-34-6c07bd90c787>\u001b[0m in \u001b[0;36m<module>\u001b[0;34m()\u001b[0m\n\u001b[1;32m     48\u001b[0m                 \u001b[0mbatch_x_length\u001b[0m \u001b[0;34m=\u001b[0m \u001b[0mbatch_x_length\u001b[0m\u001b[0;34m.\u001b[0m\u001b[0mreshape\u001b[0m\u001b[0;34m(\u001b[0m\u001b[0;34m(\u001b[0m\u001b[0;34m-\u001b[0m\u001b[0;36m1\u001b[0m\u001b[0;34m)\u001b[0m\u001b[0;34m)\u001b[0m\u001b[0;34m\u001b[0m\u001b[0m\n\u001b[1;32m     49\u001b[0m                 loss_tmp, acc_tmp = sess.run([loss_op, accuracy], feed_dict={X: batch_x,X_length:batch_x_length,\n\u001b[0;32m---> 50\u001b[0;31m                                                                      Y: batch_y})\n\u001b[0m\u001b[1;32m     51\u001b[0m                 \u001b[0mloss\u001b[0m\u001b[0;34m.\u001b[0m\u001b[0mappend\u001b[0m\u001b[0;34m(\u001b[0m\u001b[0mloss_tmp\u001b[0m\u001b[0;34m)\u001b[0m\u001b[0;34m\u001b[0m\u001b[0m\n\u001b[1;32m     52\u001b[0m                 \u001b[0macc\u001b[0m\u001b[0;34m.\u001b[0m\u001b[0mappend\u001b[0m\u001b[0;34m(\u001b[0m\u001b[0macc_tmp\u001b[0m\u001b[0;34m)\u001b[0m\u001b[0;34m\u001b[0m\u001b[0m\n",
      "\u001b[0;32m~/.local/lib/python3.5/site-packages/tensorflow/python/client/session.py\u001b[0m in \u001b[0;36mrun\u001b[0;34m(self, fetches, feed_dict, options, run_metadata)\u001b[0m\n\u001b[1;32m    887\u001b[0m     \u001b[0;32mtry\u001b[0m\u001b[0;34m:\u001b[0m\u001b[0;34m\u001b[0m\u001b[0m\n\u001b[1;32m    888\u001b[0m       result = self._run(None, fetches, feed_dict, options_ptr,\n\u001b[0;32m--> 889\u001b[0;31m                          run_metadata_ptr)\n\u001b[0m\u001b[1;32m    890\u001b[0m       \u001b[0;32mif\u001b[0m \u001b[0mrun_metadata\u001b[0m\u001b[0;34m:\u001b[0m\u001b[0;34m\u001b[0m\u001b[0m\n\u001b[1;32m    891\u001b[0m         \u001b[0mproto_data\u001b[0m \u001b[0;34m=\u001b[0m \u001b[0mtf_session\u001b[0m\u001b[0;34m.\u001b[0m\u001b[0mTF_GetBuffer\u001b[0m\u001b[0;34m(\u001b[0m\u001b[0mrun_metadata_ptr\u001b[0m\u001b[0;34m)\u001b[0m\u001b[0;34m\u001b[0m\u001b[0m\n",
      "\u001b[0;32m~/.local/lib/python3.5/site-packages/tensorflow/python/client/session.py\u001b[0m in \u001b[0;36m_run\u001b[0;34m(self, handle, fetches, feed_dict, options, run_metadata)\u001b[0m\n\u001b[1;32m   1118\u001b[0m     \u001b[0;32mif\u001b[0m \u001b[0mfinal_fetches\u001b[0m \u001b[0;32mor\u001b[0m \u001b[0mfinal_targets\u001b[0m \u001b[0;32mor\u001b[0m \u001b[0;34m(\u001b[0m\u001b[0mhandle\u001b[0m \u001b[0;32mand\u001b[0m \u001b[0mfeed_dict_tensor\u001b[0m\u001b[0;34m)\u001b[0m\u001b[0;34m:\u001b[0m\u001b[0;34m\u001b[0m\u001b[0m\n\u001b[1;32m   1119\u001b[0m       results = self._do_run(handle, final_targets, final_fetches,\n\u001b[0;32m-> 1120\u001b[0;31m                              feed_dict_tensor, options, run_metadata)\n\u001b[0m\u001b[1;32m   1121\u001b[0m     \u001b[0;32melse\u001b[0m\u001b[0;34m:\u001b[0m\u001b[0;34m\u001b[0m\u001b[0m\n\u001b[1;32m   1122\u001b[0m       \u001b[0mresults\u001b[0m \u001b[0;34m=\u001b[0m \u001b[0;34m[\u001b[0m\u001b[0;34m]\u001b[0m\u001b[0;34m\u001b[0m\u001b[0m\n",
      "\u001b[0;32m~/.local/lib/python3.5/site-packages/tensorflow/python/client/session.py\u001b[0m in \u001b[0;36m_do_run\u001b[0;34m(self, handle, target_list, fetch_list, feed_dict, options, run_metadata)\u001b[0m\n\u001b[1;32m   1315\u001b[0m     \u001b[0;32mif\u001b[0m \u001b[0mhandle\u001b[0m \u001b[0;32mis\u001b[0m \u001b[0;32mNone\u001b[0m\u001b[0;34m:\u001b[0m\u001b[0;34m\u001b[0m\u001b[0m\n\u001b[1;32m   1316\u001b[0m       return self._do_call(_run_fn, self._session, feeds, fetches, targets,\n\u001b[0;32m-> 1317\u001b[0;31m                            options, run_metadata)\n\u001b[0m\u001b[1;32m   1318\u001b[0m     \u001b[0;32melse\u001b[0m\u001b[0;34m:\u001b[0m\u001b[0;34m\u001b[0m\u001b[0m\n\u001b[1;32m   1319\u001b[0m       \u001b[0;32mreturn\u001b[0m \u001b[0mself\u001b[0m\u001b[0;34m.\u001b[0m\u001b[0m_do_call\u001b[0m\u001b[0;34m(\u001b[0m\u001b[0m_prun_fn\u001b[0m\u001b[0;34m,\u001b[0m \u001b[0mself\u001b[0m\u001b[0;34m.\u001b[0m\u001b[0m_session\u001b[0m\u001b[0;34m,\u001b[0m \u001b[0mhandle\u001b[0m\u001b[0;34m,\u001b[0m \u001b[0mfeeds\u001b[0m\u001b[0;34m,\u001b[0m \u001b[0mfetches\u001b[0m\u001b[0;34m)\u001b[0m\u001b[0;34m\u001b[0m\u001b[0m\n",
      "\u001b[0;32m~/.local/lib/python3.5/site-packages/tensorflow/python/client/session.py\u001b[0m in \u001b[0;36m_do_call\u001b[0;34m(self, fn, *args)\u001b[0m\n\u001b[1;32m   1321\u001b[0m   \u001b[0;32mdef\u001b[0m \u001b[0m_do_call\u001b[0m\u001b[0;34m(\u001b[0m\u001b[0mself\u001b[0m\u001b[0;34m,\u001b[0m \u001b[0mfn\u001b[0m\u001b[0;34m,\u001b[0m \u001b[0;34m*\u001b[0m\u001b[0margs\u001b[0m\u001b[0;34m)\u001b[0m\u001b[0;34m:\u001b[0m\u001b[0;34m\u001b[0m\u001b[0m\n\u001b[1;32m   1322\u001b[0m     \u001b[0;32mtry\u001b[0m\u001b[0;34m:\u001b[0m\u001b[0;34m\u001b[0m\u001b[0m\n\u001b[0;32m-> 1323\u001b[0;31m       \u001b[0;32mreturn\u001b[0m \u001b[0mfn\u001b[0m\u001b[0;34m(\u001b[0m\u001b[0;34m*\u001b[0m\u001b[0margs\u001b[0m\u001b[0;34m)\u001b[0m\u001b[0;34m\u001b[0m\u001b[0m\n\u001b[0m\u001b[1;32m   1324\u001b[0m     \u001b[0;32mexcept\u001b[0m \u001b[0merrors\u001b[0m\u001b[0;34m.\u001b[0m\u001b[0mOpError\u001b[0m \u001b[0;32mas\u001b[0m \u001b[0me\u001b[0m\u001b[0;34m:\u001b[0m\u001b[0;34m\u001b[0m\u001b[0m\n\u001b[1;32m   1325\u001b[0m       \u001b[0mmessage\u001b[0m \u001b[0;34m=\u001b[0m \u001b[0mcompat\u001b[0m\u001b[0;34m.\u001b[0m\u001b[0mas_text\u001b[0m\u001b[0;34m(\u001b[0m\u001b[0me\u001b[0m\u001b[0;34m.\u001b[0m\u001b[0mmessage\u001b[0m\u001b[0;34m)\u001b[0m\u001b[0;34m\u001b[0m\u001b[0m\n",
      "\u001b[0;32m~/.local/lib/python3.5/site-packages/tensorflow/python/client/session.py\u001b[0m in \u001b[0;36m_run_fn\u001b[0;34m(session, feed_dict, fetch_list, target_list, options, run_metadata)\u001b[0m\n\u001b[1;32m   1300\u001b[0m           return tf_session.TF_Run(session, options,\n\u001b[1;32m   1301\u001b[0m                                    \u001b[0mfeed_dict\u001b[0m\u001b[0;34m,\u001b[0m \u001b[0mfetch_list\u001b[0m\u001b[0;34m,\u001b[0m \u001b[0mtarget_list\u001b[0m\u001b[0;34m,\u001b[0m\u001b[0;34m\u001b[0m\u001b[0m\n\u001b[0;32m-> 1302\u001b[0;31m                                    status, run_metadata)\n\u001b[0m\u001b[1;32m   1303\u001b[0m \u001b[0;34m\u001b[0m\u001b[0m\n\u001b[1;32m   1304\u001b[0m     \u001b[0;32mdef\u001b[0m \u001b[0m_prun_fn\u001b[0m\u001b[0;34m(\u001b[0m\u001b[0msession\u001b[0m\u001b[0;34m,\u001b[0m \u001b[0mhandle\u001b[0m\u001b[0;34m,\u001b[0m \u001b[0mfeed_dict\u001b[0m\u001b[0;34m,\u001b[0m \u001b[0mfetch_list\u001b[0m\u001b[0;34m)\u001b[0m\u001b[0;34m:\u001b[0m\u001b[0;34m\u001b[0m\u001b[0m\n",
      "\u001b[0;31mKeyboardInterrupt\u001b[0m: "
     ]
    }
   ],
   "source": [
    "# Start training\n",
    "config = tf.ConfigProto()\n",
    "# config = tf.ConfigProto(\n",
    "#         device_count = {'GPU': 0}\n",
    "#     )\n",
    "config.gpu_options.allow_growth = True\n",
    "\n",
    "with tf.Session(config=config) as sess:\n",
    "    writer.add_graph(sess.graph)\n",
    "    # Run the initializer\n",
    "    sess.run(init)\n",
    "\n",
    "    for step in range(1, training_steps+1):\n",
    "        indexes = list(range(X_train_pad.shape[0]))\n",
    "        np.random.shuffle(indexes)\n",
    "        for i in range(1,X_train_pad.shape[0]//batch_size+1):\n",
    "            batch_x, batch_y = X_train_pad[indexes[batch_size*(i-1):batch_size*i]],y_train[indexes[batch_size*(i-1):batch_size*i]]\n",
    "            batch_x_length = X_train_length[indexes[batch_size*(i-1):batch_size*i]]\n",
    "            \n",
    "            batch_x_length = batch_x_length.reshape((-1))\n",
    "            summary,_=sess.run([merged_summary,train_op], feed_dict={X: batch_x,X_length:batch_x_length, Y: batch_y})\n",
    "            writer.add_summary(summary,step)\n",
    "\n",
    "        if step % 1 == 0 or step == 1:\n",
    "            loss = []\n",
    "            acc = []\n",
    "            for i in range(1,X_test_pad.shape[0]//batch_size+1):\n",
    "                batch_x, batch_y = X_test_pad[batch_size*(i-1):batch_size*i],y_test[batch_size*(i-1):batch_size*i]\n",
    "                batch_x_length = X_test_length[batch_size*(i-1):batch_size*i]\n",
    "\n",
    "                batch_x_length = batch_x_length.reshape((-1))\n",
    "                loss_tmp, acc_tmp = sess.run([loss_op, accuracy], feed_dict={X: batch_x,X_length:batch_x_length,\n",
    "                                                                     Y: batch_y})\n",
    "                loss.append(loss_tmp)\n",
    "                acc.append(acc_tmp)\n",
    "            if np.mean(loss[:1701])<10:\n",
    "                print(\"Step \" + str(step) + \", Minibatch Loss= \" + \\\n",
    "                      \"{:.4f}\".format(np.mean(loss[:1701])) + \", Training Accuracy= \" + \\\n",
    "                      \"{:.3f}\".format(np.mean(acc[:1701])))\n",
    "            \n",
    "    predict_all = np.empty((0,2),float)\n",
    "    for i in range(1,X_test_pad.shape[0]//batch_size+1):\n",
    "        batch_x, batch_y = X_test_pad[batch_size*(i-1):batch_size*i],y_test[batch_size*(i-1):batch_size*i]\n",
    "        batch_x_length = X_test_length[batch_size*(i-1):batch_size*i]\n",
    "\n",
    "        batch_x_length = batch_x_length.reshape((-1))\n",
    "        predict = sess.run(prediction, feed_dict={X: batch_x,X_length:batch_x_length, Y: batch_y})\n",
    "        predict_all = np.vstack((predict_all,np.array(predict)))\n",
    "    \n",
    "    print(\"Optimization Finished!\")"
   ]
  },
  {
   "cell_type": "code",
   "execution_count": 28,
   "metadata": {
    "collapsed": true
   },
   "outputs": [],
   "source": [
    "with open('res_tmp.csv', 'w') as f:\n",
    "    f.write('id,realDonaldTrump,HillaryClinton\\n')\n",
    "    for i in range(1701):\n",
    "        f.write('{},{:0.6f},{:0.6f}\\n'.format(i, predict_all[i, 1], predict_all[i, 0]))"
   ]
  }
 ],
 "metadata": {
  "kernelspec": {
   "display_name": "Python 3",
   "language": "python",
   "name": "python3"
  },
  "language_info": {
   "codemirror_mode": {
    "name": "ipython",
    "version": 3
   },
   "file_extension": ".py",
   "mimetype": "text/x-python",
   "name": "python",
   "nbconvert_exporter": "python",
   "pygments_lexer": "ipython3",
   "version": "3.6.3"
  }
 },
 "nbformat": 4,
 "nbformat_minor": 2
}
