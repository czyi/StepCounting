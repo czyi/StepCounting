{
 "cells": [
  {
   "cell_type": "code",
   "execution_count": 1,
   "metadata": {
    "collapsed": true
   },
   "outputs": [],
   "source": [
    "# import sys\n",
    "# reload(sys)\n",
    "# sys.setdefaultencoding('utf8')\n",
    "\n",
    "import numpy as np\n",
    "import pandas as pd\n",
    "import tensorflow as tf\n",
    "import nltk\n",
    "from nltk.corpus import stopwords\n",
    "import re"
   ]
  },
  {
   "cell_type": "code",
   "execution_count": 2,
   "metadata": {},
   "outputs": [
    {
     "name": "stdout",
     "output_type": "stream",
     "text": [
      "train_input shape is: (4743, 2)\n",
      "test_input shape is: (1701, 2)\n"
     ]
    }
   ],
   "source": [
    "pd.set_option('display.max_column', None)\n",
    "train_input = pd.read_csv('train.csv')\n",
    "test_input = pd.read_csv('test.csv')\n",
    "print \"train_input shape is: \" + str(np.shape(train_input))\n",
    "print \"test_input shape is: \" + str(np.shape(test_input))"
   ]
  },
  {
   "cell_type": "code",
   "execution_count": 3,
   "metadata": {},
   "outputs": [
    {
     "name": "stdout",
     "output_type": "stream",
     "text": [
      "            handle                                              tweet\n",
      "0   HillaryClinton  The question in this election: Who can put the...\n",
      "1   HillaryClinton  Last night, Donald Trump said not paying taxes...\n",
      "2   HillaryClinton  If we stand together, there's nothing we can't...\n",
      "3   HillaryClinton  Both candidates were asked about how they'd co...\n",
      "4  realDonaldTrump  Join me for a 3pm rally - tomorrow at the Mid-...\n",
      "5   HillaryClinton  When Donald Trump goes low...register to vote:...\n",
      "6   HillaryClinton  3) Has Trump offered a single proposal to redu...\n",
      "7   HillaryClinton  The election is just weeks away. Check if you'...\n",
      "8  realDonaldTrump  Hillary Clinton's Campaign Continues To Make F...\n",
      "9  realDonaldTrump  'CNBC, Time magazine online polls say Donald T...\n"
     ]
    }
   ],
   "source": [
    "print train_input.head(10)"
   ]
  },
  {
   "cell_type": "code",
   "execution_count": 4,
   "metadata": {},
   "outputs": [
    {
     "name": "stdout",
     "output_type": "stream",
     "text": [
      "[0 0 0 0 1 0 0 0 1 1]\n"
     ]
    }
   ],
   "source": [
    "def label_tweet(input_set):\n",
    "    handle = input_set['handle']\n",
    "    # put it into an array named label, where 0 represents HillaryClinton, 1 represents readDonaldTrump\n",
    "    label = []\n",
    "    for i in range(len(handle)):\n",
    "        if handle[i] == \"HillaryClinton\":\n",
    "            label.append(0)\n",
    "        if handle[i] == \"realDonaldTrump\":\n",
    "            label.append(1)\n",
    "    label = np.asarray(label)\n",
    "    return label\n",
    "\n",
    "train_label = label_tweet(train_input)\n",
    "print train_label[:10]"
   ]
  },
  {
   "cell_type": "code",
   "execution_count": 5,
   "metadata": {},
   "outputs": [
    {
     "name": "stdout",
     "output_type": "stream",
     "text": [
      "(4743,)\n",
      "[ 'The question in this election: Who can put the plans into action that will make your life better? https://t.co/XreEY9OicG'\n",
      " 'Last night, Donald Trump said not paying taxes was \"smart.\" You know what I call it? Unpatriotic. https://t.co/t0xmBfj7zF'\n",
      " \"If we stand together, there's nothing we can't do. \\n\\nMake sure you're ready to vote: https://t.co/tTgeqxNqYm https://t.co/Q3Ymbb7UNy\"\n",
      " \"Both candidates were asked about how they'd confront racial injustice. Only one had a real answer. https://t.co/sjnEokckis\"\n",
      " 'Join me for a 3pm rally - tomorrow at the Mid-America Center in Council Bluffs, Iowa! Tickets:\\xe2\\x80\\xa6 https://t.co/dfzsbICiXc'\n",
      " 'When Donald Trump goes low...register to vote: https://t.co/tTgeqxNqYm https://t.co/DXz9dEwsZS'\n",
      " '3) Has Trump offered a single proposal to reduce the friction of starting a business. @HillaryClinton has https://t.co/OhFAFEFsUq'\n",
      " \"The election is just weeks away. Check if you're registered to vote at https://t.co/HcMAh8ljR0, only takes a few cl\\xe2\\x80\\xa6 https://t.co/H1H7hAA4XM\"\n",
      " \"Hillary Clinton's Campaign Continues To Make False Claims About Foundation Disclosure: \\nhttps://t.co/zhkEfUouHH\"\n",
      " \"'CNBC, Time magazine online polls say Donald Trump won the first presidential debate' via @WashTimes. #MAGA\\nhttps://t.co/PGimqYKPoJ\"]\n",
      "(4743,)\n"
     ]
    }
   ],
   "source": [
    "train_corpus = train_input['tweet'].as_matrix()\n",
    "print np.shape(train_corpus)\n",
    "print train_corpus[:10]\n",
    "test_corpus = test_input['tweet'].as_matrix()\n",
    "print np.shape(train_corpus)"
   ]
  },
  {
   "cell_type": "code",
   "execution_count": 6,
   "metadata": {},
   "outputs": [
    {
     "name": "stdout",
     "output_type": "stream",
     "text": [
      "[u'i', u'me', u'my', u'myself', u'we', u'our', u'ours', u'ourselves', u'you', u'your', u'yours', u'yourself', u'yourselves', u'he', u'him', u'his', u'himself', u'she', u'her', u'hers', u'herself', u'it', u'its', u'itself', u'they', u'them', u'their', u'theirs', u'themselves', u'what', u'which', u'who', u'whom', u'this', u'that', u'these', u'those', u'am', u'is', u'are', u'was', u'were', u'be', u'been', u'being', u'have', u'has', u'had', u'having', u'do', u'does', u'did', u'doing', u'a', u'an', u'the', u'and', u'but', u'if', u'or', u'because', u'as', u'until', u'while', u'of', u'at', u'by', u'for', u'with', u'about', u'against', u'between', u'into', u'through', u'during', u'before', u'after', u'above', u'below', u'to', u'from', u'up', u'down', u'in', u'out', u'on', u'off', u'over', u'under', u'again', u'further', u'then', u'once', u'here', u'there', u'when', u'where', u'why', u'how', u'all', u'any', u'both', u'each', u'few', u'more', u'most', u'other', u'some', u'such', u'no', u'nor', u'not', u'only', u'own', u'same', u'so', u'than', u'too', u'very', u's', u't', u'can', u'will', u'just', u'don', u'should', u'now', u'd', u'll', u'm', u'o', u're', u've', u'y', u'ain', u'aren', u'couldn', u'didn', u'doesn', u'hadn', u'hasn', u'haven', u'isn', u'ma', u'mightn', u'mustn', u'needn', u'shan', u'shouldn', u'wasn', u'weren', u'won', u'wouldn', u'https']\n"
     ]
    }
   ],
   "source": [
    "# Load the stopwords\n",
    "stop_words = stopwords.words('english')\n",
    "# 'https' seems useless, so I add it to stop_words\n",
    "stop_words.append(u'https')\n",
    "print stop_words"
   ]
  },
  {
   "cell_type": "code",
   "execution_count": 7,
   "metadata": {},
   "outputs": [
    {
     "name": "stdout",
     "output_type": "stream",
     "text": [
      "[u'question,election,put,plans,action,make,life,better', u'last,night,donald,trump,said,paying,taxes,smart,know,call,unpatriotic', u\"stand,together,'s,nothing,ca,n't,make,sure,'re,ready,vote\", u\"candidates,asked,'d,confront,racial,injustice,one,real,answer\", u'join,3pm,rally,tomorrow,mid-america,center,council,bluffs,iowa,tickets', u'donald,trump,goes,low,register,vote', u'trump,offered,single,proposal,reduce,friction,starting,business,hillaryclinton', u\"election,weeks,away,check,'re,registered,vote,takes,cl\\u2026\", u\"hillary,clinton,'s,campaign,continues,make,false,claims,foundation,disclosure\", u\"'cnbc,time,magazine,online,polls,say,donald,trump,first,presidential,debate,via,washtimes,maga\"]\n",
      "[u\"could,n't,proud,hillaryclinton,vision,command,last,night,'s,debate,showed,'s,ready,next,potus\", u\"election,important,sit,go,make,sure,'re,registered,nationalvoterregistrationday,-h\", u'government,people,join,movement,today', u\"national,voterregistrationday,make,sure,'re,registered,vote,makeamericagreatagain\\u2026\", u'great,afternoon,little,havana,hispanic,community,leaders,thank,support,imwithyou', u\"'s,nationalvoterregistrationday,celebrate,registering,vote\", u'love,country,proud,country,want,leader,brings,people,together,\\u2014hillary,lovetrumpshate', u'kind,person,would,want,root,million,families,losing,homes,one,never,president,\\u2014hillary,trump', u'think,family,pay,income,child,care.,\\u2014hillary', u\"join,hillary,live,nc,first,rally,since,winning,last,night,'s,debate,nationalvoterregistrationday\"]\n"
     ]
    }
   ],
   "source": [
    "# Tokenize\n",
    "def tokenization(text):\n",
    "    tokens=[]\n",
    "    for word in nltk.word_tokenize(text.decode('utf-8')):\n",
    "        # skip all the websites, punctuations, pure digits\n",
    "        if not re.match('[//]', word) and re.search('[a-zA-Z]', word) and word.lower() not in stop_words:\n",
    "            tokens.append(word.lower())\n",
    "    return tokens\n",
    "\n",
    "# Tokenize training set\n",
    "train_corpus_tokenized = []\n",
    "for i in train_corpus:\n",
    "    train_corpus_tokenized.append(','.join(tokenization(i)))\n",
    "    \n",
    "print train_corpus_tokenized[:10]\n",
    "\n",
    "# Tokenize testing set\n",
    "test_corpus_tokenized = []\n",
    "for i in test_corpus:\n",
    "    test_corpus_tokenized.append(','.join(tokenization(i)))\n",
    "    \n",
    "print test_corpus_tokenized[:10]"
   ]
  },
  {
   "cell_type": "code",
   "execution_count": null,
   "metadata": {
    "collapsed": true
   },
   "outputs": [],
   "source": []
  }
 ],
 "metadata": {
  "kernelspec": {
   "display_name": "Python 3",
   "language": "python",
   "name": "python3"
  },
  "language_info": {
   "codemirror_mode": {
    "name": "ipython",
    "version": 3
   },
   "file_extension": ".py",
   "mimetype": "text/x-python",
   "name": "python",
   "nbconvert_exporter": "python",
   "pygments_lexer": "ipython3",
   "version": "3.6.3"
  }
 },
 "nbformat": 4,
 "nbformat_minor": 2
}
