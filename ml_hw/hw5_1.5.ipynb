{
 "cells": [
  {
   "cell_type": "code",
   "execution_count": 1,
   "metadata": {},
   "outputs": [
    {
     "name": "stderr",
     "output_type": "stream",
     "text": [
      "/home/ziyi/anaconda3/lib/python3.6/importlib/_bootstrap.py:219: RuntimeWarning: compiletime version 3.5 of module 'tensorflow.python.framework.fast_tensor_util' does not match runtime version 3.6\n",
      "  return f(*args, **kwds)\n"
     ]
    }
   ],
   "source": [
    "import numpy as np\n",
    "import pandas as pd\n",
    "import tensorflow as tf\n",
    "import nltk\n",
    "from nltk.corpus import stopwords\n",
    "import re\n",
    "import collections\n",
    "import random\n",
    "import math"
   ]
  },
  {
   "cell_type": "code",
   "execution_count": 81,
   "metadata": {},
   "outputs": [
    {
     "name": "stdout",
     "output_type": "stream",
     "text": [
      "train_input shape is:  (4743, 2)\n",
      "test_input shape is:  (1701, 2)\n"
     ]
    }
   ],
   "source": [
    "pd.set_option('display.max_column', None)\n",
    "train_input = pd.read_csv('train.csv')\n",
    "test_input = pd.read_csv('test.csv')\n",
    "print(\"train_input shape is: \", np.shape(train_input))\n",
    "print(\"test_input shape is: \", np.shape(test_input))"
   ]
  },
  {
   "cell_type": "code",
   "execution_count": 82,
   "metadata": {},
   "outputs": [
    {
     "name": "stdout",
     "output_type": "stream",
     "text": [
      "[0 0 0 0 1 0 0 0 1 1]\n"
     ]
    }
   ],
   "source": [
    "def label_tweet(input_set):\n",
    "    handle = input_set['handle']\n",
    "    # put it into an array named label, where 0 represents HillaryClinton, 1 represents readDonaldTrump\n",
    "    label = []\n",
    "    for i in range(len(handle)):\n",
    "        if handle[i] == \"HillaryClinton\":\n",
    "            label.append(0)\n",
    "        if handle[i] == \"realDonaldTrump\":\n",
    "            label.append(1)\n",
    "    label = np.asarray(label)\n",
    "    return label\n",
    "\n",
    "train_label = label_tweet(train_input)\n",
    "print(train_label[:10])"
   ]
  },
  {
   "cell_type": "code",
   "execution_count": 83,
   "metadata": {},
   "outputs": [
    {
     "name": "stdout",
     "output_type": "stream",
     "text": [
      "(4743,)\n",
      "[ 'The question in this election: Who can put the plans into action that will make your life better? https://t.co/XreEY9OicG'\n",
      " 'Last night, Donald Trump said not paying taxes was \"smart.\" You know what I call it? Unpatriotic. https://t.co/t0xmBfj7zF'\n",
      " \"If we stand together, there's nothing we can't do. \\n\\nMake sure you're ready to vote: https://t.co/tTgeqxNqYm https://t.co/Q3Ymbb7UNy\"\n",
      " \"Both candidates were asked about how they'd confront racial injustice. Only one had a real answer. https://t.co/sjnEokckis\"\n",
      " 'Join me for a 3pm rally - tomorrow at the Mid-America Center in Council Bluffs, Iowa! Tickets:… https://t.co/dfzsbICiXc']\n",
      "(1701,)\n"
     ]
    }
   ],
   "source": [
    "train_corpus = train_input['tweet'].as_matrix()\n",
    "print(np.shape(train_corpus))\n",
    "print(train_corpus[:5])\n",
    "test_corpus = test_input['tweet'].as_matrix()\n",
    "print(np.shape(test_corpus))"
   ]
  },
  {
   "cell_type": "code",
   "execution_count": 84,
   "metadata": {},
   "outputs": [
    {
     "name": "stdout",
     "output_type": "stream",
     "text": [
      "['i', 'me', 'my', 'myself', 'we', 'our', 'ours', 'ourselves', 'you', 'your', 'yours', 'yourself', 'yourselves', 'he', 'him', 'his', 'himself', 'she', 'her', 'hers', 'herself', 'it', 'its', 'itself', 'they', 'them', 'their', 'theirs', 'themselves', 'what', 'which', 'who', 'whom', 'this', 'that', 'these', 'those', 'am', 'is', 'are', 'was', 'were', 'be', 'been', 'being', 'have', 'has', 'had', 'having', 'do', 'does', 'did', 'doing', 'a', 'an', 'the', 'and', 'but', 'if', 'or', 'because', 'as', 'until', 'while', 'of', 'at', 'by', 'for', 'with', 'about', 'against', 'between', 'into', 'through', 'during', 'before', 'after', 'above', 'below', 'to', 'from', 'up', 'down', 'in', 'out', 'on', 'off', 'over', 'under', 'again', 'further', 'then', 'once', 'here', 'there', 'when', 'where', 'why', 'how', 'all', 'any', 'both', 'each', 'few', 'more', 'most', 'other', 'some', 'such', 'no', 'nor', 'not', 'only', 'own', 'same', 'so', 'than', 'too', 'very', 's', 't', 'can', 'will', 'just', 'don', 'should', 'now', 'd', 'll', 'm', 'o', 're', 've', 'y', 'ain', 'aren', 'couldn', 'didn', 'doesn', 'hadn', 'hasn', 'haven', 'isn', 'ma', 'mightn', 'mustn', 'needn', 'shan', 'shouldn', 'wasn', 'weren', 'won', 'wouldn', 'https']\n"
     ]
    }
   ],
   "source": [
    "# Load the stopwords\n",
    "stop_words = stopwords.words('english')\n",
    "# 'https' seems useless, so I add it to stop_words\n",
    "stop_words.append(u'https')\n",
    "print(stop_words)"
   ]
  },
  {
   "cell_type": "code",
   "execution_count": 85,
   "metadata": {},
   "outputs": [
    {
     "name": "stdout",
     "output_type": "stream",
     "text": [
      "4743\n",
      "['question election put plans action make life better', 'last night donald trump said paying taxes smart know call unpatriotic', \"stand together 's nothing ca n't make sure 're ready vote\", \"candidates asked 'd confront racial injustice one real answer\", 'join 3pm rally tomorrow mid-america center council bluffs iowa tickets']\n",
      "1701\n",
      "[\"could n't proud hillaryclinton vision command last night 's debate showed 's ready next potus\", \"election important sit go make sure 're registered nationalvoterregistrationday -h\", 'government people join movement today', \"national voterregistrationday make sure 're registered vote makeamericagreatagain…\", 'great afternoon little havana hispanic community leaders thank support imwithyou']\n"
     ]
    }
   ],
   "source": [
    "# Tokenize\n",
    "def tokenization(text):\n",
    "    tokens=[]\n",
    "    for word in nltk.word_tokenize(text):\n",
    "        # skip all the websites, punctuations, pure digits\n",
    "        if not re.match('[//]', word) and re.search('[a-zA-Z]', word) and word.lower() not in stop_words:\n",
    "            tokens.append(word.lower())\n",
    "    return tokens\n",
    "\n",
    "# Tokenize training set\n",
    "train_corpus_tokenized = []\n",
    "for i in train_corpus:\n",
    "    train_corpus_tokenized.append(' '.join(tokenization(i)))\n",
    "    \n",
    "print(len(train_corpus_tokenized))\n",
    "print(train_corpus_tokenized[:5])\n",
    "\n",
    "# Tokenize testing set\n",
    "test_corpus_tokenized = []\n",
    "for i in test_corpus:\n",
    "    test_corpus_tokenized.append(' '.join(tokenization(i)))\n",
    "\n",
    "print(len(test_corpus_tokenized))\n",
    "print(test_corpus_tokenized[:5])"
   ]
  },
  {
   "cell_type": "code",
   "execution_count": 86,
   "metadata": {},
   "outputs": [
    {
     "name": "stdout",
     "output_type": "stream",
     "text": [
      "4743\n",
      "[['question', 'election', 'put', 'plans', 'action', 'make', 'life', 'better'], ['last', 'night', 'donald', 'trump', 'said', 'paying', 'taxes', 'smart', 'know', 'call', 'unpatriotic'], ['stand', 'together', \"'s\", 'nothing', 'ca', \"n't\", 'make', 'sure', \"'re\", 'ready', 'vote'], ['candidates', 'asked', \"'d\", 'confront', 'racial', 'injustice', 'one', 'real', 'answer'], ['join', '3pm', 'rally', 'tomorrow', 'mid-america', 'center', 'council', 'bluffs', 'iowa', 'tickets']]\n",
      "1701\n",
      "[['could', \"n't\", 'proud', 'hillaryclinton', 'vision', 'command', 'last', 'night', \"'s\", 'debate', 'showed', \"'s\", 'ready', 'next', 'potus'], ['election', 'important', 'sit', 'go', 'make', 'sure', \"'re\", 'registered', 'nationalvoterregistrationday', '-h'], ['government', 'people', 'join', 'movement', 'today'], ['national', 'voterregistrationday', 'make', 'sure', \"'re\", 'registered', 'vote', 'makeamericagreatagain…'], ['great', 'afternoon', 'little', 'havana', 'hispanic', 'community', 'leaders', 'thank', 'support', 'imwithyou']]\n"
     ]
    }
   ],
   "source": [
    "train_tokenized_word = []\n",
    "for i in range(len(train_corpus_tokenized)):\n",
    "    train_tokenized_word.append(tf.compat.as_str(train_corpus_tokenized[i]).split())\n",
    "print(len(train_tokenized_word))\n",
    "print(train_tokenized_word[:5])\n",
    "\n",
    "vocabulary_size = 10000\n",
    "\n",
    "test_tokenized_word = []\n",
    "for i in range(len(test_corpus_tokenized)):\n",
    "    test_tokenized_word.append(tf.compat.as_str(test_corpus_tokenized[i]).split())\n",
    "print(len(test_tokenized_word))\n",
    "print(test_tokenized_word[:5])"
   ]
  },
  {
   "cell_type": "code",
   "execution_count": 87,
   "metadata": {},
   "outputs": [
    {
     "name": "stdout",
     "output_type": "stream",
     "text": [
      "8507\n"
     ]
    }
   ],
   "source": [
    "cnt = collections.Counter()\n",
    "for i in range(len(train_tokenized_word)):\n",
    "    for word in train_tokenized_word[i]:\n",
    "        cnt[word] += 1\n",
    "\n",
    "print(len(cnt))"
   ]
  },
  {
   "cell_type": "code",
   "execution_count": 88,
   "metadata": {
    "collapsed": true
   },
   "outputs": [],
   "source": [
    "def build_dataset(cnt, words, n_words):\n",
    "    \"\"\"Process raw inputs into a dataset.\"\"\"\n",
    "    count = [['UNK', -1]]\n",
    "    count.extend(cnt.most_common(n_words - 1))\n",
    "#     print count[:20]\n",
    "    dictionary = dict()\n",
    "    for word, _ in count:\n",
    "        dictionary[word] = len(dictionary)\n",
    "    data = []\n",
    "    data_all = []\n",
    "    unk_count = 0\n",
    "    for i in range(len(words)):\n",
    "        inner_data = []\n",
    "        for word in words[i]:\n",
    "            index = dictionary.get(word, 0)\n",
    "            if index == 0:  # dictionary['UNK']\n",
    "                unk_count += 1\n",
    "            inner_data.append(index)\n",
    "            data_all.append(index)\n",
    "        data.append(inner_data)\n",
    "    count[0][1] = unk_count\n",
    "    reversed_dictionary = dict(zip(dictionary.values(), dictionary.keys()))\n",
    "    return data, data_all, count, dictionary, reversed_dictionary\n",
    "\n",
    "train_x, data_all, count, dictionary, reverse_dictionary = build_dataset(cnt, train_tokenized_word, vocabulary_size)"
   ]
  },
  {
   "cell_type": "code",
   "execution_count": 107,
   "metadata": {},
   "outputs": [
    {
     "name": "stdout",
     "output_type": "stream",
     "text": [
      "1701\n",
      "[[[92, 6, 120, 56, 1150, 0, 44, 83, 2, 99, 1387, 2, 199, 162, 32], [-1, -1]], [[104, 271, 1683, 51, 12, 145, 75, 600, 1661, 82], [-1, -1]], [[1341, 9, 43, 207, 26], [-1, -1]], [[116, 0, 12, 145, 75, 600, 22, 0], [-1, -1]], [[5, 914, 241, 0, 2898, 622, 497, 4, 68, 169], [-1, -1]]]\n",
      "1701\n"
     ]
    }
   ],
   "source": [
    "test = []\n",
    "for sentence in test_tokenized_word:\n",
    "    cur = []\n",
    "    for word in sentence:\n",
    "        if(word in dictionary):\n",
    "            cur.append(dictionary[word])\n",
    "        else:\n",
    "            cur.append(0)\n",
    "    test.append([cur,[-1, -1]])\n",
    "\n",
    "print(len(test))\n",
    "print(test[:5])\n",
    "test_length = len(test)\n",
    "print(test_length)"
   ]
  },
  {
   "cell_type": "code",
   "execution_count": 90,
   "metadata": {},
   "outputs": [
    {
     "name": "stdout",
     "output_type": "stream",
     "text": [
      "3794\n",
      "[[[24, 2, 12, 708, 22, 909, 24, 121, 39, 618, 196, 172, 355, 2965, 16], [0, 1]], [[4, 7203, 5, 77, 7204, 50, 39, 155, 14], [1, 0]], [[7, 1, 5201, 10, 507, 1742, 463, 198], [0, 1]], [[301, 473, 178, 92, 6, 4686], [0, 1]], [[5, 569, 1017, 219, 183, 28, 3, 6966, 332, 133, 381], [1, 0]]]\n",
      "949\n",
      "[[[151, 48, 140, 315, 759, 12, 5, 624, 11, 32], [0, 1]], [[3, 15, 2413, 5629, 237, 46, 533, 5630, 150, 5631, 3254], [0, 1]], [[280, 244, 442, 247, 764, 5605, 41, 1072, 5606, 5607, 1132, 371], [0, 1]], [[1086, 35, 1356, 141, 1999, 27, 402, 101, 310, 320, 3491, 1015], [1, 0]], [[132, 625, 5040, 3092, 1066, 5041, 3, 474, 356, 5042, 32], [0, 1]]]\n",
      "8508\n"
     ]
    }
   ],
   "source": [
    "train_all = [[train_x[i], [train_label[i], 1-train_label[i]]] for i in range(0, len(train_x))]\n",
    "# train_all = [[train_x[i], [train_label[i]]] for i in range(0, len(train_x))]\n",
    "\n",
    "r_index = list(range(len(train_all)))\n",
    "random.shuffle(r_index)\n",
    "train = [train_all[i] for i in r_index[:int(len(r_index)*0.8)]]\n",
    "valid = [train_all[i] for i in r_index[int(len(r_index)*0.8):]]\n",
    "\n",
    "print(len(train))\n",
    "print(train[:5])\n",
    "print(len(valid))\n",
    "print(valid[:5])\n",
    "print(len(count))"
   ]
  },
  {
   "cell_type": "code",
   "execution_count": 91,
   "metadata": {
    "collapsed": true
   },
   "outputs": [],
   "source": [
    "class SimpleDataIterator():\n",
    "    def __init__(self, df):\n",
    "        self.df = df\n",
    "        self.size = len(self.df)\n",
    "        self.epochs = 0\n",
    "        self.shuffle()\n",
    "\n",
    "    def shuffle(self):\n",
    "        random.shuffle(self.df)\n",
    "        self.cursor = 0\n",
    "\n",
    "    def next_batch(self, n):\n",
    "        if self.cursor+n > self.size:\n",
    "            self.epochs += 1\n",
    "            print(\"SimpleDataIterator epoch : \", self.epochs)\n",
    "            self.shuffle()\n",
    "        res = self.df[self.cursor:self.cursor+n]\n",
    "        self.cursor += n\n",
    "        return res"
   ]
  },
  {
   "cell_type": "code",
   "execution_count": 92,
   "metadata": {},
   "outputs": [
    {
     "name": "stdout",
     "output_type": "stream",
     "text": [
      "Input sequences\n",
      " [[[581, 3407, 122, 62, 6, 824, 880, 329, 209, 677, 646, 348, 223, 547], [0, 1]], [[449, 215, 613, 50, 104, 6, 1522, 58, 4720, 994, 2084], [0, 1]], [[7229, 2173], [0, 1]], [[20, 9, 182, 22, 249, 98, 3355, 7829, 1050, 192, 1384], [1, 0]], [[59, 159, 64, 59, 3, 48, 32], [0, 1]]]\n",
      "\n"
     ]
    }
   ],
   "source": [
    "data = SimpleDataIterator(valid)\n",
    "d = data.next_batch(500)\n",
    "print('Input sequences\\n', d[:5], end='\\n\\n')"
   ]
  },
  {
   "cell_type": "code",
   "execution_count": 93,
   "metadata": {
    "collapsed": true
   },
   "outputs": [],
   "source": [
    "class PaddedDataIterator(SimpleDataIterator):\n",
    "    def next_batch(self, n):\n",
    "        if self.cursor+n > self.size:\n",
    "            self.epochs += 1\n",
    "            self.shuffle()\n",
    "        res = self.df[self.cursor:self.cursor+n]\n",
    "        self.cursor += n\n",
    "\n",
    "        # Pad sequences with 0s so they are all the same length\n",
    "        max_len = 0\n",
    "        for row in res:\n",
    "            if len(row[0]) > max_len:\n",
    "                max_len = len(row[0])\n",
    "        seqlen = np.array([max_len for i in range(len(res))])\n",
    "        ret = []\n",
    "        label = []\n",
    "        for row in res:\n",
    "            ret += [row[0] + [0]*(max_len-len(row[0]))]\n",
    "            label.append(row[1][0])\n",
    "        x = np.array(ret)\n",
    "        y = np.array(label)\n",
    "\n",
    "        return x, y, seqlen"
   ]
  },
  {
   "cell_type": "code",
   "execution_count": 94,
   "metadata": {},
   "outputs": [
    {
     "name": "stdout",
     "output_type": "stream",
     "text": [
      "Input sequences\n",
      " [[  36 3580  832  536 1138  914    6   24 1015   74   22    0]\n",
      " [5351    8 5352 5353   31  649   46  262    9  579 1128  372]\n",
      " [ 211  118   52   58 3475 1039    0    0    0    0    0    0]]\n",
      "\n",
      "[1 0 0]\n",
      "(3,)\n",
      "[12 12 12]\n"
     ]
    }
   ],
   "source": [
    "data = PaddedDataIterator(train)\n",
    "d = data.next_batch(3)\n",
    "print('Input sequences\\n', d[0], end='\\n\\n')\n",
    "print(d[1])\n",
    "print(d[1].shape)\n",
    "print(d[2])"
   ]
  },
  {
   "cell_type": "code",
   "execution_count": 108,
   "metadata": {
    "collapsed": true
   },
   "outputs": [],
   "source": [
    "batch_size = 256\n",
    "\n",
    "def reset_graph():\n",
    "    if 'sess' in globals() and sess:\n",
    "        sess.close()\n",
    "    tf.reset_default_graph()\n",
    "\n",
    "def build_graph(\n",
    "    vocab_size = len(dictionary),\n",
    "    state_size = 64,\n",
    "    batch_size = 256,\n",
    "    num_classes = 6):\n",
    "\n",
    "    reset_graph()\n",
    "\n",
    "    # Placeholders\n",
    "    x = tf.placeholder(tf.int32, [batch_size, None]) # [batch_size, num_steps]\n",
    "    seqlen = tf.placeholder(tf.int32, [batch_size])\n",
    "    y = tf.placeholder(tf.int32, [batch_size])\n",
    "#     keep_prob = tf.constant(1.0)\n",
    "#     print(\"====\",x.shape)\n",
    "#     print(\"====\",y.shape)\n",
    "#     print(\"====\",seqlen.shape)\n",
    "\n",
    "    # Embedding layer\n",
    "    embeddings = tf.get_variable('embedding_matrix', [vocab_size, state_size])\n",
    "    rnn_inputs = tf.nn.embedding_lookup(embeddings, x)\n",
    "\n",
    "    # RNN\n",
    "    cell = tf.nn.rnn_cell.GRUCell(state_size)\n",
    "    init_state = tf.get_variable('init_state', [1, state_size],\n",
    "                                 initializer=tf.constant_initializer(0.0))\n",
    "    init_state = tf.tile(init_state, [batch_size, 1])\n",
    "    rnn_outputs, final_state = tf.nn.dynamic_rnn(cell, rnn_inputs, sequence_length=seqlen,\n",
    "                                                 initial_state=init_state)\n",
    "\n",
    "    # Add dropout, as the model otherwise quickly overfits\n",
    "#     rnn_outputs = tf.nn.dropout(rnn_outputs, keep_prob)\n",
    "\n",
    "    \"\"\"\n",
    "    Obtain the last relevant output. The best approach in the future will be to use:\n",
    "\n",
    "        last_rnn_output = tf.gather_nd(rnn_outputs, tf.pack([tf.range(batch_size), seqlen-1], axis=1))\n",
    "\n",
    "    which is the Tensorflow equivalent of numpy's rnn_outputs[range(30), seqlen-1, :], but the\n",
    "    gradient for this op has not been implemented as of this writing.\n",
    "\n",
    "    The below solution works, but throws a UserWarning re: the gradient.\n",
    "    \"\"\"\n",
    "    idx = tf.range(batch_size)*tf.shape(rnn_outputs)[1] + (seqlen - 1)\n",
    "    last_rnn_output = tf.gather(tf.reshape(rnn_outputs, [-1, state_size]), idx)\n",
    "\n",
    "    # Softmax layer\n",
    "    with tf.variable_scope('softmax'):\n",
    "        W = tf.get_variable('W', [state_size, num_classes])\n",
    "        b = tf.get_variable('b', [num_classes], initializer=tf.constant_initializer(0.0))\n",
    "    logits = tf.matmul(last_rnn_output, W) + b\n",
    "    preds = tf.nn.softmax(logits)\n",
    "    correct = tf.equal(tf.cast(tf.argmax(preds,1),tf.int32), y)\n",
    "#     print(correct.shape)\n",
    "    accuracy = tf.reduce_mean(tf.cast(correct, tf.float32))\n",
    "#     print(accuracy.shape)\n",
    "\n",
    "    loss = tf.reduce_mean(tf.nn.sparse_softmax_cross_entropy_with_logits(logits=logits, labels=y))\n",
    "    train_step = tf.train.AdamOptimizer(1e-4).minimize(loss)\n",
    "\n",
    "    return {\n",
    "        'x': x,\n",
    "        'seqlen': seqlen,\n",
    "        'y': y,\n",
    "#         'dropout': keep_prob,\n",
    "        'loss': loss,\n",
    "        'ts': train_step,\n",
    "        'preds': preds,\n",
    "        'accuracy': accuracy\n",
    "    }"
   ]
  },
  {
   "cell_type": "code",
   "execution_count": 101,
   "metadata": {
    "collapsed": true
   },
   "outputs": [],
   "source": [
    "def train_graph(graph, batch_size = 256, num_epochs = 40, iterator = PaddedDataIterator):\n",
    "    with tf.Session() as sess:\n",
    "        sess.run(tf.initialize_all_variables())\n",
    "        tr = iterator(train)\n",
    "        tv = iterator(valid)\n",
    "#         te = iterator(test)\n",
    "\n",
    "        step, accuracy = 0, 0\n",
    "        tr_losses, tv_losses = [], []\n",
    "        current_epoch = 0\n",
    "        while current_epoch < num_epochs:\n",
    "            step += 1\n",
    "            batch = tr.next_batch(batch_size)\n",
    "#             print(\"----\",batch[0].shape)\n",
    "#             print(\"----\",batch[1].shape)\n",
    "#             print(\"----\",batch[2].shape)\n",
    "#             dropout_parameter=np.array(0.6)\n",
    "#             print(\"----\",dropout_parameter.shape)\n",
    "#             feed = {g['x']: batch[0], g['y']: batch[1], g['seqlen']: batch[2], g['dropout']: dropout_parameter}\n",
    "            feed = {g['x']: batch[0], g['y']: batch[1], g['seqlen']: batch[2]}\n",
    "            accuracy_, _ = sess.run([g['accuracy'], g['ts']], feed_dict=feed)\n",
    "            accuracy += accuracy_\n",
    "\n",
    "            if tr.epochs > current_epoch:\n",
    "                current_epoch += 1\n",
    "                tr_losses.append(accuracy / step)\n",
    "                step, accuracy = 0, 0\n",
    "\n",
    "                #eval test set\n",
    "                tv_epoch = tv.epochs\n",
    "                while tv.epochs == tv_epoch:\n",
    "                    step += 1\n",
    "                    batch = tv.next_batch(batch_size)\n",
    "                    feed = {g['x']: batch[0], g['y']: batch[1], g['seqlen']: batch[2]}\n",
    "                    accuracy_ = sess.run([g['accuracy']], feed_dict=feed)[0]\n",
    "                    accuracy += accuracy_\n",
    "\n",
    "                tv_losses.append(accuracy / step)\n",
    "                step, accuracy = 0,0\n",
    "                print(\"Accuracy after epoch\", current_epoch, \" - tr:\", tr_losses[-1], \"- tv:\", tv_losses[-1])\n",
    "                \n",
    "            \n",
    "\n",
    "    return tr_losses, te_losses"
   ]
  },
  {
   "cell_type": "code",
   "execution_count": 102,
   "metadata": {},
   "outputs": [
    {
     "name": "stderr",
     "output_type": "stream",
     "text": [
      "/home/ziyi/anaconda3/lib/python3.6/site-packages/tensorflow/python/ops/gradients_impl.py:96: UserWarning: Converting sparse IndexedSlices to a dense Tensor of unknown shape. This may consume a large amount of memory.\n",
      "  \"Converting sparse IndexedSlices to a dense Tensor of unknown shape. \"\n"
     ]
    },
    {
     "name": "stdout",
     "output_type": "stream",
     "text": [
      "Accuracy after epoch 1  - tr: 0.500260416667 - tv: 0.5068359375\n",
      "Accuracy after epoch 2  - tr: 0.534040178571 - tv: 0.513020833333\n",
      "Accuracy after epoch 3  - tr: 0.498604910714 - tv: 0.509114583333\n",
      "Accuracy after epoch 4  - tr: 0.499441964286 - tv: 0.50390625\n",
      "Accuracy after epoch 5  - tr: 0.497767857143 - tv: 0.46875\n",
      "Accuracy after epoch 6  - tr: 0.5 - tv: 0.506510416667\n",
      "Accuracy after epoch 7  - tr: 0.492745535714 - tv: 0.51953125\n",
      "Accuracy after epoch 8  - tr: 0.494419642857 - tv: 0.514322916667\n",
      "Accuracy after epoch 9  - tr: 0.497767857143 - tv: 0.5\n",
      "Accuracy after epoch 10  - tr: 0.501953125 - tv: 0.489583333333\n",
      "Accuracy after epoch 11  - tr: 0.499441964286 - tv: 0.54296875\n",
      "Accuracy after epoch 12  - tr: 0.502232142857 - tv: 0.490885416667\n",
      "Accuracy after epoch 13  - tr: 0.498604910714 - tv: 0.524739583333\n",
      "Accuracy after epoch 14  - tr: 0.571149553571 - tv: 0.688802083333\n",
      "Accuracy after epoch 15  - tr: 0.625279017857 - tv: 0.513020833333\n",
      "Accuracy after epoch 16  - tr: 0.754185267857 - tv: 0.565104166667\n",
      "Accuracy after epoch 17  - tr: 0.708426339286 - tv: 0.634114583333\n",
      "Accuracy after epoch 18  - tr: 0.665457589286 - tv: 0.580729166667\n",
      "Accuracy after epoch 19  - tr: 0.744698660714 - tv: 0.561197916667\n",
      "Accuracy after epoch 20  - tr: 0.771763392857 - tv: 0.764322916667\n",
      "Accuracy after epoch 21  - tr: 0.729352678571 - tv: 0.721354166667\n",
      "Accuracy after epoch 22  - tr: 0.805803571429 - tv: 0.79296875\n",
      "Accuracy after epoch 23  - tr: 0.8515625 - tv: 0.727864583333\n",
      "Accuracy after epoch 24  - tr: 0.879743303571 - tv: 0.744791666667\n",
      "Accuracy after epoch 25  - tr: 0.87109375 - tv: 0.791666666667\n",
      "Accuracy after epoch 26  - tr: 0.878069196429 - tv: 0.825520833333\n",
      "Accuracy after epoch 27  - tr: 0.918526785714 - tv: 0.8125\n",
      "Accuracy after epoch 28  - tr: 0.929408482143 - tv: 0.841145833333\n",
      "Accuracy after epoch 29  - tr: 0.914620535714 - tv: 0.81640625\n",
      "Accuracy after epoch 30  - tr: 0.939732142857 - tv: 0.826822916667\n",
      "Accuracy after epoch 31  - tr: 0.946428571429 - tv: 0.770833333333\n",
      "Accuracy after epoch 32  - tr: 0.945591517857 - tv: 0.91015625\n",
      "Accuracy after epoch 33  - tr: 0.946428571429 - tv: 0.8671875\n",
      "Accuracy after epoch 34  - tr: 0.965959821429 - tv: 0.875\n",
      "Accuracy after epoch 35  - tr: 0.951171875 - tv: 0.837239583333\n",
      "Accuracy after epoch 36  - tr: 0.961495535714 - tv: 0.884114583333\n",
      "Accuracy after epoch 37  - tr: 0.967354910714 - tv: 0.837239583333\n",
      "Accuracy after epoch 38  - tr: 0.967075892857 - tv: 0.846354166667\n",
      "Accuracy after epoch 39  - tr: 0.971819196429 - tv: 0.881510416667\n",
      "Accuracy after epoch 40  - tr: 0.973493303571 - tv: 0.890625\n",
      "Accuracy after epoch 41  - tr: 0.982142857143 - tv: 0.87890625\n",
      "Accuracy after epoch 42  - tr: 0.983816964286 - tv: 0.899739583333\n",
      "Accuracy after epoch 43  - tr: 0.983537946429 - tv: 0.880208333333\n",
      "Accuracy after epoch 44  - tr: 0.982979910714 - tv: 0.826822916667\n",
      "Accuracy after epoch 45  - tr: 0.986886160714 - tv: 0.8828125\n",
      "Accuracy after epoch 46  - tr: 0.988839285714 - tv: 0.904947916667\n",
      "Accuracy after epoch 47  - tr: 0.989676339286 - tv: 0.860677083333\n",
      "Accuracy after epoch 48  - tr: 0.991908482143 - tv: 0.877604166667\n",
      "Accuracy after epoch 49  - tr: 0.991629464286 - tv: 0.859375\n",
      "Accuracy after epoch 50  - tr: 0.990513392857 - tv: 0.864583333333\n"
     ]
    }
   ],
   "source": [
    "g = build_graph()\n",
    "tr_losses, te_losses = train_graph(g)"
   ]
  },
  {
   "cell_type": "code",
   "execution_count": 103,
   "metadata": {},
   "outputs": [
    {
     "data": {
      "text/plain": [
       "[[[48, 160, 153, 2457, 1283, 650, 614, 115, 557], [-1, -1]],\n",
       " [[4, 6734, 6735], [-1, -1]],\n",
       " [[93, 37, 330, 3, 2, 378, 3357, 9, 361, 25, 0, 475, 639, 879, 834], [-1, -1]],\n",
       " [[2180, 298, 5990, 617, 0, 368, 51, 918, 135, 530, 397], [-1, -1]],\n",
       " [[62, 6, 42, 535, 1637, 1175, 548, 34, 0, 682, 9, 479, 212, 9, 36, 13],\n",
       "  [-1, -1]],\n",
       " [[4, 263, 14], [-1, -1]],\n",
       " [[7671, 33, 9, 152, 300, 65, 65, 65, 28, 3, 1611, 23, 25, 1056, 804],\n",
       "  [-1, -1]],\n",
       " [[0, 1, 2, 0, 0, 2374, 1529, 473, 266, 229, 6431], [-1, -1]],\n",
       " [[913, 3308, 65, 3007, 558, 10, 280, 108, 2, 5, 6304, 6139, 13, 64, 0],\n",
       "  [-1, -1]],\n",
       " [[587, 0, 444, 1115, 67, 2291, 582, 17, 1904, 383, 6727, 9, 298, 1404, 1978],\n",
       "  [-1, -1]]]"
      ]
     },
     "execution_count": 103,
     "metadata": {},
     "output_type": "execute_result"
    }
   ],
   "source": [
    "test[:10]"
   ]
  },
  {
   "cell_type": "code",
   "execution_count": 115,
   "metadata": {
    "collapsed": true
   },
   "outputs": [],
   "source": [
    "def align(data):\n",
    "    max_len = 0\n",
    "    for row in data:\n",
    "        if len(row) > max_len:\n",
    "            max_len = len(row)\n",
    "    ret = []\n",
    "    for row in data:\n",
    "        ret += [row + [0]*(max_len-len(row))]\n",
    "    return ret, max_len"
   ]
  },
  {
   "cell_type": "code",
   "execution_count": 114,
   "metadata": {},
   "outputs": [
    {
     "name": "stdout",
     "output_type": "stream",
     "text": [
      "1701\n",
      "256\n",
      "6.64453125\n",
      "0\n",
      "1\n",
      "2\n",
      "3\n",
      "4\n",
      "5\n",
      "6\n"
     ]
    }
   ],
   "source": [
    "# test_length = 1701\n",
    "print(test_length)\n",
    "print(batch_size)\n",
    "print(test_length/batch_size)\n",
    "\n",
    "train_list = []\n",
    "for i in range(math.ceil(test_length/batch_size)):\n",
    "    print(i)\n",
    "    \n",
    "\n",
    "# test_align, max_len = align(test)\n",
    "# print(len(test_align))"
   ]
  },
  {
   "cell_type": "code",
   "execution_count": null,
   "metadata": {
    "collapsed": true
   },
   "outputs": [],
   "source": []
  }
 ],
 "metadata": {
  "kernelspec": {
   "display_name": "Python 3",
   "language": "python",
   "name": "python3"
  },
  "language_info": {
   "codemirror_mode": {
    "name": "ipython",
    "version": 3
   },
   "file_extension": ".py",
   "mimetype": "text/x-python",
   "name": "python",
   "nbconvert_exporter": "python",
   "pygments_lexer": "ipython3",
   "version": "3.6.3"
  }
 },
 "nbformat": 4,
 "nbformat_minor": 2
}
