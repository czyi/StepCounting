{
 "cells": [
  {
   "cell_type": "code",
   "execution_count": 1,
   "metadata": {},
   "outputs": [
    {
     "name": "stderr",
     "output_type": "stream",
     "text": [
      "/home/ziyi/anaconda3/lib/python3.6/importlib/_bootstrap.py:219: RuntimeWarning: compiletime version 3.5 of module 'tensorflow.python.framework.fast_tensor_util' does not match runtime version 3.6\n",
      "  return f(*args, **kwds)\n"
     ]
    }
   ],
   "source": [
    "import numpy as np\n",
    "import matplotlib.pyplot as plt\n",
    "import tensorflow as tf\n",
    "import math\n",
    "import re\n",
    "import random\n",
    "import csv"
   ]
  },
  {
   "cell_type": "code",
   "execution_count": 2,
   "metadata": {
    "collapsed": true
   },
   "outputs": [],
   "source": [
    "# Network Parameters\n",
    "num_input = 6\n",
    "timesteps = 50 # timesteps\n",
    "num_hidden = 100 # hidden layer num of features\n",
    "num_output= 1"
   ]
  },
  {
   "cell_type": "code",
   "execution_count": 3,
   "metadata": {
    "collapsed": true
   },
   "outputs": [],
   "source": [
    "def read_sensor(filename):\n",
    "    with open(filename, \"r\") as csvfile:\n",
    "        reader = csv.reader(csvfile)\n",
    "        dataset = [row[17:23] for row in reader]\n",
    "        #data_x\n",
    "        return np.array(dataset)\n",
    "    \n",
    "def read_xml(filename, length):\n",
    "    f = open(filename)\n",
    "    cts = f.read()\n",
    "    f.close()\n",
    "\n",
    "    p_foot = re.compile(r'<WhichFoot>(.*?)</WhichFoot>')\n",
    "    all_foot = p_foot.findall(cts)\n",
    "\n",
    "    p_time = re.compile(r'<Time>(.*?)</Time>')\n",
    "    all_time = p_time.findall(cts)\n",
    "\n",
    "    strike_times = []\n",
    "    #L-1 R-0\n",
    "    strike_times.append([0.0, 0.5])\n",
    "    for i in range(len(all_foot)):\n",
    "        if(all_foot[i]=='L'):\n",
    "            strike_times.append([float(all_time[i]), 1])\n",
    "        else:\n",
    "            strike_times.append([float(all_time[i]), 0])\n",
    "    strike_times[-1][1] = 0.5\n",
    "    strike_times.append([length/25.0, 0.5])\n",
    "\n",
    "    window_y = []\n",
    "    strike_index=0\n",
    "    for i in range(length):\n",
    "        if(i/25.0 >= strike_times[strike_index+1][0]):\n",
    "            strike_index += 1\n",
    "        window_y.append([strike_times[strike_index][1]])\n",
    "\n",
    "    p_info = re.compile(r'<StartTime>(.*?)</StartTime>\\n\\t<EndTime>(.*?)</EndTime>\\n\\t<NSteps>(.*?)</NSteps>\\n\\t<Direction>(.*?)</Direction>')\n",
    "    all_info = p_info.findall(cts)#start_time, end_time, step_num, direction\n",
    "\n",
    "    for i in range(len(all_info)):\n",
    "        if(all_info[i][3][:4]=='Turn'):\n",
    "#             print(all_info[i])\n",
    "            start_time = int(float(all_info[i][0])*25)\n",
    "            end_time = int(float(all_info[i][1])*25)\n",
    "#             print('start and end time : ', all_info[i][0], all_info[i][1])\n",
    "            for t in range(start_time-1, end_time):\n",
    "                window_y[t] = [0.5]\n",
    "\n",
    "#     print(len(window_y))  \n",
    "    return window_y\n",
    "\n",
    "def add_data(path, person, phone_location, assistant):\n",
    "    data_x = read_sensor('weallwalk/sensor/iPhoneSensors_T'+str(path)+'_ID'+str(person)+'_'+phone_location+'_'+assistant+'.csv')\n",
    "    data_y = read_xml('weallwalk/xml/T'+str(path)+'_ID'+str(person)+'_'+assistant+'.xml', len(data_x))\n",
    "    \n",
    "    split_x, split_x_part = [], []\n",
    "    split_y, split_y_part = [], []\n",
    "    for i in range(len(data_y)):\n",
    "        if(data_y[i][0]!=0.5):\n",
    "            split_y_part.append(data_y[i])\n",
    "            split_x_part.append(data_x[i])\n",
    "        else:\n",
    "            if(len(split_y_part)>0):\n",
    "                split_y.append(split_y_part)\n",
    "                split_x.append(split_x_part)\n",
    "                split_y_part = []\n",
    "                split_x_part = []\n",
    "    \n",
    "    data_x_seq, data_y_seq = [], []\n",
    "    for i in range(len(split_x)):\n",
    "        data_x_part, data_y_part = [], []\n",
    "        for j in range(len(split_x[i])-timesteps):\n",
    "            x = split_x[i][j:j+timesteps]\n",
    "            y = split_y[i][j+timesteps]\n",
    "            data_x_part.append(x)\n",
    "            data_y_part.append(y)\n",
    "        if(len(data_x_part)>0):\n",
    "            data_x_seq.append(data_x_part)\n",
    "            data_y_seq.append(data_y_part)\n",
    "    \n",
    "    return data_x_seq, data_y_seq"
   ]
  },
  {
   "cell_type": "code",
   "execution_count": 4,
   "metadata": {},
   "outputs": [
    {
     "name": "stdout",
     "output_type": "stream",
     "text": [
      "[[1, 11, '1L', 'NA'], [1, 12, '1L', 'NA'], [1, 13, '1L', 'NA'], [1, 14, '1L', 'NA'], [1, 15, '1L', 'NA'], [1, 11, '2R', 'NA'], [1, 12, '2R', 'NA'], [1, 13, '2R', 'NA'], [1, 14, '2R', 'NA'], [1, 15, '2R', 'NA'], [2, 11, '1L', 'NA'], [2, 12, '1L', 'NA'], [2, 13, '1L', 'NA'], [2, 14, '1L', 'NA'], [2, 15, '1L', 'NA'], [2, 11, '2R', 'NA'], [2, 12, '2R', 'NA'], [2, 13, '2R', 'NA'], [2, 14, '2R', 'NA'], [2, 15, '2R', 'NA'], [3, 11, '1L', 'NA'], [3, 12, '1L', 'NA'], [3, 13, '1L', 'NA'], [3, 14, '1L', 'NA'], [3, 15, '1L', 'NA'], [3, 11, '2R', 'NA'], [3, 12, '2R', 'NA'], [3, 13, '2R', 'NA'], [3, 14, '2R', 'NA'], [3, 15, '2R', 'NA'], [4, 11, '1L', 'NA'], [4, 12, '1L', 'NA'], [4, 13, '1L', 'NA'], [4, 14, '1L', 'NA'], [4, 15, '1L', 'NA'], [4, 11, '2R', 'NA'], [4, 12, '2R', 'NA'], [4, 13, '2R', 'NA'], [4, 14, '2R', 'NA'], [4, 15, '2R', 'NA'], [5, 11, '1L', 'NA'], [5, 12, '1L', 'NA'], [5, 13, '1L', 'NA'], [5, 14, '1L', 'NA'], [5, 15, '1L', 'NA'], [5, 11, '2R', 'NA'], [5, 12, '2R', 'NA'], [5, 13, '2R', 'NA'], [5, 14, '2R', 'NA'], [5, 15, '2R', 'NA']]\n"
     ]
    }
   ],
   "source": [
    "step_data_list = []\n",
    "for i in range(1,6):\n",
    "    step_data_list.append([i, 11, '1L', 'NA'])\n",
    "    step_data_list.append([i, 12, '1L', 'NA'])\n",
    "    step_data_list.append([i, 13, '1L', 'NA'])\n",
    "    step_data_list.append([i, 14, '1L', 'NA'])\n",
    "    step_data_list.append([i, 15, '1L', 'NA'])\n",
    "    step_data_list.append([i, 11, '2R', 'NA'])\n",
    "    step_data_list.append([i, 12, '2R', 'NA'])\n",
    "    step_data_list.append([i, 13, '2R', 'NA'])\n",
    "    step_data_list.append([i, 14, '2R', 'NA'])\n",
    "    step_data_list.append([i, 15, '2R', 'NA'])    \n",
    "    \n",
    "print(step_data_list)"
   ]
  },
  {
   "cell_type": "code",
   "execution_count": 5,
   "metadata": {},
   "outputs": [
    {
     "name": "stdout",
     "output_type": "stream",
     "text": [
      "108307\n",
      "108307\n"
     ]
    }
   ],
   "source": [
    "data_x, data_y = [], []\n",
    "for i in step_data_list:\n",
    "    data_x_segement, data_y_segement = add_data(i[0], i[1], i[2], i[3])\n",
    "    for dx in data_x_segement:\n",
    "        data_x.extend(dx)\n",
    "    for dy in data_y_segement:\n",
    "        data_y.extend(dy)\n",
    "    \n",
    "print(len(data_x))\n",
    "print(len(data_y))"
   ]
  },
  {
   "cell_type": "code",
   "execution_count": 6,
   "metadata": {},
   "outputs": [
    {
     "name": "stdout",
     "output_type": "stream",
     "text": [
      "108307\n",
      "0 10830\n",
      "97733 11086\n",
      "10830 21661\n",
      "97732 11087\n",
      "21661 32492\n",
      "97732 11087\n",
      "32492 43322\n",
      "97733 11086\n",
      "43322 54153\n",
      "97732 11087\n",
      "54153 64984\n",
      "97732 11087\n",
      "64984 75814\n",
      "97733 11086\n",
      "75814 86645\n",
      "97732 11087\n",
      "86645 97476\n",
      "97732 11087\n",
      "97476 108307\n",
      "97732 11087\n"
     ]
    }
   ],
   "source": [
    "data_size = len(data_x)\n",
    "batch_size = 256\n",
    "print(data_size)\n",
    "\n",
    "order = list(range(0,len(data_x),1))\n",
    "random.shuffle(order)\n",
    "\n",
    "train_x_list, train_y_list = [], []\n",
    "valid_x_list, valid_y_list = [], []\n",
    "\n",
    "#10 fold cross validation\n",
    "for i in range(0,10):\n",
    "    start = int(data_size*1.0/10*i)\n",
    "    end = int(data_size*1.0/10*(i+1))\n",
    "    print(start, end)\n",
    "    \n",
    "    train_x = [data_x[i] for i in order[0:start]]\n",
    "    train_x.extend([data_x[i] for i in order[end:data_size]])\n",
    "    train_x.extend([train_x[i] for i in range(0, batch_size)])\n",
    "    train_y = [data_y[i] for i in order[0:start]]\n",
    "    train_y.extend([data_y[i] for i in order[end:data_size]])\n",
    "    train_y.extend([train_y[i] for i in range(0, batch_size)])\n",
    "    train_x_list.append(train_x)\n",
    "    train_y_list.append(train_y)\n",
    "    \n",
    "    valid_x = [data_x[i] for i in order[start:end]]\n",
    "    valid_x.extend([valid_x[i] for i in range(0, batch_size)])\n",
    "    valid_y = [data_y[i] for i in order[start:end]]\n",
    "    valid_y.extend([valid_y[i] for i in range(0, batch_size)])\n",
    "    valid_x_list.append(valid_x)\n",
    "    valid_y_list.append(valid_y)\n",
    "    \n",
    "    print(len(train_x), len(valid_x))"
   ]
  },
  {
   "cell_type": "code",
   "execution_count": 7,
   "metadata": {},
   "outputs": [
    {
     "name": "stdout",
     "output_type": "stream",
     "text": [
      "[[6, 11, '1L', 'NA'], [6, 12, '1L', 'NA'], [6, 13, '1L', 'NA'], [6, 14, '1L', 'NA'], [6, 15, '1L', 'NA'], [6, 11, '2R', 'NA'], [6, 12, '2R', 'NA'], [6, 13, '2R', 'NA'], [6, 14, '2R', 'NA'], [6, 15, '2R', 'NA']]\n"
     ]
    }
   ],
   "source": [
    "step_test_list = []\n",
    "for i in range(6,7):\n",
    "    step_test_list.append([i, 11, '1L', 'NA'])\n",
    "    step_test_list.append([i, 12, '1L', 'NA'])\n",
    "    step_test_list.append([i, 13, '1L', 'NA'])\n",
    "    step_test_list.append([i, 14, '1L', 'NA'])\n",
    "    step_test_list.append([i, 15, '1L', 'NA'])\n",
    "    step_test_list.append([i, 11, '2R', 'NA'])\n",
    "    step_test_list.append([i, 12, '2R', 'NA'])\n",
    "    step_test_list.append([i, 13, '2R', 'NA'])\n",
    "    step_test_list.append([i, 14, '2R', 'NA'])\n",
    "    step_test_list.append([i, 15, '2R', 'NA'])    \n",
    "        \n",
    "print(step_test_list)"
   ]
  },
  {
   "cell_type": "code",
   "execution_count": 8,
   "metadata": {},
   "outputs": [
    {
     "name": "stdout",
     "output_type": "stream",
     "text": [
      "32\n",
      "32\n",
      "[10, 489, 1035, 51, 424, 884, 25, 535, 1057, 686, 598, 1184, 821, 604, 1141, 774, 10, 489, 1035, 51, 424, 884, 25, 535, 1057, 686, 598, 1184, 821, 604, 1141, 774]\n"
     ]
    }
   ],
   "source": [
    "test_x, test_y=[], []\n",
    "for i in step_test_list:\n",
    "    data_x_segement, data_y_segement = add_data(i[0], i[1], i[2], i[3])\n",
    "    test_x.extend(data_x_segement)\n",
    "    test_y.extend(data_y_segement)\n",
    "#     test_x.append(data_x_segement)\n",
    "#     test_y.append(data_y_segement)\n",
    "    \n",
    "print(len(test_x))\n",
    "print(len(test_y))\n",
    "\n",
    "print([len(i) for i in test_y])"
   ]
  },
  {
   "cell_type": "code",
   "execution_count": 9,
   "metadata": {},
   "outputs": [
    {
     "data": {
      "image/png": "[encoded data removed]",
      "text/plain": [
       "<matplotlib.figure.Figure at 0x7f64c3c7f208>"
      ]
     },
     "metadata": {},
     "output_type": "display_data"
    }
   ],
   "source": [
    "plt.figure(figsize=(18, 5))\n",
    "plt.plot([i[0] for i in test_y[0]], 'r')\n",
    "plt.show()"
   ]
  },
  {
   "cell_type": "code",
   "execution_count": 10,
   "metadata": {
    "collapsed": true
   },
   "outputs": [],
   "source": [
    "NUM_LAYERS=2\n",
    "\n",
    "def LstmCell():\n",
    "    lstm_cell = tf.contrib.rnn.BasicLSTMCell(num_hidden)#, forget_bias=1.0)\n",
    "    cell = tf.contrib.rnn.DropoutWrapper(lstm_cell, output_keep_prob=0.5)\n",
    "    return cell\n",
    "\n",
    "graph = tf.Graph()\n",
    "with graph.as_default(), tf.device('/gpu:0'):\n",
    "    # tf Graph input\n",
    "    X = tf.placeholder(\"float\", [None, timesteps, num_input])\n",
    "    Y = tf.placeholder(\"float\", [None, num_output])\n",
    "    \n",
    "    # Define weights\n",
    "    weights = {\n",
    "        'out': tf.Variable(tf.random_normal([num_hidden, num_output]))\n",
    "    }\n",
    "    biases = {\n",
    "        'out': tf.Variable(tf.random_normal([num_output]))\n",
    "    }\n",
    "    \n",
    "    def RNN(x, weights, biases):\n",
    "        x = tf.unstack(x, timesteps, 1)\n",
    "        cell = tf.contrib.rnn.MultiRNNCell([LstmCell() for _ in range(NUM_LAYERS)])\n",
    "        outputs, state = tf.nn.dynamic_rnn(cell, X, dtype=tf.float32)\n",
    "        outputs = tf.transpose(outputs, [1,0,2])\n",
    "\n",
    "        return tf.matmul(outputs[-1], weights['out']) + biases['out']\n",
    "    \n",
    "\n",
    "    logits = RNN(X, weights, biases)\n",
    "    mean_train = tf.reduce_mean(X)\n",
    "    loss = tf.reduce_mean(tf.squared_difference(logits, Y))\n",
    "\n",
    "    optimizer = tf.train.AdamOptimizer(learning_rate = 0.001).minimize(loss)\n",
    "    \n",
    "    saver = tf.train.Saver()"
   ]
  },
  {
   "cell_type": "code",
   "execution_count": 11,
   "metadata": {},
   "outputs": [
    {
     "name": "stdout",
     "output_type": "stream",
     "text": [
      "97732\n",
      "97732\n"
     ]
    }
   ],
   "source": [
    "batch_size = 256\n",
    "batch_start = 0;\n",
    "train_length = len(train_x)\n",
    "print(train_length)\n",
    "\n",
    "train_x_extend = [i for i in train_x]\n",
    "train_y_extend = [i for i in train_y]\n",
    "\n",
    "print(len(train_x_extend))"
   ]
  },
  {
   "cell_type": "code",
   "execution_count": 12,
   "metadata": {},
   "outputs": [
    {
     "name": "stdout",
     "output_type": "stream",
     "text": [
      "97988\n"
     ]
    }
   ],
   "source": [
    "if(len(train_x_extend)==len(train_x)):\n",
    "    train_x_extend.extend(train_x[0:batch_size])\n",
    "    train_y_extend.extend(train_y[0:batch_size])\n",
    "print(len(train_x_extend))"
   ]
  },
  {
   "cell_type": "code",
   "execution_count": 13,
   "metadata": {
    "collapsed": true
   },
   "outputs": [],
   "source": [
    "def cal_accuarcy(y, _y):\n",
    "    count = 0\n",
    "    for i in range(0, len(y)):\n",
    "        if(y[i][0] == round(_y[i][0])):\n",
    "            count += 1;\n",
    "    return count*1.0/len(y)\n",
    "#     print(\"train accuarcy : \", count/len(y))"
   ]
  },
  {
   "cell_type": "code",
   "execution_count": 28,
   "metadata": {
    "collapsed": true
   },
   "outputs": [],
   "source": [
    "def test_accuarcy(test_y, test_logits):\n",
    "    test_logits_int = [[round(i[0])] for i in test_logits]\n",
    "\n",
    "    count = 0\n",
    "    for i in range(0, len(test_y)):\n",
    "        if(test_y[i][0] == test_logits_int[i][0]):\n",
    "            count += 1;\n",
    "    print(\"test accuarcy : \", count*1.0/len(test_y))"
   ]
  },
  {
   "cell_type": "code",
   "execution_count": 29,
   "metadata": {},
   "outputs": [
    {
     "name": "stdout",
     "output_type": "stream",
     "text": [
      "cross validation  0\n",
      "Initialized\n",
      "Loss at step 0: 0.800295, train accuarcy : 0.414062\n",
      "Loss at step 200: 0.104513, train accuarcy : 0.882812\n",
      "Loss at step 400: 0.085948, train accuarcy : 0.914062\n",
      "Loss at step 600: 0.086683, train accuarcy : 0.902344\n",
      "Loss at step 800: 0.091673, train accuarcy : 0.886719\n",
      "Loss at step 1000: 0.077218, train accuarcy : 0.917969\n",
      "test loss :  0.0754572\n",
      "test accuarcy :  0.9182753021829334\n",
      "cross validation  1\n",
      "Initialized\n",
      "Loss at step 0: 1.054905, train accuarcy : 0.320312\n",
      "Loss at step 200: 0.107571, train accuarcy : 0.886719\n",
      "Loss at step 400: 0.086489, train accuarcy : 0.933594\n",
      "Loss at step 600: 0.092603, train accuarcy : 0.886719\n",
      "Loss at step 800: 0.082522, train accuarcy : 0.910156\n",
      "Loss at step 1000: 0.074034, train accuarcy : 0.929688\n",
      "test loss :  0.0768431\n",
      "test accuarcy :  0.914404257238207\n",
      "cross validation  2\n",
      "Initialized\n",
      "Loss at step 0: 0.853357, train accuarcy : 0.457031\n",
      "Loss at step 200: 0.109510, train accuarcy : 0.898438\n",
      "Loss at step 400: 0.096257, train accuarcy : 0.871094\n",
      "Loss at step 600: 0.091886, train accuarcy : 0.902344\n",
      "Loss at step 800: 0.070241, train accuarcy : 0.925781\n",
      "Loss at step 1000: 0.079541, train accuarcy : 0.902344\n",
      "test loss :  0.0752693\n",
      "test accuarcy :  0.9183728691260035\n",
      "cross validation  3\n",
      "Initialized\n",
      "Loss at step 0: 2.166654, train accuarcy : 0.070312\n",
      "Loss at step 200: 0.135566, train accuarcy : 0.828125\n",
      "Loss at step 400: 0.111889, train accuarcy : 0.878906\n",
      "Loss at step 600: 0.112314, train accuarcy : 0.855469\n",
      "Loss at step 800: 0.099322, train accuarcy : 0.875000\n",
      "Loss at step 1000: 0.102381, train accuarcy : 0.894531\n",
      "test loss :  0.0942982\n",
      "test accuarcy :  0.8918455709904384\n",
      "cross validation  4\n",
      "Initialized\n",
      "Loss at step 0: 4.342983, train accuarcy : 0.000000\n",
      "Loss at step 200: 0.227714, train accuarcy : 0.695312\n",
      "Loss at step 400: 0.160382, train accuarcy : 0.796875\n",
      "Loss at step 600: 0.120399, train accuarcy : 0.832031\n",
      "Loss at step 800: 0.125138, train accuarcy : 0.808594\n",
      "Loss at step 1000: 0.121140, train accuarcy : 0.859375\n",
      "test loss :  0.118764\n",
      "test accuarcy :  0.8551456660954271\n",
      "cross validation  5\n",
      "Initialized\n",
      "Loss at step 0: 0.503342, train accuarcy : 0.417969\n",
      "Loss at step 200: 0.109132, train accuarcy : 0.878906\n",
      "Loss at step 400: 0.089131, train accuarcy : 0.917969\n",
      "Loss at step 600: 0.079584, train accuarcy : 0.906250\n",
      "Loss at step 800: 0.063961, train accuarcy : 0.937500\n",
      "Loss at step 1000: 0.070765, train accuarcy : 0.921875\n",
      "test loss :  0.0673132\n",
      "test accuarcy :  0.9239650040588077\n",
      "cross validation  6\n",
      "Initialized\n",
      "Loss at step 0: 1.689507, train accuarcy : 0.234375\n",
      "Loss at step 200: 0.141656, train accuarcy : 0.812500\n",
      "Loss at step 400: 0.092789, train accuarcy : 0.867188\n",
      "Loss at step 600: 0.087734, train accuarcy : 0.898438\n",
      "Loss at step 800: 0.077853, train accuarcy : 0.925781\n",
      "Loss at step 1000: 0.100709, train accuarcy : 0.890625\n",
      "test loss :  0.086582\n",
      "test accuarcy :  0.9048349269348728\n",
      "cross validation  7\n",
      "Initialized\n",
      "Loss at step 0: 0.489188, train accuarcy : 0.464844\n",
      "Loss at step 200: 0.120650, train accuarcy : 0.859375\n",
      "Loss at step 400: 0.090936, train accuarcy : 0.886719\n",
      "Loss at step 600: 0.078954, train accuarcy : 0.906250\n",
      "Loss at step 800: 0.068836, train accuarcy : 0.929688\n",
      "Loss at step 1000: 0.093850, train accuarcy : 0.898438\n",
      "test loss :  0.0721625\n",
      "test accuarcy :  0.9203571750699017\n",
      "cross validation  8\n",
      "Initialized\n",
      "Loss at step 0: 1.691121, train accuarcy : 0.285156\n",
      "Loss at step 200: 0.133677, train accuarcy : 0.824219\n",
      "Loss at step 400: 0.098219, train accuarcy : 0.894531\n",
      "Loss at step 600: 0.079943, train accuarcy : 0.914062\n",
      "Loss at step 800: 0.086435, train accuarcy : 0.898438\n",
      "Loss at step 1000: 0.099526, train accuarcy : 0.882812\n",
      "test loss :  0.0818484\n",
      "test accuarcy :  0.9083611436817894\n",
      "cross validation  9\n",
      "Initialized\n",
      "Loss at step 0: 0.700967, train accuarcy : 0.460938\n",
      "Loss at step 200: 0.120876, train accuarcy : 0.863281\n",
      "Loss at step 400: 0.093095, train accuarcy : 0.906250\n",
      "Loss at step 600: 0.086137, train accuarcy : 0.906250\n",
      "Loss at step 800: 0.072297, train accuarcy : 0.933594\n",
      "Loss at step 1000: 0.088094, train accuarcy : 0.910156\n",
      "test loss :  0.0727496\n",
      "test accuarcy :  0.9212591323171282\n"
     ]
    }
   ],
   "source": [
    "training_steps = 1001\n",
    "\n",
    "for i in range(0, 10):\n",
    "    print(\"cross validation \", i)\n",
    "    batch_start = 0\n",
    "    train_x = train_x_list[i]\n",
    "    train_y = train_y_list[i]\n",
    "    config = tf.ConfigProto(allow_soft_placement=True)\n",
    "    with tf.Session(graph=graph, config=config) as session:\n",
    "#         saver.restore(session, tf.train.latest_checkpoint('lstm_check'))\n",
    "    #     saver.restore(session, \"lstm_check/my-model-gpu-error-metric-dropout2.ckpt-6000\")\n",
    "        tf.global_variables_initializer().run()\n",
    "        print('Initialized')\n",
    "        for step in range(training_steps):      \n",
    "            feed_dict = {X: train_x[batch_start:batch_start+batch_size], Y: train_y[batch_start:batch_start+batch_size]}\n",
    "            _, l, predictions, m = session.run([optimizer, loss, logits, mean_train], feed_dict = feed_dict)\n",
    "            if (step % 200 == 0):\n",
    "                train_accuarcy = cal_accuarcy(train_y[batch_start:batch_start+batch_size], predictions)\n",
    "                print('Loss at step %d: %f, train accuarcy : %f' % (step, l, train_accuarcy))\n",
    "                #train accuarcy\n",
    "            if (step % 1000 == 0):\n",
    "                saver.save(session, 'lstm_check/my-model-gpu-error-metric-dropout2-na-10fold-'+str(i)+'-.ckpt', global_step=step+6000)\n",
    "            batch_start += batch_size\n",
    "            if(batch_start>=train_length):\n",
    "                batch_start -=train_length\n",
    "        valid_loss, valid_logits = session.run([loss,logits], feed_dict={X: valid_x_list[i], Y: valid_y_list[i]})\n",
    "        print(\"test loss : \", valid_loss)\n",
    "        test_accuarcy(valid_y_list[i], valid_logits)\n",
    "\n",
    "#     test_loss, test_logits = [], []\n",
    "#     for i in range(len(test_x)):\n",
    "#         test_loss_part, test_logits_part = session.run([loss,logits], feed_dict={X: test_x[i], Y: test_y[i]})\n",
    "#         test_loss.append(test_loss_part)\n",
    "#         test_logits.append(test_logits_part)"
   ]
  },
  {
   "cell_type": "code",
   "execution_count": 32,
   "metadata": {},
   "outputs": [
    {
     "name": "stdout",
     "output_type": "stream",
     "text": [
      "INFO:tensorflow:Restoring parameters from lstm_check/my-model-gpu-error-metric-dropout2-na-10fold-9-.ckpt-7000\n",
      "Test\n"
     ]
    }
   ],
   "source": [
    "with tf.Session(graph=graph, config=config) as session:\n",
    "    saver.restore(session, \"lstm_check/my-model-gpu-error-metric-dropout2-na-10fold-9-.ckpt-7000\")\n",
    "    print('Test')\n",
    "\n",
    "    test_loss, test_logits = [], []\n",
    "    for i in range(len(test_x)):\n",
    "        test_loss_part, test_logits_part = session.run([loss,logits], feed_dict={X: test_x[i], Y: test_y[i]})\n",
    "        test_loss.append(test_loss_part)\n",
    "        test_logits.append(test_logits_part)"
   ]
  },
  {
   "cell_type": "code",
   "execution_count": 34,
   "metadata": {},
   "outputs": [
    {
     "data": {
      "image/png": "[encoded data removed]",
      "text/plain": [
       "<matplotlib.figure.Figure at 0x7f64ac638438>"
      ]
     },
     "metadata": {},
     "output_type": "display_data"
    }
   ],
   "source": [
    "plt.figure(figsize=(18, 5))\n",
    "start=0\n",
    "end=2000\n",
    "plt.plot([i[0] for i in test_y[1][start:end]], 'r')\n",
    "plt.plot([i[0] for i in test_logits[1][start:end]], 'b')\n",
    "plt.show()"
   ]
  },
  {
   "cell_type": "code",
   "execution_count": 35,
   "metadata": {},
   "outputs": [
    {
     "name": "stdout",
     "output_type": "stream",
     "text": [
      "test loss :  [0.24231574, 0.071910828, 0.069637224, 0.065587156, 0.094165862, 0.094201542, 0.19963633, 0.087144025, 0.082992822, 0.085845523, 0.061695799, 0.069226727, 0.073593833, 0.10366201, 0.10007786, 0.10881026, 0.025639361, 0.05771862, 0.062023085, 0.07864698, 0.095371261, 0.096060775, 0.17542538, 0.071105532, 0.063449949, 0.059803303, 0.068947174, 0.074991085, 0.071698934, 0.085482366, 0.085745968, 0.10134447]\n"
     ]
    }
   ],
   "source": [
    "print(\"test loss : \", test_loss)"
   ]
  },
  {
   "cell_type": "code",
   "execution_count": 36,
   "metadata": {},
   "outputs": [
    {
     "name": "stdout",
     "output_type": "stream",
     "text": [
      "18629\n",
      "20636\n",
      "test accuarcy :  0.9027427796084513\n"
     ]
    }
   ],
   "source": [
    "test_logits_bin = []\n",
    "for t in test_logits:\n",
    "    test_logits_part = [[round(i[0])] for i in t]\n",
    "    for i in range(1, len(test_logits_part)-1):\n",
    "        if(test_logits_part[i-1][0]!=test_logits_part[i][0] and test_logits_part[i-1][0]==test_logits_part[i+1][0]):\n",
    "            test_logits_part[i][0]=test_logits_part[i-1][0]    \n",
    "    test_logits_bin.append(test_logits_part)\n",
    "\n",
    "count = 0\n",
    "total = 0\n",
    "for i in range(0, len(test_x)):\n",
    "    total += len(test_y[i])\n",
    "    for j in range(0, len(test_y[i])):\n",
    "        if(test_y[i][j][0] == test_logits_bin[i][j][0]):\n",
    "            count += 1\n",
    "\n",
    "print(count)\n",
    "print(total)\n",
    "print(\"test accuarcy : \", count*1.0/total)"
   ]
  },
  {
   "cell_type": "code",
   "execution_count": 40,
   "metadata": {},
   "outputs": [
    {
     "data": {
      "image/png": "[encoded data removed]",
      "text/plain": [
       "<matplotlib.figure.Figure at 0x7f64a41cf8d0>"
      ]
     },
     "metadata": {},
     "output_type": "display_data"
    }
   ],
   "source": [
    "plt.figure(figsize=(18, 5))\n",
    "start=0\n",
    "end=2000\n",
    "plt.plot([i[0] for i in test_y[1][start:end]], 'r')\n",
    "plt.plot([i[0] for i in test_logits_bin[1][start:end]], 'b')\n",
    "plt.show()"
   ]
  },
  {
   "cell_type": "code",
   "execution_count": 41,
   "metadata": {},
   "outputs": [
    {
     "name": "stdout",
     "output_type": "stream",
     "text": [
      "Step number for each segement\n",
      "[2, 35, 74, 4, 30, 64, 2, 36, 71, 46, 42, 82, 58, 40, 78, 54, 2, 35, 74, 4, 30, 64, 2, 36, 71, 46, 42, 82, 58, 40, 78, 54]\n",
      "[2, 36, 75, 3, 30, 64, 2, 36, 71, 46, 42, 82, 58, 40, 80, 56, 2, 36, 76, 4, 30, 64, 2, 36, 71, 46, 42, 82, 58, 40, 78, 56]\n"
     ]
    }
   ],
   "source": [
    "step_time_actual, step_time_predict= [], []\n",
    "\n",
    "for i in range(0, len(test_x)):\n",
    "    step_time_actual_part, step_time_predict_part= [], []\n",
    "    for j in range(0, len(test_y[i])-1):\n",
    "        if(abs(test_y[i][j][0]-test_y[i][j-1][0])>0.5):\n",
    "            step_time_actual_part.append(j)\n",
    "    #     if(abs(test_logits[i][0]-test_logits[i-1][0])>0.5):\n",
    "        if(abs(test_logits_bin[i][j][0]-test_logits_bin[i][j-1][0])>0.5):\n",
    "            step_time_predict_part.append(j)\n",
    "    step_time_actual.append(step_time_actual_part)\n",
    "    step_time_predict.append(step_time_predict_part)\n",
    "\n",
    "print('Step number for each segement')\n",
    "print([len(i) for i in step_time_actual])   \n",
    "print([len(i) for i in step_time_predict])"
   ]
  },
  {
   "cell_type": "code",
   "execution_count": 42,
   "metadata": {},
   "outputs": [
    {
     "name": "stdout",
     "output_type": "stream",
     "text": [
      "error : \n",
      "total undercount metric 1 :  0.17548746518105848\n",
      "total overcount metric 1 :  0.1775766016713092\n",
      "total undercount metric 2 :  0.0006963788300835655\n",
      "total overcount metric 2 :  0.00766016713091922\n"
     ]
    }
   ],
   "source": [
    "total_step_count = sum([len(i) for i in step_time_actual])\n",
    "metric1_undercount = 0\n",
    "metric2_undercount = 0\n",
    "metric1_overcount = 0\n",
    "metric2_overcount = 0\n",
    "\n",
    "for i in range(len(test_x)):\n",
    "    step_count = len(step_time_actual[i])\n",
    "    undercount = 0\n",
    "    overcount = 0\n",
    "\n",
    "    for j in range(1, step_count):\n",
    "        gap_count = [t for t in step_time_predict[i] if t>=step_time_actual[i][j-1] and t<step_time_actual[i][j]]\n",
    "    #     print(gap_count)\n",
    "        if(len(gap_count)>1):\n",
    "            overcount += len(gap_count)-1\n",
    "        if(len(gap_count)<1):\n",
    "            undercount += 1\n",
    "    \n",
    "    metric1_undercount += undercount\n",
    "    metric1_overcount += overcount\n",
    "#     print(undercount, overcount)\n",
    "#     print('undercount : ', undercount*1.0/step_count)\n",
    "#     print('overcount : ', overcount*1.0/step_count)\n",
    "    diff = len(step_time_predict[i])-len(step_time_actual[i])\n",
    "#     if(diff==0):\n",
    "#         print(\"segement correct!\")\n",
    "\n",
    "    if(diff<0):\n",
    "#         print('segement undercount : ', 1-len(step_time_predict[i])*1.0/len(step_time_actual[i]))\n",
    "        metric2_undercount -= diff\n",
    "    if(diff>0):\n",
    "#         print('segement overcount : ', 1-len(step_time_actual[i])*1.0/len(step_time_predict[i]))\n",
    "        metric2_overcount += diff\n",
    "\n",
    "print('error : ')\n",
    "print(\"total undercount metric 1 : \", metric1_undercount*1.0/total_step_count)\n",
    "print(\"total overcount metric 1 : \", metric1_overcount*1.0/total_step_count)\n",
    "print(\"total undercount metric 2 : \", metric2_undercount*1.0/total_step_count)\n",
    "print(\"total overcount metric 2 : \", metric2_overcount*1.0/total_step_count)"
   ]
  },
  {
   "cell_type": "code",
   "execution_count": null,
   "metadata": {
    "collapsed": true
   },
   "outputs": [],
   "source": []
  }
 ],
 "metadata": {
  "kernelspec": {
   "display_name": "Python 3",
   "language": "python",
   "name": "python3"
  },
  "language_info": {
   "codemirror_mode": {
    "name": "ipython",
    "version": 3
   },
   "file_extension": ".py",
   "mimetype": "text/x-python",
   "name": "python",
   "nbconvert_exporter": "python",
   "pygments_lexer": "ipython3",
   "version": "3.6.3"
  }
 },
 "nbformat": 4,
 "nbformat_minor": 2
}
