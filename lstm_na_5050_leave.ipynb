{
 "cells": [
  {
   "cell_type": "code",
   "execution_count": 1,
   "metadata": {},
   "outputs": [
    {
     "name": "stderr",
     "output_type": "stream",
     "text": [
      "/home/ziyi/anaconda3/lib/python3.6/importlib/_bootstrap.py:219: RuntimeWarning: compiletime version 3.5 of module 'tensorflow.python.framework.fast_tensor_util' does not match runtime version 3.6\n",
      "  return f(*args, **kwds)\n"
     ]
    }
   ],
   "source": [
    "import numpy as np\n",
    "import matplotlib.pyplot as plt\n",
    "import tensorflow as tf\n",
    "import math\n",
    "import re\n",
    "import random\n",
    "import csv"
   ]
  },
  {
   "cell_type": "code",
   "execution_count": 2,
   "metadata": {
    "collapsed": true
   },
   "outputs": [],
   "source": [
    "# Network Parameters\n",
    "num_input = 6\n",
    "timesteps = 50 # timesteps\n",
    "num_hidden = 100 # hidden layer num of features\n",
    "num_output= 1"
   ]
  },
  {
   "cell_type": "code",
   "execution_count": 3,
   "metadata": {
    "collapsed": true
   },
   "outputs": [],
   "source": [
    "def read_sensor(filename):\n",
    "    with open(filename, \"r\") as csvfile:\n",
    "        reader = csv.reader(csvfile)\n",
    "        dataset = [row[17:23] for row in reader]\n",
    "        #data_x\n",
    "        return np.array(dataset)\n",
    "    \n",
    "def read_xml(filename, length):\n",
    "    f = open(filename)\n",
    "    cts = f.read()\n",
    "    f.close()\n",
    "\n",
    "    p_foot = re.compile(r'<WhichFoot>(.*?)</WhichFoot>')\n",
    "    all_foot = p_foot.findall(cts)\n",
    "\n",
    "    p_time = re.compile(r'<Time>(.*?)</Time>')\n",
    "    all_time = p_time.findall(cts)\n",
    "\n",
    "    strike_times = []\n",
    "    #L-1 R-0\n",
    "    strike_times.append([0.0, 0.5])\n",
    "    for i in range(len(all_foot)):\n",
    "        if(all_foot[i]=='L'):\n",
    "            strike_times.append([float(all_time[i]), 1])\n",
    "        else:\n",
    "            strike_times.append([float(all_time[i]), 0])\n",
    "    strike_times[-1][1] = 0.5\n",
    "    strike_times.append([length/25.0, 0.5])\n",
    "\n",
    "    window_y = []\n",
    "    strike_index=0\n",
    "    for i in range(length):\n",
    "        if(i/25.0 >= strike_times[strike_index+1][0]):\n",
    "            strike_index += 1\n",
    "        window_y.append([strike_times[strike_index][1]])\n",
    "\n",
    "    p_info = re.compile(r'<StartTime>(.*?)</StartTime>\\n\\t<EndTime>(.*?)</EndTime>\\n\\t<NSteps>(.*?)</NSteps>\\n\\t<Direction>(.*?)</Direction>')\n",
    "    all_info = p_info.findall(cts)#start_time, end_time, step_num, direction=turn\n",
    "\n",
    "    for i in range(len(all_info)):\n",
    "        if(all_info[i][3][:4]=='Turn'):\n",
    "#             print(all_info[i])\n",
    "            start_time = int(float(all_info[i][0])*25)\n",
    "            end_time = int(float(all_info[i][1])*25)\n",
    "#             print('start and end time : ', all_info[i][0], all_info[i][1])\n",
    "            for t in range(start_time-1, end_time):\n",
    "                window_y[t] = [0.5]\n",
    "\n",
    "    p_feature = re.compile(r'<Feature>\\n\\t\\t\\t<StartTime>(.*?)</StartTime>\\n\\t\\t\\t<EndTime>(.*?)</EndTime>')\n",
    "    all_feature = p_feature.findall(cts)#start_time, end_time, step_num, direction=turn\n",
    "\n",
    "    for i in range(len(all_feature)):\n",
    "        start_time = int(float(all_feature[i][0])*25)\n",
    "        end_time = int(float(all_feature[i][1])*25)\n",
    "        for t in range(start_time-1, end_time):\n",
    "            window_y[t] = [0.5]\n",
    "            \n",
    "#     print(len(window_y))  \n",
    "    return window_y\n",
    "\n",
    "def add_data(path, person, phone_location, assistant):\n",
    "    data_x = read_sensor('weallwalk/sensor/iPhoneSensors_T'+str(path)+'_ID'+str(person)+'_'+phone_location+'_'+assistant+'.csv')\n",
    "    data_y = read_xml('weallwalk/xml/T'+str(path)+'_ID'+str(person)+'_'+assistant+'.xml', len(data_x))\n",
    "    \n",
    "    split_x, split_x_part = [], []\n",
    "    split_y, split_y_part = [], []\n",
    "    for i in range(len(data_y)):\n",
    "        if(data_y[i][0]!=0.5):\n",
    "            split_y_part.append(data_y[i])\n",
    "            split_x_part.append(data_x[i])\n",
    "        else:\n",
    "            if(len(split_y_part)>0):\n",
    "                split_y.append(split_y_part)\n",
    "                split_x.append(split_x_part)\n",
    "                split_y_part = []\n",
    "                split_x_part = []\n",
    "    \n",
    "    data_x_seq, data_y_seq = [], []\n",
    "    for i in range(len(split_x)):\n",
    "        data_x_part, data_y_part = [], []\n",
    "        for j in range(len(split_x[i])-timesteps):\n",
    "            x = split_x[i][j:j+timesteps]\n",
    "            y = split_y[i][j:j+timesteps]\n",
    "            data_x_part.append(x)\n",
    "            data_y_part.append(y)\n",
    "        if(len(data_x_part)>0):\n",
    "            data_x_seq.append(data_x_part)\n",
    "            data_y_seq.append(data_y_part)\n",
    "    \n",
    "    return data_x_seq, data_y_seq"
   ]
  },
  {
   "cell_type": "code",
   "execution_count": 4,
   "metadata": {},
   "outputs": [
    {
     "name": "stdout",
     "output_type": "stream",
     "text": [
      "[[1, 11, '1L', 'NA'], [1, 12, '1L', 'NA'], [1, 13, '1L', 'NA'], [1, 14, '1L', 'NA'], [1, 11, '2R', 'NA'], [1, 12, '2R', 'NA'], [1, 13, '2R', 'NA'], [1, 14, '2R', 'NA'], [2, 11, '1L', 'NA'], [2, 12, '1L', 'NA'], [2, 13, '1L', 'NA'], [2, 14, '1L', 'NA'], [2, 11, '2R', 'NA'], [2, 12, '2R', 'NA'], [2, 13, '2R', 'NA'], [2, 14, '2R', 'NA'], [3, 11, '1L', 'NA'], [3, 12, '1L', 'NA'], [3, 13, '1L', 'NA'], [3, 14, '1L', 'NA'], [3, 11, '2R', 'NA'], [3, 12, '2R', 'NA'], [3, 13, '2R', 'NA'], [3, 14, '2R', 'NA'], [4, 11, '1L', 'NA'], [4, 12, '1L', 'NA'], [4, 13, '1L', 'NA'], [4, 14, '1L', 'NA'], [4, 11, '2R', 'NA'], [4, 12, '2R', 'NA'], [4, 13, '2R', 'NA'], [4, 14, '2R', 'NA'], [5, 11, '1L', 'NA'], [5, 12, '1L', 'NA'], [5, 13, '1L', 'NA'], [5, 14, '1L', 'NA'], [5, 11, '2R', 'NA'], [5, 12, '2R', 'NA'], [5, 13, '2R', 'NA'], [5, 14, '2R', 'NA'], [6, 11, '1L', 'NA'], [6, 12, '1L', 'NA'], [6, 13, '1L', 'NA'], [6, 14, '1L', 'NA'], [6, 11, '2R', 'NA'], [6, 12, '2R', 'NA'], [6, 13, '2R', 'NA'], [6, 14, '2R', 'NA']]\n"
     ]
    }
   ],
   "source": [
    "step_data_list = []\n",
    "for i in range(1,7):\n",
    "    step_data_list.append([i, 11, '1L', 'NA'])\n",
    "    step_data_list.append([i, 12, '1L', 'NA'])\n",
    "    step_data_list.append([i, 13, '1L', 'NA'])\n",
    "    step_data_list.append([i, 14, '1L', 'NA'])\n",
    "#     step_data_list.append([i, 15, '1L', 'NA'])\n",
    "    step_data_list.append([i, 11, '2R', 'NA'])\n",
    "    step_data_list.append([i, 12, '2R', 'NA'])\n",
    "    step_data_list.append([i, 13, '2R', 'NA'])\n",
    "    step_data_list.append([i, 14, '2R', 'NA'])\n",
    "#     step_data_list.append([i, 15, '2R', 'NA'])    \n",
    "    \n",
    "print(step_data_list)"
   ]
  },
  {
   "cell_type": "code",
   "execution_count": 5,
   "metadata": {},
   "outputs": [
    {
     "name": "stdout",
     "output_type": "stream",
     "text": [
      "99853\n",
      "99853\n"
     ]
    }
   ],
   "source": [
    "data_x, data_y = [], []\n",
    "for i in step_data_list:\n",
    "    data_x_segement, data_y_segement = add_data(i[0], i[1], i[2], i[3])\n",
    "    for dx in data_x_segement:\n",
    "        data_x.extend(dx)\n",
    "    for dy in data_y_segement:\n",
    "        data_y.extend(dy)\n",
    "    \n",
    "print(len(data_x))\n",
    "print(len(data_y))"
   ]
  },
  {
   "cell_type": "code",
   "execution_count": 6,
   "metadata": {},
   "outputs": [
    {
     "name": "stdout",
     "output_type": "stream",
     "text": [
      "99853\n"
     ]
    }
   ],
   "source": [
    "order = list(range(0,len(data_x),1))\n",
    "random.shuffle(order)\n",
    "\n",
    "train_x = [data_x[i] for i in order]\n",
    "train_y = [data_y[i] for i in order]\n",
    "\n",
    "print(len(train_x))"
   ]
  },
  {
   "cell_type": "code",
   "execution_count": 7,
   "metadata": {},
   "outputs": [
    {
     "name": "stdout",
     "output_type": "stream",
     "text": [
      "[[1, 15, '1L', 'NA'], [1, 15, '2R', 'NA'], [2, 15, '1L', 'NA'], [2, 15, '2R', 'NA'], [3, 15, '1L', 'NA'], [3, 15, '2R', 'NA'], [4, 15, '1L', 'NA'], [4, 15, '2R', 'NA'], [5, 15, '1L', 'NA'], [5, 15, '2R', 'NA'], [6, 15, '1L', 'NA'], [6, 15, '2R', 'NA']]\n"
     ]
    }
   ],
   "source": [
    "step_test_list = []\n",
    "for i in range(1,7):\n",
    "#     step_test_list.append([i, 11, '1L', 'NA'])\n",
    "#     step_test_list.append([i, 12, '1L', 'NA'])\n",
    "#     step_test_list.append([i, 13, '1L', 'NA'])\n",
    "#     step_test_list.append([i, 14, '1L', 'NA'])\n",
    "    step_test_list.append([i, 15, '1L', 'NA'])\n",
    "#     step_test_list.append([i, 11, '2R', 'NA'])\n",
    "#     step_test_list.append([i, 12, '2R', 'NA'])\n",
    "#     step_test_list.append([i, 13, '2R', 'NA'])\n",
    "#     step_test_list.append([i, 14, '2R', 'NA'])\n",
    "    step_test_list.append([i, 15, '2R', 'NA'])    \n",
    "        \n",
    "print(step_test_list)"
   ]
  },
  {
   "cell_type": "code",
   "execution_count": 8,
   "metadata": {},
   "outputs": [
    {
     "name": "stdout",
     "output_type": "stream",
     "text": [
      "56\n",
      "56\n",
      "[80, 116, 775, 75, 80, 116, 775, 75, 113, 1087, 107, 58, 113, 1087, 107, 58, 1135, 270, 1135, 270, 198, 1074, 87, 1021, 122, 837, 104, 757, 198, 1074, 87, 1021, 122, 837, 104, 757, 50, 339, 627, 137, 393, 281, 1099, 50, 339, 627, 137, 393, 281, 1099, 604, 1141, 774, 604, 1141, 774]\n"
     ]
    }
   ],
   "source": [
    "test_x, test_y=[], []\n",
    "for i in step_test_list:\n",
    "    data_x_segement, data_y_segement = add_data(i[0], i[1], i[2], i[3])\n",
    "    test_x.extend(data_x_segement)\n",
    "    test_y.extend(data_y_segement)\n",
    "#     test_x.append(data_x_segement)\n",
    "#     test_y.append(data_y_segement)\n",
    "    \n",
    "print(len(test_x))\n",
    "print(len(test_y))\n",
    "\n",
    "print([len(i) for i in test_y])"
   ]
  },
  {
   "cell_type": "code",
   "execution_count": 9,
   "metadata": {},
   "outputs": [
    {
     "data": {
      "image/png": "[encoded data removed]",
      "text/plain": [
       "<matplotlib.figure.Figure at 0x7fe9d3eb22b0>"
      ]
     },
     "metadata": {},
     "output_type": "display_data"
    }
   ],
   "source": [
    "plt.figure(figsize=(18, 5))\n",
    "plt.plot([i[0] for i in test_y[1]], 'r')\n",
    "plt.show()"
   ]
  },
  {
   "cell_type": "code",
   "execution_count": 10,
   "metadata": {},
   "outputs": [
    {
     "name": "stdout",
     "output_type": "stream",
     "text": [
      "(?, 50, 1)\n",
      "(50, 1)\n"
     ]
    }
   ],
   "source": [
    "NUM_LAYERS=2\n",
    "\n",
    "def LstmCell():\n",
    "    lstm_cell = tf.contrib.rnn.BasicLSTMCell(num_hidden)#, forget_bias=1.0)\n",
    "    cell = tf.contrib.rnn.DropoutWrapper(lstm_cell, output_keep_prob=0.5)\n",
    "    return cell\n",
    "\n",
    "graph = tf.Graph()\n",
    "with graph.as_default(), tf.device('/gpu:0'):\n",
    "    # tf Graph input\n",
    "    X = tf.placeholder(\"float\", [None, timesteps, num_input])\n",
    "    Y = tf.placeholder(\"float\", [None, timesteps, num_output])\n",
    "    \n",
    "    # Define weights\n",
    "    weights = {\n",
    "        'out': tf.Variable(tf.random_normal([num_hidden, num_output]))\n",
    "    }\n",
    "    biases = {\n",
    "        'out': tf.Variable(tf.random_normal([num_output]))\n",
    "    }\n",
    "    \n",
    "    def RNN(x, weights, biases):\n",
    "        x = tf.unstack(x, timesteps, 1)\n",
    "        cell = tf.contrib.rnn.MultiRNNCell([LstmCell() for _ in range(NUM_LAYERS)])\n",
    "        outputs, state = tf.nn.dynamic_rnn(cell, X, dtype=tf.float32)\n",
    "        outputs = tf.transpose(outputs, [1,0,2])\n",
    "\n",
    "#         return tf.matmul(outputs[-2], weights['out']) + biases['out']\n",
    "        ret = []\n",
    "#         print(outputs.shape)\n",
    "        for i in range(0, timesteps):\n",
    "            ret.append(tf.matmul(outputs[i], weights['out']) + biases['out'])\n",
    "            \n",
    "        return ret\n",
    "\n",
    "#         return np.array(ret)\n",
    "    \n",
    "    logits = RNN(X, weights, biases)\n",
    "    logits = tf.transpose(logits, [1,0,2])\n",
    "#     print(len(logits))\n",
    "    print(logits.shape)\n",
    "    print(logits[0].shape)\n",
    "    mean_train = tf.reduce_mean(X)\n",
    "    \n",
    "    \n",
    "    loss = tf.reduce_mean(tf.squared_difference(logits, Y))\n",
    "\n",
    "    optimizer = tf.train.AdamOptimizer(learning_rate = 0.001).minimize(loss)\n",
    "    \n",
    "    saver = tf.train.Saver()"
   ]
  },
  {
   "cell_type": "code",
   "execution_count": 11,
   "metadata": {},
   "outputs": [
    {
     "name": "stdout",
     "output_type": "stream",
     "text": [
      "99853\n",
      "99853\n"
     ]
    }
   ],
   "source": [
    "batch_size = 256\n",
    "batch_start = 0;\n",
    "train_length = len(train_x)\n",
    "print(train_length)\n",
    "\n",
    "train_x_extend = [i for i in train_x]\n",
    "train_y_extend = [i for i in train_y]\n",
    "\n",
    "print(len(train_x_extend))"
   ]
  },
  {
   "cell_type": "code",
   "execution_count": 12,
   "metadata": {},
   "outputs": [
    {
     "name": "stdout",
     "output_type": "stream",
     "text": [
      "100109\n"
     ]
    }
   ],
   "source": [
    "if(len(train_x_extend)==len(train_x)):\n",
    "    train_x_extend.extend(train_x[0:batch_size])\n",
    "    train_y_extend.extend(train_y[0:batch_size])\n",
    "print(len(train_x_extend))"
   ]
  },
  {
   "cell_type": "code",
   "execution_count": 13,
   "metadata": {
    "collapsed": true
   },
   "outputs": [],
   "source": [
    "def cal_accuarcy(y, _y):\n",
    "#     print(len(y))\n",
    "#     print(len(y[0]))\n",
    "#     print(len(y[0][0]))\n",
    "#     print(y[0][0])\n",
    "    count = 0\n",
    "    total = 0\n",
    "    for i in range(len(y[0])):\n",
    "        total += 1\n",
    "        if(y[0][i][0] == round(_y[0][i][0])):\n",
    "            count += 1\n",
    "    for i in range(1, len(y)):\n",
    "        total += 1\n",
    "        if(y[i][-1][0] == round(_y[i][-1][0])):\n",
    "            count += 1;\n",
    "    return(count*1.0/total)\n",
    "#     print(\"train accuarcy : \", count/len(y))"
   ]
  },
  {
   "cell_type": "code",
   "execution_count": 85,
   "metadata": {},
   "outputs": [
    {
     "name": "stdout",
     "output_type": "stream",
     "text": [
      "INFO:tensorflow:Restoring parameters from lstm_check/my-model-gpu-dropout2-na-5050-leave-nofeature.ckpt-8000\n",
      "Initialized\n",
      "Loss at step 0: 0.044584, train accuarcy : 0.954098\n",
      "Loss at step 200: 0.043708, train accuarcy : 0.960656\n",
      "Loss at step 400: 0.042960, train accuarcy : 0.970492\n",
      "Loss at step 600: 0.043372, train accuarcy : 0.957377\n",
      "Loss at step 800: 0.039795, train accuarcy : 0.983607\n",
      "Loss at step 1000: 0.042075, train accuarcy : 0.973770\n"
     ]
    }
   ],
   "source": [
    "training_steps = 1001\n",
    "\n",
    "config = tf.ConfigProto(allow_soft_placement=True)\n",
    "# config.gpu_options.allocator_type = 'BFC'\n",
    "# config.gpu_options.per_process_gpu_memory_fraction = 0.40\n",
    "with tf.Session(graph=graph, config=config) as session:\n",
    "    saver.restore(session, tf.train.latest_checkpoint('lstm_check'))\n",
    "#     saver.restore(session, \"lstm_check/my-model-gpu-dropout2-na-5050-leave.ckpt-5000\")\n",
    "#     tf.global_variables_initializer().run()\n",
    "    print('Initialized')\n",
    "    for step in range(training_steps):      \n",
    "        feed_dict = {X: train_x[batch_start:batch_start+batch_size], Y: train_y[batch_start:batch_start+batch_size]}\n",
    "        _, l, predictions, m = session.run([optimizer, loss, logits, mean_train], feed_dict = feed_dict)\n",
    "        if (step % 200 == 0):\n",
    "            train_accuarcy = cal_accuarcy(train_y[batch_start:batch_start+batch_size], predictions)\n",
    "            print('Loss at step %d: %f, train accuarcy : %f' % (step, l, train_accuarcy))\n",
    "            #train accuarcy\n",
    "        if (step % 1000 == 0):\n",
    "            saver.save(session, 'lstm_check/my-model-gpu-dropout2-na-5050-leave-nofeature.ckpt', global_step=step+8000)\n",
    "        batch_start += batch_size\n",
    "        if(batch_start>=train_length):\n",
    "            batch_start -=train_length\n",
    "#     train_loss, train_logits = session.run([loss,logits], feed_dict={X: train_x, Y: train_y})\n",
    "#     test_loss, test_logits = session.run([loss,logits], feed_dict={X: test_x, Y: test_y})\n",
    "    test_loss, test_logits = [], []\n",
    "    for i in range(len(test_x)):\n",
    "        test_loss_part, test_logits_part = session.run([loss,logits], feed_dict={X: test_x[i], Y: test_y[i]})\n",
    "#         print('test accuarcy', cal_accuarcy(test_y[i], test_logits_part))\n",
    "        test_loss.append(test_loss_part)\n",
    "        test_logits.append(test_logits_part)"
   ]
  },
  {
   "cell_type": "code",
   "execution_count": 86,
   "metadata": {},
   "outputs": [
    {
     "name": "stdout",
     "output_type": "stream",
     "text": [
      "56\n",
      "775\n",
      "50\n"
     ]
    },
    {
     "data": {
      "image/png": "[encoded data removed]",
      "text/plain": [
       "<matplotlib.figure.Figure at 0x7fe988c32358>"
      ]
     },
     "metadata": {},
     "output_type": "display_data"
    }
   ],
   "source": [
    "#bad 9 16\n",
    "#good 6 18 19 29\n",
    "# 17\n",
    "index = 6\n",
    "\n",
    "print(len(test_logits))\n",
    "print(len(test_logits[index]))\n",
    "print(len(test_logits[index][0]))\n",
    "\n",
    "plt.figure(figsize=(18, 5))\n",
    "plt.plot([i[-1][0] for i in test_y[index][0:1000]], 'r')\n",
    "plt.plot([i[-1][0] for i in test_logits[index][0:1000]], 'b')\n",
    "\n",
    "plt.show()"
   ]
  },
  {
   "cell_type": "code",
   "execution_count": 87,
   "metadata": {},
   "outputs": [
    {
     "name": "stdout",
     "output_type": "stream",
     "text": [
      "test loss :  [0.65867573, 0.57637471, 0.58917463, 0.64465821, 0.51383942, 0.50659806, 0.48114455, 0.5174697, 0.61579007, 0.58262104, 0.60161954, 0.62768435, 0.54451895, 0.50202584, 0.46524572, 0.52392471, 0.46626052, 0.59194511, 0.38384449, 0.41378766, 0.50414854, 0.51554179, 0.49020368, 0.56314886, 0.47697678, 0.55255687, 0.52506542, 0.59282553, 0.42458698, 0.42708704, 0.46431491, 0.43226707, 0.5063116, 0.46405917, 0.47553116, 0.43891048, 0.62694514, 0.5344907, 0.60249883, 0.53191954, 0.52076894, 0.51922596, 0.50251043, 0.48695892, 0.44260988, 0.47555125, 0.44796669, 0.45999801, 0.4644942, 0.45140377, 0.62257534, 0.56177396, 0.66846412, 0.50705248, 0.52220678, 0.50074714]\n"
     ]
    }
   ],
   "source": [
    "print(\"test loss : \", test_loss)"
   ]
  },
  {
   "cell_type": "code",
   "execution_count": 88,
   "metadata": {},
   "outputs": [
    {
     "name": "stdout",
     "output_type": "stream",
     "text": [
      "56\n",
      "80\n",
      "50\n",
      "12571\n",
      "29666\n",
      "test accuarcy :  0.42375109553023665\n"
     ]
    }
   ],
   "source": [
    "print(len(test_logits))\n",
    "print(len(test_logits[0]))\n",
    "print(len(test_logits[0][0]))  \n",
    "\n",
    "test_y_seq_list, test_logits_bin_list = [], []\n",
    "\n",
    "for t in test_logits:  \n",
    "    t_all = [i for i in t[0]]\n",
    "    t_all.extend([i[-1] for i in t[1:]])\n",
    "#     print(len(t_all)-len(t))\n",
    "    \n",
    "    test_logits_part = [[round(i[0])] for i in t_all]\n",
    "    for i in range(1, len(test_logits_part)-1):\n",
    "        if(test_logits_part[i-1][0]!=test_logits_part[i][0] and test_logits_part[i-1][0]==test_logits_part[i+1][0]):\n",
    "            test_logits_part[i][0]=test_logits_part[i-1][0]    \n",
    "    test_logits_bin_list.append(test_logits_part)\n",
    "    \n",
    "for t in test_y:  \n",
    "    t_all = [i for i in t[0]]\n",
    "    t_all.extend([i[-1] for i in t[1:]])\n",
    "    test_y_seq_list.append(t_all)\n",
    "\n",
    "# print(test_y_seq_list)\n",
    "    \n",
    "count = 0\n",
    "total = 0\n",
    "for i in range(0, len(test_y_seq_list)):\n",
    "    total += len(test_y_seq_list[i])\n",
    "    for j in range(0, len(test_y_seq_list[i])):\n",
    "        if(test_y_seq_list[i][j][0] == test_logits_bin_list[i][j][0]):\n",
    "            count += 1\n",
    "\n",
    "print(count)\n",
    "print(total)\n",
    "print(\"test accuarcy : \", count*1.0/total)"
   ]
  },
  {
   "cell_type": "code",
   "execution_count": 89,
   "metadata": {},
   "outputs": [
    {
     "data": {
      "image/png": "[encoded data removed]",
      "text/plain": [
       "<matplotlib.figure.Figure at 0x7fe9bafd8ba8>"
      ]
     },
     "metadata": {},
     "output_type": "display_data"
    }
   ],
   "source": [
    "index = 2\n",
    "\n",
    "start=200\n",
    "end=400\n",
    "\n",
    "plt.figure(figsize=(8, 2))\n",
    "plt.title('Example of Output')\n",
    "plt.xlabel('time')\n",
    "plt.ylabel('step')\n",
    "plt.plot([i/25.0 for i in range(start, end)], [i[0] for i in test_y_seq_list[index][start:end]], 'coral', label='ground truth')     \n",
    "plt.plot([i/25.0 for i in range(start, end)], [i[0] for i in test_logits_bin_list[index][start:end]], 'lightskyblue', label='output')\n",
    "plt.legend()\n",
    "plt.show()"
   ]
  },
  {
   "cell_type": "code",
   "execution_count": 90,
   "metadata": {},
   "outputs": [
    {
     "name": "stdout",
     "output_type": "stream",
     "text": [
      "Step number for each segement\n",
      "[8, 10, 57, 7, 8, 10, 57, 7, 9, 80, 11, 6, 9, 80, 11, 6, 84, 22, 84, 22, 17, 82, 10, 80, 12, 63, 11, 57, 17, 82, 10, 80, 12, 63, 11, 57, 6, 27, 46, 13, 31, 22, 82, 6, 27, 46, 13, 31, 22, 82, 43, 82, 58, 43, 82, 58]\n",
      "[10, 12, 57, 7, 9, 11, 58, 8, 14, 74, 12, 6, 10, 82, 11, 7, 86, 22, 85, 23, 20, 82, 10, 75, 5, 60, 12, 57, 16, 86, 10, 79, 13, 60, 10, 63, 7, 31, 46, 12, 30, 23, 71, 6, 26, 44, 15, 33, 23, 83, 45, 87, 58, 45, 85, 57]\n",
      "======\n",
      "[16, 31, 46, 57, 74, 86, 103, 115, 132, 144, 160, 172, 188, 200, 218, 227, 244, 256, 271, 282, 299, 311, 327, 338, 354, 367, 382, 394, 411, 422, 439, 450, 466, 477, 493, 506, 526, 534, 551, 563, 580, 591, 608, 618, 635, 648, 663, 675, 691, 703, 720, 732, 749, 760, 776, 787, 802, 814, 830, 843, 857, 869, 885, 896, 912, 924, 941, 953, 968, 981, 997, 1010, 1026, 1038, 1053, 1068, 1082, 1095, 1111, 1123]\n",
      "[0, 23.5, 38.5, 51.5, 65.5, 80.0, 94.5, 109.0, 123.5, 138.0, 152.0, 166.0, 180.0, 194.0, 209.0, 222.5, 235.5, 250.0, 263.5, 276.5, 290.5, 305.0, 319.0, 332.5, 346.0, 360.5, 374.5, 388.0, 402.5, 416.5, 430.5, 444.5, 458.0, 471.5, 485.0, 499.5, 516.0, 530.0, 542.5, 557.0, 571.5, 585.5, 599.5, 613.0, 626.5, 641.5, 655.5, 669.0, 683.0, 697.0, 711.5, 726.0, 740.5, 754.5, 768.0, 781.5, 794.5, 808.0, 822.0, 836.5, 850.0, 863.0, 877.0, 890.5, 904.0, 918.0, 932.5, 947.0, 960.5, 974.5, 989.0, 1003.5, 1018.0, 1032.0, 1045.5, 1060.5, 1075.0, 1088.5, 1103.0, 1117.0, 2246]\n",
      "[7, 19, 34, 47, 68, 75, 96, 104, 122, 134, 153, 162, 182, 191, 210, 219, 237, 247, 265, 274, 295, 303, 320, 329, 348, 357, 377, 385, 403, 412, 429, 441, 459, 469, 485, 497, 514, 526, 544, 553, 574, 582, 599, 610, 627, 637, 652, 665, 684, 693, 713, 722, 740, 751, 770, 778, 795, 805, 822, 832, 850, 859, 878, 887, 906, 915, 935, 943, 944, 964, 971, 991, 1000, 1022, 1029, 1048, 1057, 1076, 1085, 1104, 1113, 1134]\n"
     ]
    }
   ],
   "source": [
    "step_time_actual, step_time_predict= [], []\n",
    "step_time_actual_gap = []\n",
    "\n",
    "#test_y_seq_list, test_logits_bin_list\n",
    "for i in range(0, len(test_y_seq_list)):\n",
    "    step_time_actual_part, step_time_predict_part= [], []\n",
    "    for j in range(1, len(test_y_seq_list[i])):\n",
    "        if(abs(test_y_seq_list[i][j][0]-test_y_seq_list[i][j-1][0])>0.5):\n",
    "            step_time_actual_part.append(j)\n",
    "    #     if(abs(test_logits[i][0]-test_logits[i-1][0])>0.5):\n",
    "        if(abs(test_logits_bin_list[i][j][0]-test_logits_bin_list[i][j-1][0])>0.5):\n",
    "            step_time_predict_part.append(j)\n",
    "    step_time_actual.append(step_time_actual_part)\n",
    "    step_time_predict.append(step_time_predict_part)\n",
    "    \n",
    "    step_time_actual_gap_part = []\n",
    "    step_time_actual_gap_part.append(0)\n",
    "#     step_time_actual_gap_part.append(step_time_actual_part[0]/2.0)\n",
    "    for i in range(1, len(step_time_actual_part)):\n",
    "        step_time_actual_gap_part.append((step_time_actual_part[i-1]+step_time_actual_part[i])/2.0)\n",
    "    step_time_actual_gap_part.append(step_time_actual_part[-1]*2)\n",
    "    step_time_actual_gap.append(step_time_actual_gap_part)\n",
    "\n",
    "print('Step number for each segement')\n",
    "print([len(i) for i in step_time_actual])   \n",
    "print([len(i) for i in step_time_predict])\n",
    "\n",
    "print('======')\n",
    "iii = 13\n",
    "print(step_time_actual[iii])\n",
    "print(step_time_actual_gap[iii])\n",
    "print(step_time_predict[iii])"
   ]
  },
  {
   "cell_type": "code",
   "execution_count": 91,
   "metadata": {},
   "outputs": [
    {
     "name": "stdout",
     "output_type": "stream",
     "text": [
      "56\n",
      "56\n",
      "644\n",
      "[3, 4, 11, 0, 2, 3, 22, 2, 6, 22, 3, 0, 1, 34, 4, 2, 37, 2, 29, 11, 7, 25, 3, 13, 3, 14, 5, 6, 5, 39, 3, 37, 3, 23, 4, 27, 2, 10, 5, 3, 10, 6, 25, 1, 13, 13, 3, 14, 11, 35, 2, 18, 3, 10, 24, 21]\n",
      "56\n",
      "61\n",
      "[2, 2, 0, 0, 1, 1, 1, 1, 5, 0, 1, 0, 1, 2, 0, 1, 2, 0, 1, 1, 3, 0, 0, 0, 0, 0, 1, 0, 0, 4, 0, 0, 1, 0, 0, 6, 1, 4, 0, 0, 0, 1, 0, 0, 0, 0, 2, 2, 1, 1, 2, 5, 0, 2, 3, 0]\n",
      "error : \n",
      "total undercount metric 1:\t 0.06805019305019305\n",
      "total overcount metric 1:\t 0.055984555984555984\n",
      "total undercount metric 2:\t 0.3026061776061776\n",
      "total overcount metric 2:\t 0.3108108108108108\n",
      "total undercount metric 3:\t 0.021235521235521235\n",
      "total overcount metric 3:\t 0.02944015444015444\n"
     ]
    }
   ],
   "source": [
    "total_step_count = sum([len(i) for i in step_time_actual])\n",
    "metric1_undercount = 0\n",
    "metric2_undercount = 0\n",
    "metric3_undercount = 0\n",
    "metric1_overcount = 0\n",
    "metric2_overcount = 0\n",
    "metric3_overcount = 0\n",
    "\n",
    "metric2_overcount_list = []\n",
    "metric3_overcount_list = []\n",
    "\n",
    "print(len(test_x))\n",
    "\n",
    "for i in range(len(test_x)):\n",
    "    step_count = len(step_time_actual[i])\n",
    "    undercount = 0\n",
    "    overcount = 0\n",
    "\n",
    "    for j in range(1, step_count):\n",
    "        gap_count = [t for t in step_time_predict[i] if t>=step_time_actual[i][j-1] and t<step_time_actual[i][j]]\n",
    "    #     print(gap_count)\n",
    "        if(len(gap_count)>1):\n",
    "            overcount += len(gap_count)-1\n",
    "        if(len(gap_count)<1):\n",
    "            undercount += 1\n",
    "    gap_count = [t for t in step_time_predict[i] if t>=step_time_actual[i][-1]]\n",
    "    if(len(gap_count)>1):\n",
    "        overcount += len(gap_count)-1\n",
    "    if(len(gap_count)<1):\n",
    "        undercount += 1\n",
    "    \n",
    "    metric1_undercount += undercount\n",
    "    metric1_overcount += overcount\n",
    "    \n",
    "    undercount = 0\n",
    "    overcount = 0\n",
    "    for j in range(1, len(step_time_actual_gap[i])):\n",
    "        gap_count = [t for t in step_time_predict[i] if t>=step_time_actual_gap[i][j-1] and t<step_time_actual_gap[i][j]]\n",
    "    #     print(gap_count)\n",
    "        if(len(gap_count)>1):\n",
    "            overcount += (len(gap_count)-1)\n",
    "        if(len(gap_count)<1):\n",
    "            undercount += 1    \n",
    "    \n",
    "    metric2_undercount += undercount\n",
    "    metric2_overcount += overcount  \n",
    "    metric2_overcount_list.append(overcount)\n",
    "    \n",
    "#     print(undercount, overcount)\n",
    "#     print('undercount : ', undercount*1.0/step_count)\n",
    "#     print('overcount : ', overcount*1.0/step_count)\n",
    "    diff = len(step_time_predict[i])-len(step_time_actual[i])\n",
    "#     if(diff==0):\n",
    "#         print(\"segement correct!\")\n",
    "\n",
    "    if(diff<0):\n",
    "#         print('segement undercount : ', 1-len(step_time_predict[i])*1.0/len(step_time_actual[i]))\n",
    "        metric3_undercount -= diff\n",
    "        metric3_overcount_list.append(0)\n",
    "#     if(diff>=0):\n",
    "    else:\n",
    "#         print('segement overcount : ', 1-len(step_time_actual[i])*1.0/len(step_time_predict[i]))\n",
    "        metric3_overcount += diff\n",
    "        metric3_overcount_list.append(diff)\n",
    "\n",
    "print(len(metric2_overcount_list))\n",
    "print(sum(metric2_overcount_list))\n",
    "print(metric2_overcount_list)\n",
    "print(len(metric3_overcount_list))\n",
    "print(sum(metric3_overcount_list))\n",
    "print(metric3_overcount_list)\n",
    "        \n",
    "print('error : ')\n",
    "print(\"total undercount metric 1:\\t\", metric1_undercount*1.0/total_step_count)\n",
    "print(\"total overcount metric 1:\\t\", metric1_overcount*1.0/total_step_count)\n",
    "print(\"total undercount metric 2:\\t\", metric2_undercount*1.0/total_step_count)\n",
    "print(\"total overcount metric 2:\\t\", metric2_overcount*1.0/total_step_count)\n",
    "print(\"total undercount metric 3:\\t\", metric3_undercount*1.0/total_step_count)\n",
    "print(\"total overcount metric 3:\\t\", metric3_overcount*1.0/total_step_count)"
   ]
  },
  {
   "cell_type": "code",
   "execution_count": 48,
   "metadata": {},
   "outputs": [
    {
     "ename": "SyntaxError",
     "evalue": "invalid syntax (<ipython-input-48-7c248cdc26db>, line 20)",
     "output_type": "error",
     "traceback": [
      "\u001b[0;36m  File \u001b[0;32m\"<ipython-input-48-7c248cdc26db>\"\u001b[0;36m, line \u001b[0;32m20\u001b[0m\n\u001b[0;31m    total undercount metric 1 :  0.1965648854961832\u001b[0m\n\u001b[0m                   ^\u001b[0m\n\u001b[0;31mSyntaxError\u001b[0m\u001b[0;31m:\u001b[0m invalid syntax\n"
     ]
    }
   ],
   "source": [
    "# 6000 error : \n",
    "# total undercount metric 1 :  0.08759469696969698\n",
    "# total overcount metric 1 :  0.1747159090909091\n",
    "# total undercount metric 2 :  0.0\n",
    "# total overcount metric 2 :  0.10085227272727272\n",
    "\n",
    "# 4000 error : \n",
    "# total undercount metric 1 :  0.011837121212121212\n",
    "# total overcount metric 1 :  0.029356060606060608\n",
    "# total undercount metric 2 :  0.0023674242424242425\n",
    "# total overcount metric 2 :  0.03172348484848485\n",
    "\n",
    "# 4200 error : \n",
    "# total undercount metric 1 :  0.009943181818181818\n",
    "# total overcount metric 1 :  0.026041666666666668\n",
    "# total undercount metric 2 :  0.0033143939393939395\n",
    "# total overcount metric 2 :  0.029356060606060608\n",
    "\n",
    "#4000 no feature error : \n",
    "total undercount metric 1 :  0.1965648854961832\n",
    "total overcount metric 1 :  0.20706106870229007\n",
    "total undercount metric 2 :  0.03959923664122137\n",
    "total overcount metric 2 :  0.055820610687022904"
   ]
  },
  {
   "cell_type": "code",
   "execution_count": null,
   "metadata": {
    "collapsed": true
   },
   "outputs": [],
   "source": []
  }
 ],
 "metadata": {
  "kernelspec": {
   "display_name": "Python 3",
   "language": "python",
   "name": "python3"
  },
  "language_info": {
   "codemirror_mode": {
    "name": "ipython",
    "version": 3
   },
   "file_extension": ".py",
   "mimetype": "text/x-python",
   "name": "python",
   "nbconvert_exporter": "python",
   "pygments_lexer": "ipython3",
   "version": "3.6.3"
  }
 },
 "nbformat": 4,
 "nbformat_minor": 2
}
