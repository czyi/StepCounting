{
 "cells": [
  {
   "cell_type": "code",
   "execution_count": 1,
   "metadata": {},
   "outputs": [
    {
     "name": "stderr",
     "output_type": "stream",
     "text": [
      "/home/ziyi/anaconda3/lib/python3.6/importlib/_bootstrap.py:219: RuntimeWarning: compiletime version 3.5 of module 'tensorflow.python.framework.fast_tensor_util' does not match runtime version 3.6\n",
      "  return f(*args, **kwds)\n"
     ]
    }
   ],
   "source": [
    "import numpy as np\n",
    "import matplotlib.pyplot as plt\n",
    "import tensorflow as tf\n",
    "import math\n",
    "import re\n",
    "import random\n",
    "import csv"
   ]
  },
  {
   "cell_type": "code",
   "execution_count": 2,
   "metadata": {
    "collapsed": true
   },
   "outputs": [],
   "source": [
    "# Network Parameters\n",
    "num_input = 6\n",
    "timesteps = 80 # timesteps\n",
    "num_hidden = 100 # hidden layer num of features\n",
    "num_output= 1"
   ]
  },
  {
   "cell_type": "code",
   "execution_count": 3,
   "metadata": {
    "collapsed": true
   },
   "outputs": [],
   "source": [
    "def read_sensor(filename):\n",
    "    with open(filename, \"r\") as csvfile:\n",
    "        reader = csv.reader(csvfile)\n",
    "        dataset = [row[17:23] for row in reader]\n",
    "        #data_x\n",
    "        return np.array(dataset)\n",
    "    \n",
    "def read_xml(filename, length):\n",
    "    f = open(filename)\n",
    "    cts = f.read()\n",
    "    f.close()\n",
    "\n",
    "    p_foot = re.compile(r'<WhichFoot>(.*?)</WhichFoot>')\n",
    "    all_foot = p_foot.findall(cts)\n",
    "\n",
    "    p_time = re.compile(r'<Time>(.*?)</Time>')\n",
    "    all_time = p_time.findall(cts)\n",
    "\n",
    "    strike_times = []\n",
    "    #L-1 R-0\n",
    "    strike_times.append([0.0, 0.5])\n",
    "    for i in range(len(all_foot)):\n",
    "        if(all_foot[i]=='L'):\n",
    "            strike_times.append([float(all_time[i]), 1])\n",
    "        else:\n",
    "            strike_times.append([float(all_time[i]), 0])\n",
    "    strike_times[-1][1] = 0.5\n",
    "    strike_times.append([length/25.0, 0.5])\n",
    "\n",
    "    window_y = []\n",
    "    strike_index=0\n",
    "    for i in range(length):\n",
    "        if(i/25.0 >= strike_times[strike_index+1][0]):\n",
    "            strike_index += 1\n",
    "        window_y.append([strike_times[strike_index][1]])\n",
    "\n",
    "    p_info = re.compile(r'<StartTime>(.*?)</StartTime>\\n\\t<EndTime>(.*?)</EndTime>\\n\\t<NSteps>(.*?)</NSteps>\\n\\t<Direction>(.*?)</Direction>')\n",
    "    all_info = p_info.findall(cts)#start_time, end_time, step_num, direction\n",
    "\n",
    "    for i in range(len(all_info)):\n",
    "        if(all_info[i][3][:4]=='Turn'):\n",
    "#             print(all_info[i])\n",
    "            start_time = int(float(all_info[i][0])*25)\n",
    "            end_time = int(float(all_info[i][1])*25)\n",
    "#             print('start and end time : ', all_info[i][0], all_info[i][1])\n",
    "            for t in range(start_time-1, end_time):\n",
    "                window_y[t] = [0.5]\n",
    "\n",
    "#     print(len(window_y))  \n",
    "    return window_y\n",
    "\n",
    "def add_data(path, person, phone_location, assistant):\n",
    "    data_x = read_sensor('weallwalk/sensor/iPhoneSensors_T'+str(path)+'_ID'+str(person)+'_'+phone_location+'_'+assistant+'.csv')\n",
    "    data_y = read_xml('weallwalk/xml/T'+str(path)+'_ID'+str(person)+'_'+assistant+'.xml', len(data_x))\n",
    "    \n",
    "    split_x, split_x_part = [], []\n",
    "    split_y, split_y_part = [], []\n",
    "    for i in range(len(data_y)):\n",
    "        if(data_y[i][0]!=0.5):\n",
    "            split_y_part.append(data_y[i])\n",
    "            split_x_part.append(data_x[i])\n",
    "        else:\n",
    "            if(len(split_y_part)>0):\n",
    "                split_y.append(split_y_part)\n",
    "                split_x.append(split_x_part)\n",
    "                split_y_part = []\n",
    "                split_x_part = []\n",
    "    \n",
    "    data_x_seq, data_y_seq = [], []\n",
    "    for i in range(len(split_x)):\n",
    "        data_x_part, data_y_part = [], []\n",
    "        for j in range(len(split_x[i])-timesteps):\n",
    "            x = split_x[i][j:j+timesteps]\n",
    "            y = split_y[i][j+timesteps]\n",
    "            data_x_part.append(x)\n",
    "            data_y_part.append(y)\n",
    "        if(len(data_x_part)>0):\n",
    "            data_x_seq.append(data_x_part)\n",
    "            data_y_seq.append(data_y_part)\n",
    "    \n",
    "    return data_x_seq, data_y_seq"
   ]
  },
  {
   "cell_type": "code",
   "execution_count": 4,
   "metadata": {},
   "outputs": [
    {
     "name": "stdout",
     "output_type": "stream",
     "text": [
      "4\n",
      "[71, 134, 927, 73]\n",
      "1205\n"
     ]
    }
   ],
   "source": [
    "data_x_seq, data_y_seq = add_data(1, 1, '1L', 'GD')\n",
    "print(len(data_y_seq))\n",
    "print([len(i) for i in data_y_seq])\n",
    "print(sum([len(i) for i in data_y_seq]))\n",
    "# print(data_y_seq)"
   ]
  },
  {
   "cell_type": "code",
   "execution_count": 5,
   "metadata": {},
   "outputs": [
    {
     "name": "stdout",
     "output_type": "stream",
     "text": [
      "[[1, 1, '1L', 'WC'], [1, 1, '2R', 'WC'], [1, 2, '1L', 'WC'], [1, 2, '2R', 'WC'], [1, 3, '1L', 'WC'], [1, 3, '2R', 'WC'], [1, 5, '1L', 'WC'], [1, 5, '2R', 'WC'], [1, 6, '1L', 'WC'], [2, 1, '1L', 'WC'], [2, 1, '2R', 'WC'], [2, 2, '1L', 'WC'], [2, 2, '2R', 'WC'], [2, 3, '1L', 'WC'], [2, 3, '2R', 'WC'], [2, 5, '1L', 'WC'], [2, 5, '2R', 'WC'], [2, 6, '1L', 'WC'], [3, 1, '1L', 'WC'], [3, 1, '2R', 'WC'], [3, 2, '1L', 'WC'], [3, 2, '2R', 'WC'], [3, 3, '1L', 'WC'], [3, 3, '2R', 'WC'], [3, 5, '1L', 'WC'], [3, 5, '2R', 'WC'], [3, 6, '1L', 'WC'], [4, 1, '1L', 'WC'], [4, 1, '2R', 'WC'], [4, 2, '1L', 'WC'], [4, 2, '2R', 'WC'], [4, 3, '1L', 'WC'], [4, 3, '2R', 'WC'], [4, 5, '1L', 'WC'], [4, 5, '2R', 'WC'], [4, 6, '1L', 'WC'], [5, 1, '1L', 'WC'], [5, 1, '2R', 'WC'], [5, 2, '1L', 'WC'], [5, 2, '2R', 'WC'], [5, 3, '1L', 'WC'], [5, 3, '2R', 'WC'], [5, 5, '1L', 'WC'], [5, 5, '2R', 'WC'], [5, 6, '1L', 'WC'], [7, 9, '1L', 'WC'], [8, 9, '1L', 'WC'], [9, 10, '1L', 'WC'], [10, 10, '1L', 'WC']]\n"
     ]
    }
   ],
   "source": [
    "step_data_list = []\n",
    "for i in range(1,6):\n",
    "    step_data_list.append([i, 1, '1L', 'WC'])\n",
    "    step_data_list.append([i, 1, '2R', 'WC'])\n",
    "    step_data_list.append([i, 2, '1L', 'WC'])\n",
    "    step_data_list.append([i, 2, '2R', 'WC'])\n",
    "    \n",
    "    step_data_list.append([i, 3, '1L', 'WC'])\n",
    "    step_data_list.append([i, 3, '2R', 'WC'])\n",
    "    step_data_list.append([i, 5, '1L', 'WC'])\n",
    "    step_data_list.append([i, 5, '2R', 'WC'])\n",
    "    step_data_list.append([i, 6, '1L', 'WC'])\n",
    "#     step_data_list.append([i, 6, '2R', 'WC'])\n",
    "#     step_data_list.append([i, 7, '1L', 'WC'])\n",
    "#     step_data_list.append([i, 7, '2R', 'WC'])\n",
    "#     step_data_list.append([i, 8, '1L', 'WC'])\n",
    "#     step_data_list.append([i, 8, '2R', 'WC'])   \n",
    "\n",
    "step_data_list.append([7, 9, '1L', 'WC'])\n",
    "step_data_list.append([8, 9, '1L', 'WC'])\n",
    "step_data_list.append([9, 10, '1L', 'WC'])\n",
    "step_data_list.append([10, 10, '1L', 'WC'])                          \n",
    "\n",
    "# step_data_list.append([7, 9, '2R', 'WC'])\n",
    "# step_data_list.append([8, 9, '2R', 'WC'])\n",
    "# step_data_list.append([9, 10, '2R', 'WC'])\n",
    "# step_data_list.append([10, 10, '2R', 'WC'])\n",
    "    \n",
    "print(step_data_list)"
   ]
  },
  {
   "cell_type": "code",
   "execution_count": 6,
   "metadata": {},
   "outputs": [
    {
     "name": "stdout",
     "output_type": "stream",
     "text": [
      "150860\n",
      "150860\n"
     ]
    }
   ],
   "source": [
    "data_x, data_y = [], []\n",
    "for i in step_data_list:\n",
    "    data_x_segement, data_y_segement = add_data(i[0], i[1], i[2], i[3])\n",
    "    for dx in data_x_segement:\n",
    "        data_x.extend(dx)\n",
    "    for dy in data_y_segement:\n",
    "        data_y.extend(dy)\n",
    "    \n",
    "print(len(data_x))\n",
    "print(len(data_y))"
   ]
  },
  {
   "cell_type": "code",
   "execution_count": 7,
   "metadata": {},
   "outputs": [
    {
     "name": "stdout",
     "output_type": "stream",
     "text": [
      "150860\n"
     ]
    }
   ],
   "source": [
    "order = list(range(0,len(data_x),1))\n",
    "random.shuffle(order)\n",
    "\n",
    "train_x = [data_x[i] for i in order]\n",
    "train_y = [data_y[i] for i in order]\n",
    "\n",
    "print(len(train_x))"
   ]
  },
  {
   "cell_type": "code",
   "execution_count": 64,
   "metadata": {},
   "outputs": [
    {
     "name": "stdout",
     "output_type": "stream",
     "text": [
      "[[1, 7, '1L', 'WC'], [1, 7, '2R', 'WC'], [1, 8, '1L', 'WC'], [1, 8, '2R', 'WC'], [2, 7, '1L', 'WC'], [2, 7, '2R', 'WC'], [2, 8, '1L', 'WC'], [2, 8, '2R', 'WC'], [3, 7, '1L', 'WC'], [3, 7, '2R', 'WC'], [3, 8, '1L', 'WC'], [3, 8, '2R', 'WC'], [4, 7, '1L', 'WC'], [4, 7, '2R', 'WC'], [4, 8, '1L', 'WC'], [4, 8, '2R', 'WC'], [5, 7, '1L', 'WC'], [5, 7, '2R', 'WC'], [5, 8, '1L', 'WC'], [5, 8, '2R', 'WC'], [6, 7, '1L', 'WC'], [6, 7, '2R', 'WC'], [6, 8, '1L', 'WC'], [6, 8, '2R', 'WC'], [6, 1, '1L', 'WC'], [6, 1, '2R', 'WC'], [6, 2, '1L', 'WC'], [6, 2, '2R', 'WC'], [6, 3, '1L', 'WC'], [6, 3, '2R', 'WC'], [6, 5, '1L', 'WC'], [6, 5, '2R', 'WC'], [6, 6, '1L', 'WC']]\n"
     ]
    }
   ],
   "source": [
    "# step_test_list = []\n",
    "# for i in range(6,7):\n",
    "#     step_test_list.append([i, 1, '1L', 'WC'])\n",
    "#     step_test_list.append([i, 1, '2R', 'WC'])\n",
    "#     step_test_list.append([i, 2, '1L', 'WC'])\n",
    "#     step_test_list.append([i, 2, '2R', 'WC'])\n",
    "    \n",
    "#     step_test_list.append([i, 3, '1L', 'WC'])\n",
    "#     step_test_list.append([i, 3, '2R', 'WC'])\n",
    "#     step_test_list.append([i, 5, '1L', 'WC'])\n",
    "#     step_test_list.append([i, 5, '2R', 'WC'])\n",
    "#     step_test_list.append([i, 6, '1L', 'WC'])\n",
    "    \n",
    "# for i in range(1,7):\n",
    "# #     step_test_list.append([i, 6, '2R', 'WC'])\n",
    "#     step_test_list.append([i, 7, '1L', 'WC'])\n",
    "#     step_test_list.append([i, 7, '2R', 'WC'])\n",
    "#     step_test_list.append([i, 8, '1L', 'WC'])\n",
    "#     step_test_list.append([i, 8, '2R', 'WC'])      \n",
    "    \n",
    "# step_test_list.append([7, 9, '2R', 'WC'])\n",
    "# step_test_list.append([8, 9, '2R', 'WC'])\n",
    "# step_test_list.append([9, 10, '2R', 'WC'])\n",
    "# step_test_list.append([10, 10, '2R', 'WC'])    \n",
    "      \n",
    "# print(step_test_list)\n",
    "step_test_list = []\n",
    "\n",
    "# step_test_list.append([7, 9, '2R', 'WC'])\n",
    "# step_test_list.append([8, 9, '2R', 'WC'])\n",
    "# step_test_list.append([9, 10, '2R', 'WC'])\n",
    "# step_test_list.append([10, 10, '2R', 'WC'])    \n",
    "\n",
    "for i in range(1,7):\n",
    "#     step_test_list.append([i, 6, '2R', 'WC'])\n",
    "    step_test_list.append([i, 7, '1L', 'WC'])\n",
    "    step_test_list.append([i, 7, '2R', 'WC'])\n",
    "    step_test_list.append([i, 8, '1L', 'WC'])\n",
    "    step_test_list.append([i, 8, '2R', 'WC'])     \n",
    "\n",
    "for i in range(6,7):\n",
    "    step_test_list.append([i, 1, '1L', 'WC'])\n",
    "    step_test_list.append([i, 1, '2R', 'WC'])\n",
    "    step_test_list.append([i, 2, '1L', 'WC'])\n",
    "    step_test_list.append([i, 2, '2R', 'WC'])\n",
    "    \n",
    "    step_test_list.append([i, 3, '1L', 'WC'])\n",
    "    step_test_list.append([i, 3, '2R', 'WC'])\n",
    "    step_test_list.append([i, 5, '1L', 'WC'])\n",
    "    step_test_list.append([i, 5, '2R', 'WC'])\n",
    "    step_test_list.append([i, 6, '1L', 'WC']) \n",
    "      \n",
    "print(step_test_list)"
   ]
  },
  {
   "cell_type": "code",
   "execution_count": 65,
   "metadata": {},
   "outputs": [
    {
     "name": "stdout",
     "output_type": "stream",
     "text": [
      "148\n",
      "148\n",
      "[90, 246, 988, 110, 90, 246, 988, 110, 83, 219, 910, 63, 83, 219, 910, 63, 131, 1403, 178, 35, 131, 1403, 178, 35, 70, 1340, 130, 46, 70, 1340, 130, 46, 1329, 363, 1329, 363, 1707, 344, 1707, 344, 310, 1198, 156, 1119, 96, 827, 107, 843, 310, 1198, 156, 1119, 96, 827, 107, 843, 381, 1617, 270, 1236, 350, 889, 129, 832, 381, 1617, 270, 1236, 350, 889, 129, 832, 30, 523, 807, 337, 459, 344, 1377, 30, 523, 807, 337, 459, 344, 1377, 111, 362, 811, 294, 492, 322, 1632, 111, 362, 811, 294, 492, 322, 1632, 744, 1306, 22, 744, 1306, 22, 17, 798, 1375, 17, 798, 1375, 19, 879, 1625, 24, 19, 879, 1625, 24, 29, 992, 1480, 54, 29, 992, 1480, 54, 51, 677, 1254, 4, 51, 677, 1254, 4, 13, 731, 1422, 16, 13, 731, 1422, 16, 41, 695, 1302, 20]\n"
     ]
    }
   ],
   "source": [
    "test_x, test_y=[], []\n",
    "for i in step_test_list:\n",
    "    data_x_segement, data_y_segement = add_data(i[0], i[1], i[2], i[3])\n",
    "    test_x.extend(data_x_segement)\n",
    "    test_y.extend(data_y_segement)\n",
    "#     test_x.append(data_x_segement)\n",
    "#     test_y.append(data_y_segement)\n",
    "    \n",
    "print(len(test_x))\n",
    "print(len(test_y))\n",
    "\n",
    "print([len(i) for i in test_y])"
   ]
  },
  {
   "cell_type": "code",
   "execution_count": 66,
   "metadata": {},
   "outputs": [
    {
     "data": {
      "image/png": "[encoded data removed]",
      "text/plain": [
       "<matplotlib.figure.Figure at 0x7f029400fcc0>"
      ]
     },
     "metadata": {},
     "output_type": "display_data"
    }
   ],
   "source": [
    "plt.figure(figsize=(18, 5))\n",
    "plt.plot([i[0] for i in test_y[1]], 'r')\n",
    "plt.show()"
   ]
  },
  {
   "cell_type": "code",
   "execution_count": 67,
   "metadata": {
    "collapsed": true
   },
   "outputs": [],
   "source": [
    "NUM_LAYERS=3\n",
    "\n",
    "def LstmCell():\n",
    "    lstm_cell = tf.contrib.rnn.BasicLSTMCell(num_hidden, state_is_tuple=True)\n",
    "    return lstm_cell\n",
    "#     lstm_cell = tf.contrib.rnn.BasicLSTMCell(num_hidden)#, forget_bias=1.0)\n",
    "#     cell = tf.contrib.rnn.DropoutWrapper(lstm_cell, output_keep_prob=0.5)\n",
    "#     return cell\n",
    "\n",
    "graph = tf.Graph()\n",
    "with graph.as_default(), tf.device('/gpu:0'):\n",
    "    # tf Graph input\n",
    "    X = tf.placeholder(\"float\", [None, timesteps, num_input])\n",
    "    Y = tf.placeholder(\"float\", [None, num_output])\n",
    "    \n",
    "    # Define weights\n",
    "    weights = {\n",
    "        'out': tf.Variable(tf.random_normal([num_hidden, num_output]))\n",
    "    }\n",
    "    biases = {\n",
    "        'out': tf.Variable(tf.random_normal([num_output]))\n",
    "    }\n",
    "    \n",
    "    def RNN(x, weights, biases):\n",
    "        x = tf.unstack(x, timesteps, 1)\n",
    "        \n",
    "        cell = tf.contrib.rnn.MultiRNNCell([LstmCell() for _ in range(NUM_LAYERS)])\n",
    "        outputs, state = tf.nn.dynamic_rnn(cell, X, dtype=tf.float32)\n",
    "        outputs = tf.transpose(outputs, [1,0,2])\n",
    "\n",
    "        return tf.matmul(outputs[-1], weights['out']) + biases['out']\n",
    "    \n",
    "\n",
    "    logits = RNN(X, weights, biases)\n",
    "    mean_train = tf.reduce_mean(X)\n",
    "    loss = tf.reduce_mean(tf.squared_difference(logits, Y))\n",
    "    #loss = tf.reduce_mean(tf.nn.softmax_cross_entropy_with_logits(logits=logits, labels=Y))\n",
    "\n",
    "    optimizer = tf.train.AdamOptimizer(learning_rate = 0.001).minimize(loss)\n",
    "    \n",
    "    saver = tf.train.Saver()"
   ]
  },
  {
   "cell_type": "code",
   "execution_count": 68,
   "metadata": {},
   "outputs": [
    {
     "name": "stdout",
     "output_type": "stream",
     "text": [
      "150860\n",
      "150860\n"
     ]
    }
   ],
   "source": [
    "batch_size = 256\n",
    "batch_start = 0;\n",
    "train_length = len(train_x)\n",
    "print(train_length)\n",
    "\n",
    "train_x_extend = [i for i in train_x]\n",
    "train_y_extend = [i for i in train_y]\n",
    "\n",
    "print(len(train_x_extend))"
   ]
  },
  {
   "cell_type": "code",
   "execution_count": 69,
   "metadata": {},
   "outputs": [
    {
     "name": "stdout",
     "output_type": "stream",
     "text": [
      "151116\n"
     ]
    }
   ],
   "source": [
    "if(len(train_x_extend)==len(train_x)):\n",
    "    train_x_extend.extend(train_x[0:batch_size])\n",
    "    train_y_extend.extend(train_y[0:batch_size])\n",
    "print(len(train_x_extend))"
   ]
  },
  {
   "cell_type": "code",
   "execution_count": 70,
   "metadata": {
    "collapsed": true
   },
   "outputs": [],
   "source": [
    "def cal_accuarcy(y, _y):\n",
    "    count = 0\n",
    "    for i in range(0, len(y)):\n",
    "        if(y[i][0] == round(_y[i][0])):\n",
    "            count += 1;\n",
    "    return count*1.0/len(y)\n",
    "#     print(\"train accuarcy : \", count/len(y))"
   ]
  },
  {
   "cell_type": "code",
   "execution_count": 79,
   "metadata": {},
   "outputs": [
    {
     "name": "stdout",
     "output_type": "stream",
     "text": [
      "INFO:tensorflow:Restoring parameters from lstm_check/my-model-gpu-error-metric-nodropout3-wc.ckpt-2000\n",
      "Initialized\n",
      "Loss at step 0: 0.072211, train accuarcy : 0.910156\n",
      "Loss at step 200: 0.066555, train accuarcy : 0.917969\n",
      "Loss at step 400: 0.074190, train accuarcy : 0.906250\n",
      "Loss at step 600: 0.058098, train accuarcy : 0.925781\n",
      "Loss at step 800: 0.062353, train accuarcy : 0.917969\n",
      "Loss at step 1000: 0.064819, train accuarcy : 0.910156\n",
      "Loss at step 1200: 0.052417, train accuarcy : 0.917969\n",
      "Loss at step 1400: 0.061646, train accuarcy : 0.906250\n",
      "Loss at step 1600: 0.061984, train accuarcy : 0.914062\n",
      "Loss at step 1800: 0.066481, train accuarcy : 0.914062\n",
      "Loss at step 2000: 0.077251, train accuarcy : 0.894531\n",
      "Loss at step 2200: 0.048151, train accuarcy : 0.937500\n",
      "Loss at step 2400: 0.071444, train accuarcy : 0.882812\n",
      "Loss at step 2600: 0.047106, train accuarcy : 0.925781\n",
      "Loss at step 2800: 0.038683, train accuarcy : 0.941406\n",
      "Loss at step 3000: 0.068424, train accuarcy : 0.906250\n",
      "Loss at step 3200: 0.058119, train accuarcy : 0.925781\n",
      "Loss at step 3400: 0.062911, train accuarcy : 0.925781\n",
      "Loss at step 3600: 0.052250, train accuarcy : 0.929688\n",
      "Loss at step 3800: 0.046306, train accuarcy : 0.945312\n",
      "Loss at step 4000: 0.046854, train accuarcy : 0.929688\n"
     ]
    }
   ],
   "source": [
    "training_steps = 4001\n",
    "\n",
    "config = tf.ConfigProto(allow_soft_placement=True)\n",
    "# config.gpu_options.allocator_type = 'BFC'\n",
    "# config.gpu_options.per_process_gpu_memory_fraction = 0.40\n",
    "with tf.Session(graph=graph, config=config) as session:\n",
    "    saver.restore(session, tf.train.latest_checkpoint('lstm_check'))\n",
    "#     saver.restore(session, \"lstm_check/my-model-gpu-error-metric-dropout2.ckpt-6000\")\n",
    "#     tf.global_variables_initializer().run()\n",
    "    print('Initialized')\n",
    "    for step in range(training_steps):      \n",
    "        feed_dict = {X: train_x[batch_start:batch_start+batch_size], Y: train_y[batch_start:batch_start+batch_size]}\n",
    "        _, l, predictions, m = session.run([optimizer, loss, logits, mean_train], feed_dict = feed_dict)\n",
    "        if (step % 200 == 0):\n",
    "            train_accuarcy = cal_accuarcy(train_y[batch_start:batch_start+batch_size], predictions)\n",
    "            print('Loss at step %d: %f, train accuarcy : %f' % (step, l, train_accuarcy))\n",
    "            #train accuarcy\n",
    "        if (step % 1000 == 0):\n",
    "            saver.save(session, 'lstm_check/my-model-gpu-error-metric-nodropout3-wc.ckpt', global_step=step+2000)\n",
    "        batch_start += batch_size\n",
    "        if(batch_start>=train_length):\n",
    "            batch_start -=train_length\n",
    "#     train_loss, train_logits = session.run([loss,logits], feed_dict={X: train_x, Y: train_y})\n",
    "#     test_loss, test_logits = session.run([loss,logits], feed_dict={X: test_x, Y: test_y})\n",
    "    test_loss, test_logits = [], []\n",
    "    for i in range(len(test_x)):\n",
    "#         saver.restore(session, tf.train.latest_checkpoint('lstm_check'))\n",
    "        test_loss_part, test_logits_part = session.run([loss,logits], feed_dict={X: test_x[i], Y: test_y[i]})\n",
    "        test_loss.append(test_loss_part)\n",
    "        test_logits.append(test_logits_part)"
   ]
  },
  {
   "cell_type": "code",
   "execution_count": 80,
   "metadata": {},
   "outputs": [
    {
     "data": {
      "image/png": "[encoded data removed]",
      "text/plain": [
       "<matplotlib.figure.Figure at 0x7f04854a1eb8>"
      ]
     },
     "metadata": {},
     "output_type": "display_data"
    }
   ],
   "source": [
    "plt.figure(figsize=(18, 5))\n",
    "start=0\n",
    "end=500\n",
    "plt.plot([i[0] for i in test_y[100][start:end]], 'r')\n",
    "plt.plot([i[0] for i in test_logits[100][start:end]], 'b')\n",
    "plt.show()"
   ]
  },
  {
   "cell_type": "code",
   "execution_count": 81,
   "metadata": {},
   "outputs": [
    {
     "name": "stdout",
     "output_type": "stream",
     "text": [
      "test loss :  [0.18111616, 0.38219312, 0.28236181, 0.38022473, 0.81369126, 0.64656943, 0.63532722, 0.68954772, 0.42191783, 0.43706203, 0.3698155, 0.50562686, 0.70132804, 0.77337193, 0.69711304, 0.80692494, 0.21217798, 0.27447724, 0.25683019, 0.14619815, 0.7457571, 0.62111539, 0.78533918, 0.78315747, 0.49732605, 0.42839834, 0.51842386, 0.59107625, 0.71192634, 0.70082188, 0.71854222, 0.74155313, 0.34106216, 0.24629046, 0.61768377, 0.55945432, 0.47584847, 0.51958925, 0.68525058, 0.69476408, 0.32402918, 0.36486229, 0.40195784, 0.352992, 0.29122263, 0.41311896, 0.4825525, 0.47822094, 0.7554217, 0.58207631, 0.58814305, 0.47546655, 0.61464286, 0.4461385, 0.74772382, 0.56920505, 0.53840679, 0.44608381, 0.41351926, 0.43438464, 0.63370097, 0.46969071, 0.53005826, 0.50390768, 0.73429674, 0.72728944, 0.73792428, 0.77943206, 0.57130915, 0.75544226, 0.81709927, 0.76448947, 0.43476614, 0.24043989, 0.20393282, 0.194006, 0.30009106, 0.32930139, 0.40428424, 0.76630992, 0.66222239, 0.64212859, 0.55774933, 0.48432395, 0.7538147, 0.63493198, 0.4081845, 0.30065265, 0.34840205, 0.30159557, 0.29092732, 0.26774928, 0.31582764, 0.50475734, 0.73131549, 0.63894129, 0.70632416, 0.65923303, 0.62278283, 0.68457127, 0.23801553, 0.23374169, 0.26534745, 0.47837728, 0.66807902, 0.39975536, 0.20612375, 0.39185688, 0.32947239, 0.62392491, 0.63106567, 0.65077364, 0.073009953, 0.078730978, 0.063701943, 0.030622238, 0.28931221, 0.23680991, 0.21230339, 0.085294396, 0.506221, 0.13575304, 0.042437438, 0.040858418, 0.065603569, 0.1716758, 0.049954485, 0.11370157, 0.097796693, 0.060018126, 0.067942403, 0.013371676, 0.34953135, 0.064239852, 0.058920544, 0.062100817, 0.18398966, 0.087403588, 0.083762094, 0.12660749, 0.1247201, 0.10510791, 0.097222693, 0.16833891, 0.054966532, 0.076278314, 0.072706677, 0.0542899]\n",
      "148\n"
     ]
    }
   ],
   "source": [
    "print(\"test loss : \", test_loss)\n",
    "print(len(test_loss))"
   ]
  },
  {
   "cell_type": "code",
   "execution_count": 82,
   "metadata": {},
   "outputs": [
    {
     "name": "stdout",
     "output_type": "stream",
     "text": [
      "41461\n",
      "85214\n",
      "test accuarcy :  0.4865515056211421\n"
     ]
    }
   ],
   "source": [
    "test_logits_bin = []\n",
    "for t in test_logits:\n",
    "    test_logits_part = [[round(i[0])] for i in t]\n",
    "    for i in range(1, len(test_logits_part)-1):\n",
    "        if(test_logits_part[i-1][0]!=test_logits_part[i][0] and test_logits_part[i-1][0]==test_logits_part[i+1][0]):\n",
    "            test_logits_part[i][0]=test_logits_part[i-1][0]    \n",
    "    test_logits_bin.append(test_logits_part)\n",
    "\n",
    "count = 0\n",
    "total = 0\n",
    "for i in range(0, len(test_x)):\n",
    "    total += len(test_y[i])\n",
    "    for j in range(0, len(test_y[i])):\n",
    "        if(test_y[i][j][0] == test_logits_bin[i][j][0]):\n",
    "            count += 1\n",
    "\n",
    "print(count)\n",
    "print(total)\n",
    "print(\"test accuarcy : \", count*1.0/total)"
   ]
  },
  {
   "cell_type": "code",
   "execution_count": 83,
   "metadata": {},
   "outputs": [
    {
     "data": {
      "image/png": "[encoded data removed]",
      "text/plain": [
       "<matplotlib.figure.Figure at 0x7f0484e4ca90>"
      ]
     },
     "metadata": {},
     "output_type": "display_data"
    }
   ],
   "source": [
    "plt.figure(figsize=(18, 5))\n",
    "start=0\n",
    "end=500\n",
    "plt.plot([i[0] for i in test_y[0][start:end]], 'r')\n",
    "plt.plot([i[0] for i in test_logits_bin[0][start:end]], 'b')\n",
    "plt.show()"
   ]
  },
  {
   "cell_type": "code",
   "execution_count": 84,
   "metadata": {},
   "outputs": [
    {
     "name": "stdout",
     "output_type": "stream",
     "text": [
      "[8, 12, 76, 8, 8, 12, 76, 8, 6, 16, 66, 4, 6, 16, 66, 4, 10, 108, 14, 2, 10, 108, 14, 2, 6, 90, 10, 4, 6, 90, 10, 4, 104, 28, 104, 28, 108, 24, 108, 24, 24, 98, 10, 92, 7, 67, 8, 68, 24, 98, 10, 92, 7, 67, 8, 68, 26, 100, 14, 88, 16, 64, 10, 58, 26, 100, 14, 88, 16, 64, 10, 58, 2, 38, 62, 26, 36, 26, 104, 2, 38, 62, 26, 36, 26, 104, 8, 28, 50, 22, 34, 22, 98, 8, 28, 50, 22, 34, 22, 98, 58, 104, 2, 58, 104, 2, 2, 52, 92, 2, 52, 92, 2, 58, 114, 2, 2, 58, 114, 2, 2, 52, 92, 4, 2, 52, 92, 4, 2, 50, 94, 0, 2, 50, 94, 0, 2, 48, 92, 0, 2, 48, 92, 0, 4, 52, 99, 2]\n",
      "[8, 16, 76, 6, 7, 20, 90, 8, 4, 16, 56, 4, 6, 18, 66, 4, 10, 114, 14, 2, 9, 120, 13, 2, 6, 86, 6, 4, 6, 96, 10, 4, 112, 32, 116, 34, 96, 24, 110, 24, 24, 102, 10, 110, 6, 76, 8, 70, 26, 109, 14, 68, 8, 60, 8, 80, 30, 92, 16, 68, 20, 46, 10, 40, 28, 101, 20, 88, 26, 66, 10, 56, 2, 42, 64, 24, 38, 26, 116, 2, 38, 62, 20, 39, 26, 106, 6, 24, 54, 20, 32, 22, 102, 10, 27, 60, 22, 36, 22, 106, 56, 110, 0, 62, 102, 2, 2, 50, 76, 2, 58, 95, 2, 58, 116, 2, 2, 60, 120, 2, 0, 59, 92, 4, 2, 60, 92, 4, 2, 52, 94, 0, 4, 52, 96, 0, 2, 49, 92, 2, 2, 48, 92, 2, 3, 50, 98, 1]\n"
     ]
    }
   ],
   "source": [
    "#test_y      [[0], [0], [1]]\n",
    "#test_logits \n",
    "\n",
    "step_time_actual, step_time_predict= [], []\n",
    "\n",
    "for i in range(0, len(test_x)):\n",
    "    step_time_actual_part, step_time_predict_part= [], []\n",
    "    for j in range(0, len(test_y[i])-1):\n",
    "        if(abs(test_y[i][j][0]-test_y[i][j-1][0])>0.5):\n",
    "            step_time_actual_part.append(j)\n",
    "    #     if(abs(test_logits[i][0]-test_logits[i-1][0])>0.5):\n",
    "        if(abs(test_logits_bin[i][j][0]-test_logits_bin[i][j-1][0])>0.5):\n",
    "            step_time_predict_part.append(j)\n",
    "    step_time_actual.append(step_time_actual_part)\n",
    "    step_time_predict.append(step_time_predict_part)\n",
    "\n",
    "print([len(i) for i in step_time_actual])   \n",
    "print([len(i) for i in step_time_predict])"
   ]
  },
  {
   "cell_type": "code",
   "execution_count": 85,
   "metadata": {},
   "outputs": [
    {
     "name": "stdout",
     "output_type": "stream",
     "text": [
      "[0, 7, 18, 34, 45, 62, 73, 88]\n",
      "[0, 2, 16, 29, 44, 58, 72, 84]\n"
     ]
    }
   ],
   "source": [
    "print(step_time_actual[0])\n",
    "print(step_time_predict[0])"
   ]
  },
  {
   "cell_type": "code",
   "execution_count": 86,
   "metadata": {},
   "outputs": [
    {
     "name": "stdout",
     "output_type": "stream",
     "text": [
      "------------------\n",
      "total undercount metric 1 :  0.14240663900414938\n",
      "total overcount metric 1 :  0.16033195020746888\n",
      "total undercount metric 2 :  0.030705394190871368\n",
      "total overcount metric 2 :  0.048132780082987554\n"
     ]
    }
   ],
   "source": [
    "total_step_count = sum([len(i) for i in step_time_actual])\n",
    "metric1_undercount = 0\n",
    "metric2_undercount = 0\n",
    "metric1_overcount = 0\n",
    "metric2_overcount = 0\n",
    "\n",
    "for i in range(len(test_x)):\n",
    "    step_count = len(step_time_actual[i])\n",
    "    undercount = 0\n",
    "    overcount = 0\n",
    "\n",
    "    for j in range(1, step_count):\n",
    "        gap_count = [t for t in step_time_predict[i] if t>=step_time_actual[i][j-1] and t<step_time_actual[i][j]]\n",
    "    #     print(gap_count)\n",
    "        if(len(gap_count)>1):\n",
    "            overcount += len(gap_count)-1\n",
    "        if(len(gap_count)<1):\n",
    "            undercount += 1\n",
    "    \n",
    "    metric1_undercount += undercount\n",
    "    metric1_overcount += overcount\n",
    "#     print(undercount, overcount)\n",
    "#     print('undercount : ', undercount*1.0/step_count)\n",
    "#     print('overcount : ', overcount*1.0/step_count)\n",
    "    diff = len(step_time_predict[i])-len(step_time_actual[i])\n",
    "#     if(diff==0):\n",
    "#         print(\"segement correct!\")\n",
    "\n",
    "    if(diff<0):\n",
    "#         print('segement undercount : ', 1-len(step_time_predict[i])*1.0/len(step_time_actual[i]))\n",
    "        metric2_undercount -= diff\n",
    "    if(diff>0):\n",
    "#         print('segement overcount : ', 1-len(step_time_actual[i])*1.0/len(step_time_predict[i]))\n",
    "        metric2_overcount += diff\n",
    "\n",
    "print('------------------')\n",
    "print(\"total undercount metric 1 : \", metric1_undercount*1.0/total_step_count)\n",
    "print(\"total overcount metric 1 : \", metric1_overcount*1.0/total_step_count)\n",
    "print(\"total undercount metric 2 : \", metric2_undercount*1.0/total_step_count)\n",
    "print(\"total overcount metric 2 : \", metric2_overcount*1.0/total_step_count)"
   ]
  },
  {
   "cell_type": "code",
   "execution_count": null,
   "metadata": {
    "collapsed": true
   },
   "outputs": [],
   "source": []
  }
 ],
 "metadata": {
  "kernelspec": {
   "display_name": "Python 3",
   "language": "python",
   "name": "python3"
  },
  "language_info": {
   "codemirror_mode": {
    "name": "ipython",
    "version": 3
   },
   "file_extension": ".py",
   "mimetype": "text/x-python",
   "name": "python",
   "nbconvert_exporter": "python",
   "pygments_lexer": "ipython3",
   "version": "3.6.3"
  }
 },
 "nbformat": 4,
 "nbformat_minor": 2
}
