{
 "cells": [
  {
   "cell_type": "code",
   "execution_count": 1,
   "metadata": {
    "collapsed": true
   },
   "outputs": [],
   "source": [
    "import numpy as np\n",
    "import matplotlib.pyplot as plt\n",
    "import tensorflow as tf\n",
    "import math\n",
    "import re\n",
    "import random\n",
    "import csv"
   ]
  },
  {
   "cell_type": "code",
   "execution_count": 2,
   "metadata": {
    "collapsed": true
   },
   "outputs": [],
   "source": [
    "# Network Parameters\n",
    "num_input = 6\n",
    "timesteps = 80 # timesteps\n",
    "num_hidden = 100 # hidden layer num of features\n",
    "num_output= 1"
   ]
  },
  {
   "cell_type": "code",
   "execution_count": 3,
   "metadata": {},
   "outputs": [
    {
     "name": "stdout",
     "output_type": "stream",
     "text": [
      "2222\n",
      "[['-0.019518', '0.008494', '-0.028465', '-0.005996', '0.020669', '-0.004296'], ['-0.005692', '0.000057', '-0.024276', '-0.000256', '0.014950', '0.001150'], ['0.007102', '0.005360', '-0.023330', '0.004456', '0.016611', '-0.002063'], ['-0.000434', '0.001039', '-0.028566', '0.006550', '0.017119', '-0.000400'], ['-0.001535', '-0.011660', '-0.027445', '0.005630', '0.018032', '0.000301'], ['0.003800', '-0.013711', '-0.020021', '0.005064', '0.016065', '-0.000907'], ['-0.015345', '-0.009429', '-0.015628', '0.004625', '0.014716', '-0.003756'], ['-0.015340', '-0.008360', '-0.014566', '0.002188', '0.016319', '0.000343'], ['-0.006906', '-0.021035', '-0.006022', '0.004755', '0.016605', '0.004856'], ['-0.000459', '-0.003021', '-0.005078', '0.007958', '0.009406', '-0.000746']]\n"
     ]
    }
   ],
   "source": [
    "#iPhoneSensors_T1_ID1_1L_GD.csv\n",
    "with open(\"weallwalk/sensor/iPhoneSensors_T1_ID1_1L_GD.csv\", \"r\") as csvfile:\n",
    "    reader = csv.reader(csvfile) # 读取csv文件，返回的是迭代类型\n",
    "    dataset = [row[17:23] for row in reader]\n",
    "    print(len(dataset))\n",
    "    print(dataset[:10])\n"
   ]
  },
  {
   "cell_type": "code",
   "execution_count": 4,
   "metadata": {
    "collapsed": true
   },
   "outputs": [],
   "source": [
    "def read_sensor(filename):\n",
    "    with open(filename, \"r\") as csvfile:\n",
    "        reader = csv.reader(csvfile) # 读取csv文件，返回的是迭代类型\n",
    "        dataset = [row[17:23] for row in reader]\n",
    "        #data_x\n",
    "        return np.array(dataset)\n",
    "    \n",
    "def read_xml(filename, length):\n",
    "    f = open(filename)\n",
    "    cts = f.read()\n",
    "    f.close()\n",
    "\n",
    "    p_foot = re.compile(r'<WhichFoot>(.*?)</WhichFoot>')\n",
    "    all_foot = p_foot.findall(cts)\n",
    "\n",
    "    p_time = re.compile(r'<Time>(.*?)</Time>')\n",
    "    all_time = p_time.findall(cts)\n",
    "\n",
    "    strike_times = []\n",
    "    #L-1 R-0\n",
    "    strike_times.append([0.0, 0.5])\n",
    "    for i in range(len(all_foot)):\n",
    "        if(all_foot[i]=='L'):\n",
    "            strike_times.append([float(all_time[i]), 1])\n",
    "        else:\n",
    "            strike_times.append([float(all_time[i]), 0])\n",
    "    strike_times[-1][1] = 0.5\n",
    "    strike_times.append([length/25.0, 0.5])\n",
    "#     print(strike_times[-10:])\n",
    "#     print(len(strike_times))\n",
    "\n",
    "    window_y = []\n",
    "    strike_index=0\n",
    "    for i in range(length):\n",
    "        if(i/25.0 >= strike_times[strike_index+1][0]):\n",
    "            strike_index += 1\n",
    "        window_y.append([strike_times[strike_index][1]])\n",
    "\n",
    "    p_info = re.compile(r'<StartTime>(.*?)</StartTime>\\n\\t<EndTime>(.*?)</EndTime>\\n\\t<NSteps>(.*?)</NSteps>\\n\\t<Direction>(.*?)</Direction>')\n",
    "    all_info = p_info.findall(cts)#start_time, end_time, step_num, direction\n",
    "#     print(all_info)\n",
    "    \n",
    "#     p_dir = re.compile(r'<Direction>(.*?)</Direction>')\n",
    "#     all_dir = p_dir.findall(cts)\n",
    "#     print(all_dir)\n",
    "\n",
    "#     p_starttime = re.compile(r'<StartTime>(.*?)</StartTime>')\n",
    "#     all_starttime = p_starttime.findall(cts)\n",
    "#     print(all_starttime)\n",
    "\n",
    "#     p_endtime = re.compile(r'<EndTime>(.*?)</EndTime>')\n",
    "#     all_endtime = p_endtime.findall(cts)\n",
    "#     print(all_endtime)\n",
    "\n",
    "    for i in range(len(all_info)):\n",
    "        if(all_info[i][3][:4]=='Turn'):\n",
    "#             print(all_info[i])\n",
    "            start_time = int(float(all_info[i][0])*25)\n",
    "            end_time = int(float(all_info[i][1])*25)\n",
    "#             print('start and end time : ', all_info[i][0], all_info[i][1])\n",
    "            for t in range(start_time-1, end_time):\n",
    "                window_y[t] = [0.5]\n",
    "\n",
    "#     print(len(window_y))  \n",
    "    return window_y"
   ]
  },
  {
   "cell_type": "code",
   "execution_count": 5,
   "metadata": {},
   "outputs": [
    {
     "name": "stdout",
     "output_type": "stream",
     "text": [
      "2750\n",
      "2750\n"
     ]
    },
    {
     "data": {
      "image/png": "[encoded data removed]",
      "text/plain": [
       "<matplotlib.figure.Figure at 0x10db52dd0>"
      ]
     },
     "metadata": {},
     "output_type": "display_data"
    }
   ],
   "source": [
    "data_x_2 = read_sensor(\"weallwalk/sensor/iPhoneSensors_T2_ID1_1L_GD.csv\")\n",
    "print(len(data_x_2))\n",
    "\n",
    "data_y_2 = read_xml(\"weallwalk/xml/T2_ID1_GD.xml\", len(data_x_2))\n",
    "print(len(data_y_2))\n",
    "\n",
    "plt.figure(figsize=(18, 5))\n",
    "plt.plot([i[0] for i in data_y_2], 'r')\n",
    "plt.show()"
   ]
  },
  {
   "cell_type": "code",
   "execution_count": 7,
   "metadata": {},
   "outputs": [
    {
     "name": "stdout",
     "output_type": "stream",
     "text": [
      "(2750, 2750)\n",
      "(1637, 1637)\n"
     ]
    }
   ],
   "source": [
    "print(len(data_x_2), len(data_y_2))\n",
    "\n",
    "data_x2_seq, data_y2_seq = [], []\n",
    "for i in range(len(data_x_2)-timesteps):\n",
    "    flag=1\n",
    "    for iy in data_y_2[i:i+timesteps]:\n",
    "#         print(iy)\n",
    "        if(iy[0]==0.5):\n",
    "#             print(0.5)\n",
    "            flag=0\n",
    "            break\n",
    "    if(flag==1):  \n",
    "        x=data_x_2[i:i+timesteps]\n",
    "        y=data_y_2[i+timesteps]\n",
    "        data_x2_seq.append(x)\n",
    "        data_y2_seq.append(y)\n",
    "\n",
    "print(len(data_x2_seq), len(data_y2_seq))"
   ]
  },
  {
   "cell_type": "code",
   "execution_count": 8,
   "metadata": {},
   "outputs": [
    {
     "name": "stdout",
     "output_type": "stream",
     "text": [
      "1637\n"
     ]
    }
   ],
   "source": [
    "order = list(range(0,len(data_x2_seq),1))\n",
    "random.shuffle(order)\n",
    "\n",
    "train_x = [data_x2_seq[i] for i in order]\n",
    "train_y = [data_y2_seq[i] for i in order]\n",
    "\n",
    "print(len(train_x))"
   ]
  },
  {
   "cell_type": "code",
   "execution_count": 9,
   "metadata": {},
   "outputs": [
    {
     "name": "stdout",
     "output_type": "stream",
     "text": [
      "1637\n"
     ]
    }
   ],
   "source": [
    "order = list(range(0,len(data_x2_seq),1))\n",
    "random.shuffle(order)\n",
    "\n",
    "train_x = [data_x2_seq[i] for i in order]\n",
    "train_y = [data_y2_seq[i] for i in order]\n",
    "\n",
    "print(len(train_x))"
   ]
  },
  {
   "cell_type": "code",
   "execution_count": 10,
   "metadata": {},
   "outputs": [
    {
     "name": "stdout",
     "output_type": "stream",
     "text": [
      "2222\n",
      "2222\n"
     ]
    }
   ],
   "source": [
    "data_x_1 = read_sensor(\"weallwalk/sensor/iPhoneSensors_T1_ID1_1L_GD.csv\")\n",
    "print(len(data_x_1))\n",
    "\n",
    "data_y_1 = read_xml(\"weallwalk/xml/T1_ID1_GD.xml\", len(data_x_1))\n",
    "print(len(data_y_1))"
   ]
  },
  {
   "cell_type": "code",
   "execution_count": 11,
   "metadata": {},
   "outputs": [
    {
     "data": {
      "image/png": "[encoded data removed]",
      "text/plain": [
       "<matplotlib.figure.Figure at 0x10df51f10>"
      ]
     },
     "metadata": {},
     "output_type": "display_data"
    }
   ],
   "source": [
    "plt.figure(figsize=(18, 5))\n",
    "plt.plot([i[0] for i in data_y_1], 'r')\n",
    "plt.show()"
   ]
  },
  {
   "cell_type": "code",
   "execution_count": 12,
   "metadata": {},
   "outputs": [
    {
     "name": "stdout",
     "output_type": "stream",
     "text": [
      "(2222, 2222)\n",
      "(1209, 1209)\n"
     ]
    }
   ],
   "source": [
    "print(len(data_x_1), len(data_y_1))\n",
    "\n",
    "data_x1_seq, data_y1_seq = [], []\n",
    "for i in range(len(data_x_1)-timesteps):\n",
    "    flag=1\n",
    "    for iy in data_y_1[i:i+timesteps]:\n",
    "#         print(iy)\n",
    "        if(iy[0]==0.5):\n",
    "#             print(0.5)\n",
    "            flag=0\n",
    "            break\n",
    "    if(flag==1):  \n",
    "        x=data_x_1[i:i+timesteps]\n",
    "        y=data_y_1[i+timesteps]\n",
    "        data_x1_seq.append(x)\n",
    "        data_y1_seq.append(y)\n",
    "\n",
    "print(len(data_x1_seq), len(data_y1_seq))"
   ]
  },
  {
   "cell_type": "code",
   "execution_count": 13,
   "metadata": {},
   "outputs": [
    {
     "name": "stdout",
     "output_type": "stream",
     "text": [
      "1209\n"
     ]
    }
   ],
   "source": [
    "test_x = data_x1_seq\n",
    "test_y = data_y1_seq\n",
    "\n",
    "print(len(test_x))"
   ]
  },
  {
   "cell_type": "code",
   "execution_count": 14,
   "metadata": {
    "collapsed": true
   },
   "outputs": [],
   "source": [
    "NUM_LAYERS=2\n",
    "\n",
    "def LstmCell():\n",
    "    lstm_cell = tf.contrib.rnn.BasicLSTMCell(num_hidden, state_is_tuple=True)\n",
    "    return lstm_cell\n",
    "\n",
    "graph = tf.Graph()\n",
    "with graph.as_default(), tf.device('/gpu:0'):\n",
    "    # tf Graph input\n",
    "    X = tf.placeholder(\"float\", [None, timesteps, num_input])\n",
    "    Y = tf.placeholder(\"float\", [None, num_output])\n",
    "    \n",
    "    # Define weights\n",
    "    weights = {\n",
    "        'out': tf.Variable(tf.random_normal([num_hidden, num_output]))\n",
    "    }\n",
    "    biases = {\n",
    "        'out': tf.Variable(tf.random_normal([num_output]))\n",
    "        #'out':tf.Variable(tf.zeros([1]))\n",
    "    }\n",
    "    \n",
    "    def RNN(x, weights, biases):\n",
    "        x = tf.unstack(x, timesteps, 1)\n",
    "        cell = tf.contrib.rnn.MultiRNNCell([LstmCell() for _ in range(NUM_LAYERS)])\n",
    "        outputs, state = tf.nn.dynamic_rnn(cell, X, dtype=tf.float32)\n",
    "        outputs = tf.transpose(outputs, [1,0,2])\n",
    "\n",
    "        return tf.matmul(outputs[-1], weights['out']) + biases['out']\n",
    "    \n",
    "\n",
    "    logits = RNN(X, weights, biases)\n",
    "    mean_train = tf.reduce_mean(X)\n",
    "    loss = tf.reduce_mean(tf.squared_difference(logits, Y))\n",
    "    #loss = tf.reduce_mean(tf.nn.softmax_cross_entropy_with_logits(logits=logits, labels=Y))\n",
    "\n",
    "    optimizer = tf.train.AdamOptimizer(learning_rate = 0.001).minimize(loss)\n",
    "    \n",
    "    saver = tf.train.Saver()"
   ]
  },
  {
   "cell_type": "code",
   "execution_count": 15,
   "metadata": {},
   "outputs": [
    {
     "name": "stdout",
     "output_type": "stream",
     "text": [
      "1637\n",
      "1637\n"
     ]
    }
   ],
   "source": [
    "batch_size = 256\n",
    "batch_start = 0;\n",
    "train_length = len(train_x)\n",
    "print(train_length)\n",
    "\n",
    "train_x_extend = [i for i in train_x]\n",
    "train_y_extend = [i for i in train_y]\n",
    "\n",
    "print(len(train_x_extend))"
   ]
  },
  {
   "cell_type": "code",
   "execution_count": 16,
   "metadata": {},
   "outputs": [
    {
     "name": "stdout",
     "output_type": "stream",
     "text": [
      "1893\n"
     ]
    }
   ],
   "source": [
    "if(len(train_x_extend)==len(train_x)):\n",
    "    train_x_extend.extend(train_x[0:batch_size])\n",
    "    train_y_extend.extend(train_y[0:batch_size])\n",
    "print(len(train_x_extend))"
   ]
  },
  {
   "cell_type": "code",
   "execution_count": 63,
   "metadata": {
    "collapsed": true
   },
   "outputs": [],
   "source": [
    "def cal_accuarcy(y, _y):\n",
    "    count = 0\n",
    "    for i in range(0, len(y)):\n",
    "        if(y[i][0] == round(_y[i][0])):\n",
    "            count += 1;\n",
    "    return count*1.0/len(y)\n",
    "#     print(\"train accuarcy : \", count/len(y))"
   ]
  },
  {
   "cell_type": "code",
   "execution_count": 64,
   "metadata": {},
   "outputs": [
    {
     "name": "stdout",
     "output_type": "stream",
     "text": [
      "INFO:tensorflow:Restoring parameters from lstm_check/my-model-gpu-error-metric.ckpt-1500\n",
      "Initialized\n",
      "Loss at step 0: 0.000471, train accuarcy : 1.000000\n",
      "Loss at step 200: 0.011295, train accuarcy : 0.988281\n",
      "Loss at step 400: 0.000680, train accuarcy : 0.992188\n",
      "Loss at step 600: 0.000813, train accuarcy : 1.000000\n",
      "Loss at step 800: 0.001519, train accuarcy : 1.000000\n",
      "Loss at step 1000: 0.000316, train accuarcy : 1.000000\n"
     ]
    }
   ],
   "source": [
    "training_steps = 1001\n",
    "\n",
    "config = tf.ConfigProto(allow_soft_placement=True)\n",
    "# config.gpu_options.allocator_type = 'BFC'\n",
    "# config.gpu_options.per_process_gpu_memory_fraction = 0.40\n",
    "with tf.Session(graph=graph, config=config) as session:\n",
    "    saver.restore(session, tf.train.latest_checkpoint('lstm_check'))\n",
    "#     saver.restore(session, \"lstm_check/my-model-gpu-batch-test-add-data.ckpt-10000\")\n",
    "#     tf.global_variables_initializer().run()\n",
    "    print('Initialized')\n",
    "    for step in range(training_steps):      \n",
    "        feed_dict = {X: train_x[batch_start:batch_start+batch_size], Y: train_y[batch_start:batch_start+batch_size]}\n",
    "        _, l, predictions, m = session.run([optimizer, loss, logits, mean_train], feed_dict = feed_dict)\n",
    "        if (step % 200 == 0):\n",
    "            train_accuarcy = cal_accuarcy(train_y[batch_start:batch_start+batch_size], predictions)\n",
    "            print('Loss at step %d: %f, train accuarcy : %f' % (step, l, train_accuarcy))\n",
    "            #train accuarcy\n",
    "        if (step % 500 == 0):\n",
    "            saver.save(session, 'lstm_check/my-model-gpu-error-metric.ckpt', global_step=step+1500)\n",
    "        batch_start += batch_size\n",
    "        if(batch_start>=train_length):\n",
    "            batch_start -=train_length\n",
    "#     train_loss, train_logits = session.run([loss,logits], feed_dict={X: train_x, Y: train_y})\n",
    "    test_loss, test_logits = session.run([loss,logits], feed_dict={X: test_x, Y: test_y})"
   ]
  },
  {
   "cell_type": "code",
   "execution_count": 1,
   "metadata": {},
   "outputs": [
    {
     "ename": "NameError",
     "evalue": "name 'plt' is not defined",
     "output_type": "error",
     "traceback": [
      "\u001b[0;31m---------------------------------------------------------------------------\u001b[0m",
      "\u001b[0;31mNameError\u001b[0m                                 Traceback (most recent call last)",
      "\u001b[0;32m<ipython-input-1-c837cd56e8c5>\u001b[0m in \u001b[0;36m<module>\u001b[0;34m()\u001b[0m\n\u001b[0;32m----> 1\u001b[0;31m \u001b[0mplt\u001b[0m\u001b[0;34m.\u001b[0m\u001b[0mfigure\u001b[0m\u001b[0;34m(\u001b[0m\u001b[0mfigsize\u001b[0m\u001b[0;34m=\u001b[0m\u001b[0;34m(\u001b[0m\u001b[0;36m18\u001b[0m\u001b[0;34m,\u001b[0m \u001b[0;36m5\u001b[0m\u001b[0;34m)\u001b[0m\u001b[0;34m)\u001b[0m\u001b[0;34m\u001b[0m\u001b[0m\n\u001b[0m\u001b[1;32m      2\u001b[0m \u001b[0mplt\u001b[0m\u001b[0;34m.\u001b[0m\u001b[0mplot\u001b[0m\u001b[0;34m(\u001b[0m\u001b[0;34m[\u001b[0m\u001b[0mi\u001b[0m\u001b[0;34m[\u001b[0m\u001b[0;36m0\u001b[0m\u001b[0;34m]\u001b[0m \u001b[0;32mfor\u001b[0m \u001b[0mi\u001b[0m \u001b[0;32min\u001b[0m \u001b[0mtest_y\u001b[0m\u001b[0;34m]\u001b[0m\u001b[0;34m,\u001b[0m \u001b[0;34m'r'\u001b[0m\u001b[0;34m)\u001b[0m\u001b[0;34m\u001b[0m\u001b[0m\n\u001b[1;32m      3\u001b[0m \u001b[0mplt\u001b[0m\u001b[0;34m.\u001b[0m\u001b[0mplot\u001b[0m\u001b[0;34m(\u001b[0m\u001b[0;34m[\u001b[0m\u001b[0mi\u001b[0m\u001b[0;34m[\u001b[0m\u001b[0;36m0\u001b[0m\u001b[0;34m]\u001b[0m \u001b[0;32mfor\u001b[0m \u001b[0mi\u001b[0m \u001b[0;32min\u001b[0m \u001b[0mtest_logits\u001b[0m\u001b[0;34m]\u001b[0m\u001b[0;34m,\u001b[0m \u001b[0;34m'b'\u001b[0m\u001b[0;34m)\u001b[0m\u001b[0;34m\u001b[0m\u001b[0m\n\u001b[1;32m      4\u001b[0m \u001b[0mplt\u001b[0m\u001b[0;34m.\u001b[0m\u001b[0mshow\u001b[0m\u001b[0;34m(\u001b[0m\u001b[0;34m)\u001b[0m\u001b[0;34m\u001b[0m\u001b[0m\n",
      "\u001b[0;31mNameError\u001b[0m: name 'plt' is not defined"
     ]
    }
   ],
   "source": [
    "plt.figure(figsize=(18, 5))\n",
    "plt.plot([i[0] for i in test_y], 'r')\n",
    "plt.plot([i[0] for i in test_logits], 'b')\n",
    "plt.show()"
   ]
  },
  {
   "cell_type": "code",
   "execution_count": 27,
   "metadata": {},
   "outputs": [
    {
     "name": "stdout",
     "output_type": "stream",
     "text": [
      "[[ 0.90409255]\n",
      " [ 0.90192258]\n",
      " [ 0.8961122 ]\n",
      " ..., \n",
      " [ 0.49491799]\n",
      " [ 0.53353417]\n",
      " [ 0.46380115]]\n"
     ]
    }
   ],
   "source": [
    "# print(test_y)\n",
    "print(test_logits)"
   ]
  },
  {
   "cell_type": "code",
   "execution_count": 33,
   "metadata": {},
   "outputs": [
    {
     "name": "stdout",
     "output_type": "stream",
     "text": [
      "('test loss : ', 0.091568552)\n",
      "1085\n",
      "1209\n",
      "('test accuarcy : ', 0.8974358974358975)\n"
     ]
    }
   ],
   "source": [
    "print(\"test loss : \", test_loss)\n",
    "\n",
    "count = 0\n",
    "for i in range(0, len(test_x)):\n",
    "    #if(test_y[i][0]-test_y[i-1][0]>0.9):\n",
    "#     print(test_y[i][0], test_logits[i][0])\n",
    "    if(test_y[i][0] == round(test_logits[i][0])):\n",
    "#         print('same')\n",
    "        count += 1;\n",
    "print(count)\n",
    "print(len(test_x))\n",
    "print(\"test accuarcy : \", count*1.0/len(test_x))"
   ]
  },
  {
   "cell_type": "code",
   "execution_count": 58,
   "metadata": {},
   "outputs": [
    {
     "name": "stdout",
     "output_type": "stream",
     "text": [
      "92\n",
      "89\n"
     ]
    }
   ],
   "source": [
    "#test_y      [[0], [0], [1]]\n",
    "#test_logits \n",
    "\n",
    "step_time_actual = []\n",
    "step_time_predict = []\n",
    "for i in range(1, len(test_y)):\n",
    "    if(abs(test_y[i][0]-test_y[i-1][0])>0.5):\n",
    "        step_time_actual.append(i)\n",
    "    if(abs(test_logits[i][0]-test_logits[i-1][0])>0.5):\n",
    "        step_time_predict.append(i)\n",
    "\n",
    "print(len(step_time_actual))   \n",
    "print(len(step_time_predict))"
   ]
  },
  {
   "cell_type": "code",
   "execution_count": 59,
   "metadata": {},
   "outputs": [
    {
     "name": "stdout",
     "output_type": "stream",
     "text": [
      "[(9, 19), (19, 35), (37, 49), (48, 65), (64, 80), (78, 94), (94, 106), (105, 119), (119, 131), (130, 146), (146, 157), (157, 173), (175, 207), (194, 216), (216, 231), (232, 245), (242, 257), (257, 269), (268, 283), (282, 293), (293, 307), (307, 319), (318, 333), (334, 344), (342, 358), (356, 367), (366, 380), (380, 393), (392, 407), (405, 415), (416, 430), (430, 442), (440, 456), (456, 466), (465, 481), (480, 492), (491, 507), (505, 517), (515, 531), (529, 541), (540, 555), (554, 567), (565, 581), (580, 592), (590, 605), (604, 615), (616, 632), (630, 656), (641, 692), (655, 707), (666, 718), (682, 732), (691, 741), (706, 757), (716, 766), (730, 780), (740, 781), (755, 792), (765, 805), (780, 806), (790, 815), (803, 831), (815, 840), (829, 854), (840, 864), (853, 878), (863, 888), (877, 901), (887, 913), (901, 926), (911, 937), (927, 952), (935, 961), (949, 975), (961, 986), (974, 1000), (985, 1011), (999, 1026), (1009, 1034), (1024, 1050), (1036, 1061), (1049, 1074), (1059, 1085), (1074, 1101), (1085, 1109), (1099, 1125), (1109, 1145), (1124, 1146), (1146, 1196)]\n",
      "[9, 19, 37, 48, 64, 78, 94, 105, 119, 130, 146, 157, 175, 194, 216, 232, 242, 257, 268, 282, 293, 307, 318, 334, 342, 356, 366, 380, 392, 405, 416, 430, 440, 456, 465, 480, 491, 505, 515, 529, 540, 554, 565, 580, 590, 604, 616, 630, 641, 655, 666, 682, 691, 706, 716, 730, 740, 755, 765, 780, 790, 803, 815, 829, 840, 853, 863, 877, 887, 901, 911, 927, 935, 949, 961, 974, 985, 999, 1009, 1024, 1036, 1049, 1059, 1074, 1085, 1099, 1109, 1124, 1146, 1166, 1179, 1195]\n",
      "[19, 35, 49, 65, 80, 94, 106, 119, 131, 146, 157, 173, 207, 216, 231, 245, 257, 269, 283, 293, 307, 319, 333, 344, 358, 367, 380, 393, 407, 415, 430, 442, 456, 466, 481, 492, 507, 517, 531, 541, 555, 567, 581, 592, 605, 615, 632, 656, 692, 707, 718, 732, 741, 757, 766, 780, 781, 792, 805, 806, 815, 831, 840, 854, 864, 878, 888, 901, 913, 926, 937, 952, 961, 975, 986, 1000, 1011, 1026, 1034, 1050, 1061, 1074, 1085, 1101, 1109, 1125, 1145, 1146, 1196]\n"
     ]
    }
   ],
   "source": [
    "print(zip(step_time_actual, step_time_predict))\n",
    "\n",
    "print(step_time_actual)\n",
    "print(step_time_predict)"
   ]
  },
  {
   "cell_type": "code",
   "execution_count": 62,
   "metadata": {},
   "outputs": [
    {
     "name": "stdout",
     "output_type": "stream",
     "text": [
      "14\n",
      "11\n",
      "('undercount : ', 0.15217391304347827)\n",
      "('overcount : ', 0.11956521739130435)\n",
      "('segement undercount : ', 0.03260869565217395)\n"
     ]
    }
   ],
   "source": [
    "step_count = len(step_time_actual)\n",
    "undercount = 0\n",
    "overcount = 0\n",
    "\n",
    "for i in range(1, step_count):\n",
    "    gap_count = [t for t in step_time_predict if t>=step_time_actual[i-1] and t<step_time_actual[i]]\n",
    "#     print(gap_count)\n",
    "    if(len(gap_count)>1):\n",
    "        overcount += len(gap_count)-1\n",
    "    if(len(gap_count)<1):\n",
    "        undercount += 1\n",
    "\n",
    "print(undercount)\n",
    "print(overcount)\n",
    "print('undercount : ', undercount*1.0/step_count)\n",
    "print('overcount : ', overcount*1.0/step_count)\n",
    "print('segement undercount : ', 1-len(step_time_predict)*1.0/len(step_time_actual))"
   ]
  },
  {
   "cell_type": "code",
   "execution_count": null,
   "metadata": {
    "collapsed": true
   },
   "outputs": [],
   "source": []
  }
 ],
 "metadata": {
  "kernelspec": {
   "display_name": "Python 3",
   "language": "python",
   "name": "python3"
  },
  "language_info": {
   "codemirror_mode": {
    "name": "ipython",
    "version": 3
   },
   "file_extension": ".py",
   "mimetype": "text/x-python",
   "name": "python",
   "nbconvert_exporter": "python",
   "pygments_lexer": "ipython3",
   "version": "3.6.3"
  }
 },
 "nbformat": 4,
 "nbformat_minor": 2
}
