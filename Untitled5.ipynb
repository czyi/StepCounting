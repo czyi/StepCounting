{
 "cells": [
  {
   "cell_type": "code",
   "execution_count": 4,
   "metadata": {},
   "outputs": [
    {
     "name": "stdout",
     "output_type": "stream",
     "text": [
      "[0, 1, 8, 9]\n",
      "[8, 9]\n",
      "None\n"
     ]
    }
   ],
   "source": [
    "lst=[0,1,2,3,4,5,6,7,8,9]\n",
    "l1 = [i for i in lst[:2]]\n",
    "l2 = [i for i in lst[-2:]]\n",
    "l1.extend(l2)\n",
    "print(l1)\n",
    "print(l2)\n",
    "\n",
    "print([i for i in lst[:2]].extend([i for i in lst[-2:]]))"
   ]
  },
  {
   "cell_type": "code",
   "execution_count": null,
   "metadata": {
    "collapsed": true
   },
   "outputs": [],
   "source": []
  }
 ],
 "metadata": {
  "kernelspec": {
   "display_name": "Python 3",
   "language": "python",
   "name": "python3"
  },
  "language_info": {
   "codemirror_mode": {
    "name": "ipython",
    "version": 3
   },
   "file_extension": ".py",
   "mimetype": "text/x-python",
   "name": "python",
   "nbconvert_exporter": "python",
   "pygments_lexer": "ipython3",
   "version": "3.6.3"
  }
 },
 "nbformat": 4,
 "nbformat_minor": 2
}
