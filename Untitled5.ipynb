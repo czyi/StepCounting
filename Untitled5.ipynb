{
 "cells": [
  {
   "cell_type": "code",
   "execution_count": 3,
   "metadata": {
    "collapsed": true
   },
   "outputs": [],
   "source": [
    "import csv\n",
    "\n",
    "#python2可以用file替代open\n",
    "with open(\"tmp/test.csv\",\"w\") as csvfile: \n",
    "    writer = csv.writer(csvfile)\n",
    "\n",
    "    #先写入columns_name\n",
    "    writer.writerow([\"index\",\"a_name\",\"b_name\"])\n",
    "    #写入多行用writerows\n",
    "    writer.writerows([[0,1,3],[1,2,3],[2,3,4]])"
   ]
  },
  {
   "cell_type": "code",
   "execution_count": 7,
   "metadata": {},
   "outputs": [
    {
     "name": "stdout",
     "output_type": "stream",
     "text": [
      "[6, 5, 9, 2, 7, 1, 8, 4, 3]\n",
      "[3, 5, 2, 9, 4, 1, 7, 8, 6]\n",
      "[6, 3, 8, 4, 5, 9, 2, 7, 1]\n",
      "[5, 9, 8, 3, 6, 1, 7, 2, 4]\n"
     ]
    }
   ],
   "source": [
    "import random\n",
    "\n",
    "x = [1,2,3,4,5,6,7,8,9]\n",
    "random.shuffle(x)\n",
    "print(x)\n",
    "random.shuffle(x)\n",
    "print(x)\n",
    "random.shuffle(x)\n",
    "print(x)\n",
    "random.shuffle(x)\n",
    "print(x)"
   ]
  },
  {
   "cell_type": "code",
   "execution_count": null,
   "metadata": {
    "collapsed": true
   },
   "outputs": [],
   "source": []
  }
 ],
 "metadata": {
  "kernelspec": {
   "display_name": "Python 3",
   "language": "python",
   "name": "python3"
  },
  "language_info": {
   "codemirror_mode": {
    "name": "ipython",
    "version": 3
   },
   "file_extension": ".py",
   "mimetype": "text/x-python",
   "name": "python",
   "nbconvert_exporter": "python",
   "pygments_lexer": "ipython3",
   "version": "3.6.3"
  }
 },
 "nbformat": 4,
 "nbformat_minor": 2
}
