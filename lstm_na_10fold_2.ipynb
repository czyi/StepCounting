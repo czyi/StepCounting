{
 "cells": [
  {
   "cell_type": "code",
   "execution_count": 18,
   "metadata": {
    "collapsed": true
   },
   "outputs": [],
   "source": [
    "import numpy as np\n",
    "import matplotlib.pyplot as plt\n",
    "import tensorflow as tf\n",
    "import math\n",
    "import re\n",
    "import random\n",
    "import csv"
   ]
  },
  {
   "cell_type": "code",
   "execution_count": 335,
   "metadata": {
    "collapsed": true
   },
   "outputs": [],
   "source": [
    "# Network Parameters\n",
    "num_input = 6\n",
    "timesteps = 80 # timesteps\n",
    "num_hidden = 100 # hidden layer num of features\n",
    "num_output= 1"
   ]
  },
  {
   "cell_type": "code",
   "execution_count": 336,
   "metadata": {
    "collapsed": true
   },
   "outputs": [],
   "source": [
    "def read_sensor(filename):\n",
    "    with open(filename, \"r\") as csvfile:\n",
    "        reader = csv.reader(csvfile)\n",
    "        dataset = [row[17:23] for row in reader]\n",
    "        #data_x\n",
    "        return np.array(dataset)\n",
    "    \n",
    "def read_xml(filename, length):\n",
    "    f = open(filename)\n",
    "    cts = f.read()\n",
    "    f.close()\n",
    "\n",
    "    p_foot = re.compile(r'<WhichFoot>(.*?)</WhichFoot>')\n",
    "    all_foot = p_foot.findall(cts)\n",
    "\n",
    "    p_time = re.compile(r'<Time>(.*?)</Time>')\n",
    "    all_time = p_time.findall(cts)\n",
    "\n",
    "    strike_times = []\n",
    "    #L-1 R-0\n",
    "    strike_times.append([0.0, 0.5])\n",
    "    for i in range(len(all_foot)):\n",
    "        if(all_foot[i]=='L'):\n",
    "            strike_times.append([float(all_time[i]), 1])\n",
    "        else:\n",
    "            strike_times.append([float(all_time[i]), 0])\n",
    "    strike_times[-1][1] = 0.5\n",
    "    strike_times.append([length/25.0, 0.5])\n",
    "\n",
    "    window_y = []\n",
    "    strike_index=0\n",
    "    for i in range(length):\n",
    "        if(i/25.0 >= strike_times[strike_index+1][0]):\n",
    "            strike_index += 1\n",
    "        window_y.append([strike_times[strike_index][1]])\n",
    "\n",
    "    p_info = re.compile(r'<StartTime>(.*?)</StartTime>\\n\\t<EndTime>(.*?)</EndTime>\\n\\t<NSteps>(.*?)</NSteps>\\n\\t<Direction>(.*?)</Direction>')\n",
    "    all_info = p_info.findall(cts)#start_time, end_time, step_num, direction=turn\n",
    "\n",
    "    for i in range(len(all_info)):\n",
    "        if(all_info[i][3][:4]=='Turn'):\n",
    "#             print(all_info[i])\n",
    "            start_time = int(float(all_info[i][0])*25)\n",
    "            end_time = int(float(all_info[i][1])*25)\n",
    "#             print('start and end time : ', all_info[i][0], all_info[i][1])\n",
    "            for t in range(start_time-1, end_time):\n",
    "                window_y[t] = [0.5]\n",
    "\n",
    "    p_feature = re.compile(r'<Feature>\\n\\t\\t\\t<StartTime>(.*?)</StartTime>\\n\\t\\t\\t<EndTime>(.*?)</EndTime>')\n",
    "    all_feature = p_feature.findall(cts)#start_time, end_time, step_num, direction=turn\n",
    "\n",
    "    for i in range(len(all_feature)):\n",
    "        start_time = int(float(all_feature[i][0])*25)\n",
    "        end_time = int(float(all_feature[i][1])*25)\n",
    "        for t in range(start_time-1, end_time):\n",
    "            window_y[t] = [0.5]\n",
    "            \n",
    "#     print(len(window_y))  \n",
    "    return window_y\n",
    "\n",
    "def add_data(path, person, phone_location, assistant):\n",
    "    data_x = read_sensor('weallwalk/sensor/iPhoneSensors_T'+str(path)+'_ID'+str(person)+'_'+phone_location+'_'+assistant+'.csv')\n",
    "    data_y = read_xml('weallwalk/xml/T'+str(path)+'_ID'+str(person)+'_'+assistant+'.xml', len(data_x))\n",
    "    \n",
    "    split_x, split_x_part = [], []\n",
    "    split_y, split_y_part = [], []\n",
    "    for i in range(len(data_y)):\n",
    "        if(data_y[i][0]!=0.5):\n",
    "            split_y_part.append(data_y[i])\n",
    "            split_x_part.append(data_x[i])\n",
    "        else:\n",
    "            if(len(split_y_part)>0):\n",
    "                split_y.append(split_y_part)\n",
    "                split_x.append(split_x_part)\n",
    "                split_y_part = []\n",
    "                split_x_part = []\n",
    "    \n",
    "    data_x_seq, data_y_seq = [], []\n",
    "    for i in range(len(split_x)):\n",
    "        data_x_part, data_y_part = [], []\n",
    "        for j in range(len(split_x[i])-timesteps):\n",
    "            x = split_x[i][j:j+timesteps]\n",
    "            y = split_y[i][j:j+timesteps]\n",
    "            data_x_part.append(x)\n",
    "            data_y_part.append(y)\n",
    "        if(len(data_x_part)>0):\n",
    "            data_x_seq.append(data_x_part)\n",
    "            data_y_seq.append(data_y_part)\n",
    "    \n",
    "    return data_x_seq, data_y_seq"
   ]
  },
  {
   "cell_type": "code",
   "execution_count": 345,
   "metadata": {},
   "outputs": [
    {
     "name": "stdout",
     "output_type": "stream",
     "text": [
      "[[1, 11, '1L', 'NA'], [1, 12, '1L', 'NA'], [1, 13, '1L', 'NA'], [1, 14, '1L', 'NA'], [1, 15, '1L', 'NA'], [1, 11, '2R', 'NA'], [1, 12, '2R', 'NA'], [1, 13, '2R', 'NA'], [1, 14, '2R', 'NA'], [1, 15, '2R', 'NA'], [2, 11, '1L', 'NA'], [2, 12, '1L', 'NA'], [2, 13, '1L', 'NA'], [2, 14, '1L', 'NA'], [2, 15, '1L', 'NA'], [2, 11, '2R', 'NA'], [2, 12, '2R', 'NA'], [2, 13, '2R', 'NA'], [2, 14, '2R', 'NA'], [2, 15, '2R', 'NA'], [3, 11, '1L', 'NA'], [3, 12, '1L', 'NA'], [3, 13, '1L', 'NA'], [3, 14, '1L', 'NA'], [3, 15, '1L', 'NA'], [3, 11, '2R', 'NA'], [3, 12, '2R', 'NA'], [3, 13, '2R', 'NA'], [3, 14, '2R', 'NA'], [3, 15, '2R', 'NA'], [4, 11, '1L', 'NA'], [4, 12, '1L', 'NA'], [4, 13, '1L', 'NA'], [4, 14, '1L', 'NA'], [4, 15, '1L', 'NA'], [4, 11, '2R', 'NA'], [4, 12, '2R', 'NA'], [4, 13, '2R', 'NA'], [4, 14, '2R', 'NA'], [4, 15, '2R', 'NA'], [5, 11, '1L', 'NA'], [5, 12, '1L', 'NA'], [5, 13, '1L', 'NA'], [5, 14, '1L', 'NA'], [5, 15, '1L', 'NA'], [5, 11, '2R', 'NA'], [5, 12, '2R', 'NA'], [5, 13, '2R', 'NA'], [5, 14, '2R', 'NA'], [5, 15, '2R', 'NA'], [6, 11, '1L', 'NA'], [6, 12, '1L', 'NA'], [6, 13, '1L', 'NA'], [6, 14, '1L', 'NA'], [6, 15, '1L', 'NA'], [6, 11, '2R', 'NA'], [6, 12, '2R', 'NA'], [6, 13, '2R', 'NA'], [6, 14, '2R', 'NA'], [6, 15, '2R', 'NA']]\n"
     ]
    }
   ],
   "source": [
    "all_train_data_list = []\n",
    "#[4, 6, '2R', 'WC']\n",
    "for i in range(1,7): #1,2,3,5,6,  7,8,  9, 10\n",
    "    all_train_data_list.append([i, 11, '1L', 'NA'])\n",
    "    all_train_data_list.append([i, 12, '1L', 'NA'])\n",
    "    all_train_data_list.append([i, 13, '1L', 'NA'])\n",
    "    all_train_data_list.append([i, 14, '1L', 'NA'])\n",
    "    all_train_data_list.append([i, 15, '1L', 'NA'])\n",
    "    all_train_data_list.append([i, 11, '2R', 'NA'])\n",
    "    all_train_data_list.append([i, 12, '2R', 'NA'])\n",
    "    all_train_data_list.append([i, 13, '2R', 'NA'])\n",
    "    all_train_data_list.append([i, 14, '2R', 'NA'])\n",
    "    all_train_data_list.append([i, 15, '2R', 'NA'])    \n",
    "    \n",
    "print(all_train_data_list)"
   ]
  },
  {
   "cell_type": "code",
   "execution_count": 346,
   "metadata": {},
   "outputs": [
    {
     "name": "stdout",
     "output_type": "stream",
     "text": [
      "48\n",
      "[[1, 12, '1L', 'NA'], [1, 13, '1L', 'NA'], [1, 14, '1L', 'NA'], [1, 15, '1L', 'NA'], [1, 12, '2R', 'NA'], [1, 13, '2R', 'NA'], [1, 14, '2R', 'NA'], [1, 15, '2R', 'NA'], [2, 12, '1L', 'NA'], [2, 13, '1L', 'NA'], [2, 14, '1L', 'NA'], [2, 15, '1L', 'NA'], [2, 12, '2R', 'NA'], [2, 13, '2R', 'NA'], [2, 14, '2R', 'NA'], [2, 15, '2R', 'NA'], [3, 12, '1L', 'NA'], [3, 13, '1L', 'NA'], [3, 14, '1L', 'NA'], [3, 15, '1L', 'NA'], [3, 12, '2R', 'NA'], [3, 13, '2R', 'NA'], [3, 14, '2R', 'NA'], [3, 15, '2R', 'NA'], [4, 12, '1L', 'NA'], [4, 13, '1L', 'NA'], [4, 14, '1L', 'NA'], [4, 15, '1L', 'NA'], [4, 12, '2R', 'NA'], [4, 13, '2R', 'NA'], [4, 14, '2R', 'NA'], [4, 15, '2R', 'NA'], [5, 12, '1L', 'NA'], [5, 13, '1L', 'NA'], [5, 14, '1L', 'NA'], [5, 15, '1L', 'NA'], [5, 12, '2R', 'NA'], [5, 13, '2R', 'NA'], [5, 14, '2R', 'NA'], [5, 15, '2R', 'NA'], [6, 12, '1L', 'NA'], [6, 13, '1L', 'NA'], [6, 14, '1L', 'NA'], [6, 15, '1L', 'NA'], [6, 12, '2R', 'NA'], [6, 13, '2R', 'NA'], [6, 14, '2R', 'NA'], [6, 15, '2R', 'NA']]\n",
      "-----\n",
      "12\n",
      "[[1, 11, '1L', 'NA'], [1, 11, '2R', 'NA'], [2, 11, '1L', 'NA'], [2, 11, '2R', 'NA'], [3, 11, '1L', 'NA'], [3, 11, '2R', 'NA'], [4, 11, '1L', 'NA'], [4, 11, '2R', 'NA'], [5, 11, '1L', 'NA'], [5, 11, '2R', 'NA'], [6, 11, '1L', 'NA'], [6, 11, '2R', 'NA']]\n",
      "=====\n",
      "48\n",
      "[[1, 11, '1L', 'NA'], [1, 13, '1L', 'NA'], [1, 14, '1L', 'NA'], [1, 15, '1L', 'NA'], [1, 11, '2R', 'NA'], [1, 13, '2R', 'NA'], [1, 14, '2R', 'NA'], [1, 15, '2R', 'NA'], [2, 11, '1L', 'NA'], [2, 13, '1L', 'NA'], [2, 14, '1L', 'NA'], [2, 15, '1L', 'NA'], [2, 11, '2R', 'NA'], [2, 13, '2R', 'NA'], [2, 14, '2R', 'NA'], [2, 15, '2R', 'NA'], [3, 11, '1L', 'NA'], [3, 13, '1L', 'NA'], [3, 14, '1L', 'NA'], [3, 15, '1L', 'NA'], [3, 11, '2R', 'NA'], [3, 13, '2R', 'NA'], [3, 14, '2R', 'NA'], [3, 15, '2R', 'NA'], [4, 11, '1L', 'NA'], [4, 13, '1L', 'NA'], [4, 14, '1L', 'NA'], [4, 15, '1L', 'NA'], [4, 11, '2R', 'NA'], [4, 13, '2R', 'NA'], [4, 14, '2R', 'NA'], [4, 15, '2R', 'NA'], [5, 11, '1L', 'NA'], [5, 13, '1L', 'NA'], [5, 14, '1L', 'NA'], [5, 15, '1L', 'NA'], [5, 11, '2R', 'NA'], [5, 13, '2R', 'NA'], [5, 14, '2R', 'NA'], [5, 15, '2R', 'NA'], [6, 11, '1L', 'NA'], [6, 13, '1L', 'NA'], [6, 14, '1L', 'NA'], [6, 15, '1L', 'NA'], [6, 11, '2R', 'NA'], [6, 13, '2R', 'NA'], [6, 14, '2R', 'NA'], [6, 15, '2R', 'NA']]\n",
      "-----\n",
      "12\n",
      "[[1, 12, '1L', 'NA'], [1, 12, '2R', 'NA'], [2, 12, '1L', 'NA'], [2, 12, '2R', 'NA'], [3, 12, '1L', 'NA'], [3, 12, '2R', 'NA'], [4, 12, '1L', 'NA'], [4, 12, '2R', 'NA'], [5, 12, '1L', 'NA'], [5, 12, '2R', 'NA'], [6, 12, '1L', 'NA'], [6, 12, '2R', 'NA']]\n",
      "=====\n",
      "48\n",
      "[[1, 11, '1L', 'NA'], [1, 12, '1L', 'NA'], [1, 14, '1L', 'NA'], [1, 15, '1L', 'NA'], [1, 11, '2R', 'NA'], [1, 12, '2R', 'NA'], [1, 14, '2R', 'NA'], [1, 15, '2R', 'NA'], [2, 11, '1L', 'NA'], [2, 12, '1L', 'NA'], [2, 14, '1L', 'NA'], [2, 15, '1L', 'NA'], [2, 11, '2R', 'NA'], [2, 12, '2R', 'NA'], [2, 14, '2R', 'NA'], [2, 15, '2R', 'NA'], [3, 11, '1L', 'NA'], [3, 12, '1L', 'NA'], [3, 14, '1L', 'NA'], [3, 15, '1L', 'NA'], [3, 11, '2R', 'NA'], [3, 12, '2R', 'NA'], [3, 14, '2R', 'NA'], [3, 15, '2R', 'NA'], [4, 11, '1L', 'NA'], [4, 12, '1L', 'NA'], [4, 14, '1L', 'NA'], [4, 15, '1L', 'NA'], [4, 11, '2R', 'NA'], [4, 12, '2R', 'NA'], [4, 14, '2R', 'NA'], [4, 15, '2R', 'NA'], [5, 11, '1L', 'NA'], [5, 12, '1L', 'NA'], [5, 14, '1L', 'NA'], [5, 15, '1L', 'NA'], [5, 11, '2R', 'NA'], [5, 12, '2R', 'NA'], [5, 14, '2R', 'NA'], [5, 15, '2R', 'NA'], [6, 11, '1L', 'NA'], [6, 12, '1L', 'NA'], [6, 14, '1L', 'NA'], [6, 15, '1L', 'NA'], [6, 11, '2R', 'NA'], [6, 12, '2R', 'NA'], [6, 14, '2R', 'NA'], [6, 15, '2R', 'NA']]\n",
      "-----\n",
      "12\n",
      "[[1, 13, '1L', 'NA'], [1, 13, '2R', 'NA'], [2, 13, '1L', 'NA'], [2, 13, '2R', 'NA'], [3, 13, '1L', 'NA'], [3, 13, '2R', 'NA'], [4, 13, '1L', 'NA'], [4, 13, '2R', 'NA'], [5, 13, '1L', 'NA'], [5, 13, '2R', 'NA'], [6, 13, '1L', 'NA'], [6, 13, '2R', 'NA']]\n",
      "=====\n",
      "48\n",
      "[[1, 11, '1L', 'NA'], [1, 12, '1L', 'NA'], [1, 13, '1L', 'NA'], [1, 15, '1L', 'NA'], [1, 11, '2R', 'NA'], [1, 12, '2R', 'NA'], [1, 13, '2R', 'NA'], [1, 15, '2R', 'NA'], [2, 11, '1L', 'NA'], [2, 12, '1L', 'NA'], [2, 13, '1L', 'NA'], [2, 15, '1L', 'NA'], [2, 11, '2R', 'NA'], [2, 12, '2R', 'NA'], [2, 13, '2R', 'NA'], [2, 15, '2R', 'NA'], [3, 11, '1L', 'NA'], [3, 12, '1L', 'NA'], [3, 13, '1L', 'NA'], [3, 15, '1L', 'NA'], [3, 11, '2R', 'NA'], [3, 12, '2R', 'NA'], [3, 13, '2R', 'NA'], [3, 15, '2R', 'NA'], [4, 11, '1L', 'NA'], [4, 12, '1L', 'NA'], [4, 13, '1L', 'NA'], [4, 15, '1L', 'NA'], [4, 11, '2R', 'NA'], [4, 12, '2R', 'NA'], [4, 13, '2R', 'NA'], [4, 15, '2R', 'NA'], [5, 11, '1L', 'NA'], [5, 12, '1L', 'NA'], [5, 13, '1L', 'NA'], [5, 15, '1L', 'NA'], [5, 11, '2R', 'NA'], [5, 12, '2R', 'NA'], [5, 13, '2R', 'NA'], [5, 15, '2R', 'NA'], [6, 11, '1L', 'NA'], [6, 12, '1L', 'NA'], [6, 13, '1L', 'NA'], [6, 15, '1L', 'NA'], [6, 11, '2R', 'NA'], [6, 12, '2R', 'NA'], [6, 13, '2R', 'NA'], [6, 15, '2R', 'NA']]\n",
      "-----\n",
      "12\n",
      "[[1, 14, '1L', 'NA'], [1, 14, '2R', 'NA'], [2, 14, '1L', 'NA'], [2, 14, '2R', 'NA'], [3, 14, '1L', 'NA'], [3, 14, '2R', 'NA'], [4, 14, '1L', 'NA'], [4, 14, '2R', 'NA'], [5, 14, '1L', 'NA'], [5, 14, '2R', 'NA'], [6, 14, '1L', 'NA'], [6, 14, '2R', 'NA']]\n",
      "=====\n",
      "48\n",
      "[[1, 11, '1L', 'NA'], [1, 12, '1L', 'NA'], [1, 13, '1L', 'NA'], [1, 14, '1L', 'NA'], [1, 11, '2R', 'NA'], [1, 12, '2R', 'NA'], [1, 13, '2R', 'NA'], [1, 14, '2R', 'NA'], [2, 11, '1L', 'NA'], [2, 12, '1L', 'NA'], [2, 13, '1L', 'NA'], [2, 14, '1L', 'NA'], [2, 11, '2R', 'NA'], [2, 12, '2R', 'NA'], [2, 13, '2R', 'NA'], [2, 14, '2R', 'NA'], [3, 11, '1L', 'NA'], [3, 12, '1L', 'NA'], [3, 13, '1L', 'NA'], [3, 14, '1L', 'NA'], [3, 11, '2R', 'NA'], [3, 12, '2R', 'NA'], [3, 13, '2R', 'NA'], [3, 14, '2R', 'NA'], [4, 11, '1L', 'NA'], [4, 12, '1L', 'NA'], [4, 13, '1L', 'NA'], [4, 14, '1L', 'NA'], [4, 11, '2R', 'NA'], [4, 12, '2R', 'NA'], [4, 13, '2R', 'NA'], [4, 14, '2R', 'NA'], [5, 11, '1L', 'NA'], [5, 12, '1L', 'NA'], [5, 13, '1L', 'NA'], [5, 14, '1L', 'NA'], [5, 11, '2R', 'NA'], [5, 12, '2R', 'NA'], [5, 13, '2R', 'NA'], [5, 14, '2R', 'NA'], [6, 11, '1L', 'NA'], [6, 12, '1L', 'NA'], [6, 13, '1L', 'NA'], [6, 14, '1L', 'NA'], [6, 11, '2R', 'NA'], [6, 12, '2R', 'NA'], [6, 13, '2R', 'NA'], [6, 14, '2R', 'NA']]\n",
      "-----\n",
      "12\n",
      "[[1, 15, '1L', 'NA'], [1, 15, '2R', 'NA'], [2, 15, '1L', 'NA'], [2, 15, '2R', 'NA'], [3, 15, '1L', 'NA'], [3, 15, '2R', 'NA'], [4, 15, '1L', 'NA'], [4, 15, '2R', 'NA'], [5, 15, '1L', 'NA'], [5, 15, '2R', 'NA'], [6, 15, '1L', 'NA'], [6, 15, '2R', 'NA']]\n",
      "=====\n"
     ]
    }
   ],
   "source": [
    "step_train_data_list = []\n",
    "step_valid_data_list = []\n",
    "for i in range(11, 16):\n",
    "    step_train_data_list_part = [j for j in all_train_data_list if j[1]!=i]\n",
    "    step_valid_data_list_part = [j for j in all_train_data_list if j[1]==i]\n",
    "    print(len(step_train_data_list_part))\n",
    "    print(step_train_data_list_part)\n",
    "    print('-----')\n",
    "    print(len(step_valid_data_list_part))\n",
    "    print(step_valid_data_list_part)\n",
    "    print('=====')\n",
    "    step_train_data_list.append(step_train_data_list_part)\n",
    "    step_valid_data_list.append(step_valid_data_list_part)\n",
    "    \n",
    "    "
   ]
  },
  {
   "cell_type": "code",
   "execution_count": 419,
   "metadata": {},
   "outputs": [
    {
     "name": "stdout",
     "output_type": "stream",
     "text": [
      "256\n",
      "95497\n",
      "95497\n",
      "99274\n",
      "99274\n",
      "94683\n",
      "94683\n",
      "90343\n",
      "90343\n",
      "92943\n",
      "92943\n"
     ]
    }
   ],
   "source": [
    "batch_size = 256\n",
    "train_x_list, train_y_list = [], []\n",
    "print(batch_size)\n",
    "\n",
    "for step_train_data in step_train_data_list:\n",
    "    data_x, data_y = [], []\n",
    "    \n",
    "    for i in step_train_data:\n",
    "        data_x_segement, data_y_segement = add_data(i[0], i[1], i[2], i[3])\n",
    "        for dx in data_x_segement:\n",
    "            data_x.extend(dx)\n",
    "        for dy in data_y_segement:\n",
    "            data_y.extend(dy)\n",
    "    \n",
    "    print(len(data_x))\n",
    "#     print(len(data_y))\n",
    "    \n",
    "    order = list(range(0,len(data_x),1))\n",
    "    random.shuffle(order)\n",
    "\n",
    "    train_x = [data_x[i] for i in order]\n",
    "#     train_x.extend([i for i in train_x[:batch_size]])\n",
    "#     train_x.extend([train_x[i] for i in range(0, batch_size)])\n",
    "    train_y = [data_y[i] for i in order]\n",
    "#     train_y.extend([i for i in train_y[:batch_size]])\n",
    "#     train_y.extend([train_y[i] for i in range(0, batch_size)])\n",
    "\n",
    "    print(len(train_x))\n",
    "    \n",
    "    train_x_list.append(train_x)\n",
    "    train_y_list.append(train_y)"
   ]
  },
  {
   "cell_type": "code",
   "execution_count": 420,
   "metadata": {},
   "outputs": [
    {
     "name": "stdout",
     "output_type": "stream",
     "text": [
      "56\n",
      "51\n",
      "60\n",
      "56\n",
      "56\n"
     ]
    }
   ],
   "source": [
    "valid_x_list, valid_y_list = [], []\n",
    "\n",
    "for step_valid_data in step_valid_data_list:\n",
    "    valid_x, valid_y=[], []\n",
    "    for i in step_valid_data:\n",
    "        data_x_segement, data_y_segement = add_data(i[0], i[1], i[2], i[3])\n",
    "        valid_x.extend(data_x_segement)\n",
    "        valid_y.extend(data_y_segement)\n",
    "    \n",
    "    print(len(valid_x))\n",
    "#     print(len(valid_y))\n",
    "    \n",
    "    valid_x_list.append(valid_x)\n",
    "    valid_y_list.append(valid_y)"
   ]
  },
  {
   "cell_type": "code",
   "execution_count": 421,
   "metadata": {},
   "outputs": [
    {
     "name": "stdout",
     "output_type": "stream",
     "text": [
      "[[1, 15, '1L', 'NA'], [1, 15, '2R', 'NA'], [2, 15, '1L', 'NA'], [2, 15, '2R', 'NA'], [3, 15, '1L', 'NA'], [3, 15, '2R', 'NA'], [4, 15, '1L', 'NA'], [4, 15, '2R', 'NA'], [5, 15, '1L', 'NA'], [5, 15, '2R', 'NA'], [6, 15, '1L', 'NA'], [6, 15, '2R', 'NA']]\n"
     ]
    }
   ],
   "source": [
    "step_test_list = []\n",
    "for i in range(1,7):\n",
    "#     step_test_list.append([i, 11, '1L', 'NA'])\n",
    "#     step_test_list.append([i, 12, '1L', 'NA'])\n",
    "#     step_test_list.append([i, 13, '1L', 'NA'])\n",
    "#     step_test_list.append([i, 14, '1L', 'NA'])\n",
    "    step_test_list.append([i, 15, '1L', 'NA'])\n",
    "#     step_test_list.append([i, 11, '2R', 'NA'])\n",
    "#     step_test_list.append([i, 12, '2R', 'NA'])\n",
    "#     step_test_list.append([i, 13, '2R', 'NA'])\n",
    "#     step_test_list.append([i, 14, '2R', 'NA'])\n",
    "    step_test_list.append([i, 15, '2R', 'NA'])    \n",
    "        \n",
    "print(step_test_list)"
   ]
  },
  {
   "cell_type": "code",
   "execution_count": 422,
   "metadata": {},
   "outputs": [
    {
     "name": "stdout",
     "output_type": "stream",
     "text": [
      "56\n",
      "56\n",
      "[50, 86, 745, 45, 50, 86, 745, 45, 83, 1057, 77, 28, 83, 1057, 77, 28, 1105, 240, 1105, 240, 168, 1044, 57, 991, 92, 807, 74, 727, 168, 1044, 57, 991, 92, 807, 74, 727, 20, 309, 597, 107, 363, 251, 1069, 20, 309, 597, 107, 363, 251, 1069, 574, 1111, 744, 574, 1111, 744]\n"
     ]
    }
   ],
   "source": [
    "test_x, test_y=[], []\n",
    "for i in step_test_list:\n",
    "    data_x_segement, data_y_segement = add_data(i[0], i[1], i[2], i[3])\n",
    "    test_x.extend(data_x_segement)\n",
    "    test_y.extend(data_y_segement)\n",
    "#     test_x.append(data_x_segement)\n",
    "#     test_y.append(data_y_segement)\n",
    "    \n",
    "print(len(test_x))\n",
    "print(len(test_y))\n",
    "\n",
    "print([len(i) for i in test_y])"
   ]
  },
  {
   "cell_type": "code",
   "execution_count": 423,
   "metadata": {},
   "outputs": [
    {
     "data": {
      "image/png": "[encoded data removed]",
      "text/plain": [
       "<matplotlib.figure.Figure at 0x7fbdc388d4e0>"
      ]
     },
     "metadata": {},
     "output_type": "display_data"
    }
   ],
   "source": [
    "plt.figure(figsize=(18, 5))\n",
    "plt.plot([i[0] for i in test_y[1]], 'r')\n",
    "plt.show()"
   ]
  },
  {
   "cell_type": "code",
   "execution_count": 424,
   "metadata": {},
   "outputs": [
    {
     "name": "stdout",
     "output_type": "stream",
     "text": [
      "(?, 80, 1)\n",
      "(80, 1)\n"
     ]
    }
   ],
   "source": [
    "NUM_LAYERS=2\n",
    "\n",
    "def LstmCell():\n",
    "    lstm_cell = tf.contrib.rnn.BasicLSTMCell(num_hidden)#, forget_bias=1.0)\n",
    "#     cell = tf.contrib.rnn.DropoutWrapper(lstm_cell, output_keep_prob=0.5)\n",
    "    return lstm_cell\n",
    "\n",
    "graph = tf.Graph()\n",
    "with graph.as_default(), tf.device('/gpu:0'):\n",
    "    # tf Graph input\n",
    "    X = tf.placeholder(\"float\", [None, timesteps, num_input])\n",
    "    Y = tf.placeholder(\"float\", [None, timesteps, num_output])\n",
    "    \n",
    "    # Define weights\n",
    "    weights = {\n",
    "        'out': tf.Variable(tf.random_normal([num_hidden, num_output]))\n",
    "    }\n",
    "    biases = {\n",
    "        'out': tf.Variable(tf.random_normal([num_output]))\n",
    "    }\n",
    "    \n",
    "    def RNN(x, weights, biases):\n",
    "        x = tf.unstack(x, timesteps, 1)\n",
    "        cell = tf.contrib.rnn.MultiRNNCell([LstmCell() for _ in range(NUM_LAYERS)])\n",
    "        outputs, state = tf.nn.dynamic_rnn(cell, X, dtype=tf.float32)\n",
    "        outputs = tf.transpose(outputs, [1,0,2])\n",
    "\n",
    "#         return tf.matmul(outputs[-2], weights['out']) + biases['out']\n",
    "        ret = []\n",
    "#         print(outputs.shape)\n",
    "        for i in range(0, timesteps):\n",
    "            ret.append(tf.matmul(outputs[i], weights['out']) + biases['out'])\n",
    "            \n",
    "        return ret\n",
    "\n",
    "#         return np.array(ret)\n",
    "    \n",
    "    logits = RNN(X, weights, biases)\n",
    "    logits = tf.transpose(logits, [1,0,2])\n",
    "#     print(len(logits))\n",
    "    print(logits.shape)\n",
    "    print(logits[0].shape)\n",
    "    mean_train = tf.reduce_mean(X)\n",
    "    \n",
    "    \n",
    "    loss = tf.reduce_mean(tf.squared_difference(logits, Y))\n",
    "\n",
    "    optimizer = tf.train.AdamOptimizer(learning_rate = 0.03).minimize(loss)\n",
    "    \n",
    "    saver = tf.train.Saver()"
   ]
  },
  {
   "cell_type": "code",
   "execution_count": 425,
   "metadata": {
    "collapsed": true
   },
   "outputs": [],
   "source": [
    "def cal_accuarcy(y, _y):\n",
    "#     print(len(y))\n",
    "#     print(len(y[0]))\n",
    "#     print(len(y[0][0]))\n",
    "#     print(y[0][0])\n",
    "    count = 0\n",
    "    total = 0\n",
    "    for i in range(len(y[0])):\n",
    "        total += 1\n",
    "        if(y[0][i][0] == round(_y[0][i][0])):\n",
    "            count += 1\n",
    "    for i in range(1, len(y)):\n",
    "        total += 1\n",
    "        if(y[i][-1][0] == round(_y[i][-1][0])):\n",
    "            count += 1;\n",
    "    return(count*1.0/total)\n",
    "#     print(\"train accuarcy : \", count/len(y))"
   ]
  },
  {
   "cell_type": "code",
   "execution_count": 556,
   "metadata": {
    "scrolled": false
   },
   "outputs": [
    {
     "name": "stdout",
     "output_type": "stream",
     "text": [
      "cross validation  1\n",
      "INFO:tensorflow:Restoring parameters from lstm_check/my-model-gpu-error-metric-dropout2-wc-10fold-2.ckpt-4000\n",
      "Initialized\n",
      "Loss at step 0: 0.031500, train accuarcy : 0.958209\n"
     ]
    }
   ],
   "source": [
    "training_steps = 1\n",
    "valid_loss_list, valid_logits_list = [], []\n",
    "# test_loss_list, test_logits_list = [], []\n",
    "\n",
    "# for i in range(0,len(valid_x_list)):\n",
    "for i in range(1,2):\n",
    "    batch_start=0\n",
    "    print(\"cross validation \", i)\n",
    "#     batch_start = 0\n",
    "    train_x = train_x_list[i]\n",
    "    train_y = train_y_list[i]\n",
    "    train_length = len(train_x_list[i])\n",
    "    order = list(range(0,train_length,1))\n",
    "    random.shuffle(order)\n",
    "    train_x = [train_x[i] for i in order]\n",
    "    train_y = [train_y[i] for i in order]    \n",
    "    valid_x = valid_x_list[i]\n",
    "    valid_y = valid_y_list[i]\n",
    "    config = tf.ConfigProto(allow_soft_placement=True)\n",
    "    with tf.Session(graph=graph, config=config) as session:\n",
    "#         saver.restore(session, tf.train.latest_checkpoint('lstm_check'))\n",
    "        saver.restore(session, \"lstm_check/my-model-gpu-error-metric-dropout2-wc-10fold-2.ckpt-4000\")\n",
    "#         tf.global_variables_initializer().run()\n",
    "        print('Initialized')\n",
    "        for step in range(training_steps):      \n",
    "            feed_dict = {X: train_x[batch_start:batch_start+batch_size], Y: train_y[batch_start:batch_start+batch_size]}\n",
    "            _, l, predictions, m = session.run([optimizer, loss, logits, mean_train], feed_dict = feed_dict)\n",
    "            if (step % 200 == 0):\n",
    "                train_accuarcy = cal_accuarcy(train_y[batch_start:batch_start+batch_size], predictions)\n",
    "                print('Loss at step %d: %f, train accuarcy : %f' % (step, l, train_accuarcy))\n",
    "                #train accuarcy\n",
    "            if (step % 500 == 0 and step > 499):\n",
    "                saver.save(session, 'lstm_check/my-model-gpu-error-metric-dropout2-wc-10fold-'+str(i+1)+'.ckpt', global_step=step+5000)\n",
    "            batch_start += batch_size\n",
    "            if(batch_start+batch_size>=train_length):\n",
    "                order = list(range(0,train_length,1))\n",
    "                random.shuffle(order)\n",
    "                train_x = [train_x[i] for i in order]\n",
    "                train_y = [train_y[i] for i in order]\n",
    "                batch_start =0\n",
    "        valid_loss, valid_logits = [], []\n",
    "        for j in range(len(valid_x)):\n",
    "            valid_loss_part, valid_logits_part = session.run([loss,logits], feed_dict={X: valid_x[j], Y: valid_y[j]})\n",
    "            valid_loss.append(valid_loss_part)\n",
    "            valid_logits.append(valid_logits_part)\n",
    "\n",
    "        valid_loss_list.append(valid_loss)\n",
    "        valid_logits_list.append(valid_logits)\n",
    "\n",
    "#         test_loss, test_logits = [], []\n",
    "#         for j in range(len(test_x)):\n",
    "#             test_loss_part, test_logits_part = session.run([loss,logits], feed_dict={X: test_x[j], Y: test_y[j]})\n",
    "#             test_loss.append(test_loss_part)\n",
    "#             test_logits.append(test_logits_part)\n",
    "\n",
    "#         test_loss_list.append(test_loss)\n",
    "#         test_logits_list.append(test_logits)"
   ]
  },
  {
   "cell_type": "markdown",
   "metadata": {
    "collapsed": true
   },
   "source": [
    "# xxx"
   ]
  },
  {
   "cell_type": "code",
   "execution_count": 557,
   "metadata": {},
   "outputs": [
    {
     "name": "stdout",
     "output_type": "stream",
     "text": [
      "51\n",
      "51\n"
     ]
    },
    {
     "data": {
      "image/png": "[encoded data removed]",
      "text/plain": [
       "<matplotlib.figure.Figure at 0x7fbdb10b6c18>"
      ]
     },
     "metadata": {},
     "output_type": "display_data"
    }
   ],
   "source": [
    "print(len(valid_y))\n",
    "print(len(valid_logits_list[0]))\n",
    "\n",
    "index=0\n",
    "\n",
    "# valid_logits = valid_logits_list[index]\n",
    "# valid_y = valid_y_list[index]\n",
    "\n",
    "index1=14\n",
    "\n",
    "plt.figure(figsize=(18, 5))\n",
    "start=0\n",
    "end=1000\n",
    "plt.plot([i[-1][0] for i in valid_y[index1][start:end]], 'r')\n",
    "plt.plot([i[-1][0] for i in valid_logits[index1][start:end]], 'b')\n",
    "plt.plot([round(i[-1][0]) for i in valid_logits[index1][start:end]], 'y')\n",
    "plt.show()"
   ]
  },
  {
   "cell_type": "code",
   "execution_count": 558,
   "metadata": {
    "scrolled": false
   },
   "outputs": [
    {
     "name": "stdout",
     "output_type": "stream",
     "text": [
      "13101\n",
      "22940\n",
      "valid accuarcy :  0.5710985178727114\n",
      "Step number for each segement\n",
      "[6, 9, 49, 6, 6, 9, 49, 6, 7, 69, 8, 6, 7, 69, 8, 6, 73, 19, 73, 19, 18, 72, 9, 70, 9, 52, 9, 18, 72, 9, 70, 9, 52, 9, 48, 23, 39, 18, 24, 19, 73, 23, 39, 18, 24, 19, 73, 34, 67, 34, 67]\n",
      "[11, 13, 64, 9, 17, 22, 133, 11, 15, 129, 11, 12, 14, 137, 8, 17, 114, 22, 170, 26, 28, 116, 16, 124, 15, 88, 13, 32, 181, 13, 167, 19, 116, 10, 91, 40, 44, 27, 39, 29, 118, 45, 89, 44, 56, 39, 151, 55, 104, 78, 163]\n",
      "51\n",
      "51\n",
      "1559\n",
      "[4, 4, 22, 2, 10, 12, 84, 5, 6, 62, 2, 4, 6, 69, 0, 8, 52, 6, 97, 9, 9, 50, 7, 60, 3, 37, 4, 14, 109, 8, 97, 11, 67, 3, 43, 19, 11, 12, 17, 11, 50, 21, 51, 29, 34, 21, 84, 25, 46, 45, 97]\n",
      "51\n",
      "1481\n",
      "[5, 4, 15, 3, 11, 13, 84, 5, 8, 60, 3, 6, 7, 68, 0, 11, 41, 3, 97, 7, 10, 44, 7, 54, 6, 36, 4, 14, 109, 4, 97, 10, 64, 1, 43, 17, 5, 9, 15, 10, 45, 22, 50, 26, 32, 20, 78, 21, 37, 44, 96]\n",
      "error : \n",
      "total undercount metric 1:\t 0.08374384236453201\n",
      "total overcount metric 1:\t 0.9956896551724138\n",
      "total undercount metric 2:\t 0.04125615763546798\n",
      "total overcount metric 2:\t 0.9532019704433498\n",
      "total undercount metric 3:\t 0.0\n",
      "total overcount metric 3:\t 0.9119458128078818\n",
      "==============================================================\n"
     ]
    }
   ],
   "source": [
    "# print(len(valid_logits), len(valid_logits[0]), len(valid_logits[0][0]))\n",
    "\n",
    "# print(len(valid_y))\n",
    "# print(len(valid_y[0]))\n",
    "# print(len(valid_y[0][0]))  \n",
    "\n",
    "m1u, m1o, m2u, m2o, m3u, m3o = [], [], [], [], [], []\n",
    "    \n",
    "for k in range(len(valid_logits_list)):\n",
    "    \n",
    "#     valid_logits = valid_logits_list[k]\n",
    "#     valid_y = valid_y_list[k]    \n",
    "    \n",
    "    valid_y_seq_list, valid_logits_bin_list = [], []\n",
    "\n",
    "    for t in valid_logits:  \n",
    "        t_all = [i for i in t[0]]\n",
    "        t_all.extend([i[-1] for i in t[1:]])\n",
    "    #     print(len(t_all)-len(t))\n",
    "\n",
    "        valid_logits_part = [[round(i[0])] for i in t_all]\n",
    "        for i in range(1, len(valid_logits_part)-1):\n",
    "            if(valid_logits_part[i-1][0]!=valid_logits_part[i][0] and valid_logits_part[i-1][0]==valid_logits_part[i+1][0]):\n",
    "                valid_logits_part[i][0]=valid_logits_part[i-1][0]  \n",
    "\n",
    "        valid_logits_bin_list.append(valid_logits_part)\n",
    "\n",
    "    for t in valid_y:  \n",
    "        t_all = [i for i in t[0]]\n",
    "        t_all.extend([i[-1] for i in t[1:]])\n",
    "        valid_y_seq_list.append(t_all)\n",
    "\n",
    "    # print(valid_y_seq_list)\n",
    "\n",
    "    count = 0\n",
    "    total = 0\n",
    "    for i in range(0, len(valid_y_seq_list)):\n",
    "        total += len(valid_y_seq_list[i])\n",
    "    #     print(len(valid_y_seq_list[i]), len(valid_logits_bin_list[i]))\n",
    "\n",
    "        for j in range(0, len(valid_y_seq_list[i])):\n",
    "            if(valid_y_seq_list[i][j][0] == valid_logits_bin_list[i][j][0]):\n",
    "                count += 1\n",
    "\n",
    "    print(count)\n",
    "    print(total)\n",
    "    print(\"valid accuarcy : \", count*1.0/total)\n",
    "    \n",
    "    #===========================================\n",
    "    step_time_actual, step_time_predict= [], []\n",
    "    step_time_actual_gap = []\n",
    "\n",
    "    #valid_y_seq_list, valid_logits_bin_list\n",
    "    for i in range(0, len(valid_y_seq_list)):\n",
    "        step_time_actual_part, step_time_predict_part= [], []\n",
    "        for j in range(1, len(valid_y_seq_list[i])):\n",
    "            if(abs(valid_y_seq_list[i][j][0]-valid_y_seq_list[i][j-1][0])>0.5):\n",
    "                step_time_actual_part.append(j)\n",
    "        #     if(abs(valid_logits[i][0]-valid_logits[i-1][0])>0.5):\n",
    "            if(abs(valid_logits_bin_list[i][j][0]-valid_logits_bin_list[i][j-1][0])>0.5):\n",
    "                step_time_predict_part.append(j)\n",
    "        step_time_actual.append(step_time_actual_part)\n",
    "\n",
    "        #----------------------------\n",
    "        step_time_predict.append(step_time_predict_part)\n",
    "        #----------------------------\n",
    "#         average_time = (step_time_predict_part[-1]-step_time_predict_part[0])/(len(step_time_predict_part)-1)\n",
    "#         step_time_predict_part_1 = [step_time_predict_part[0]]\n",
    "#         j = 1\n",
    "#         while j<len(step_time_predict_part):\n",
    "#             if(step_time_predict_part[j]-step_time_predict_part_1[-1]>average_time/4):\n",
    "#                 step_time_predict_part_1.append(step_time_predict_part[j])\n",
    "#                 j += 1\n",
    "#             else:\n",
    "#                 j += 2\n",
    "\n",
    "#         step_time_predict.append(step_time_predict_part_1)\n",
    "        #----------------------------------\n",
    "\n",
    "\n",
    "        step_time_actual_gap_part = []\n",
    "        step_time_actual_gap_part.append(0)\n",
    "    #     step_time_actual_gap_part.append(step_time_actual_part[0]/2.0)\n",
    "        for i in range(1, len(step_time_actual_part)):\n",
    "            step_time_actual_gap_part.append((step_time_actual_part[i-1]+step_time_actual_part[i])/2.0)\n",
    "        step_time_actual_gap_part.append(step_time_actual_part[-1]*2)\n",
    "        step_time_actual_gap.append(step_time_actual_gap_part)\n",
    "\n",
    "    print('Step number for each segement')\n",
    "    print([len(i) for i in step_time_actual])   \n",
    "    print([len(i) for i in step_time_predict])\n",
    "    \n",
    "    #===================================================\n",
    "    total_step_count = sum([len(i) for i in step_time_actual])\n",
    "    metric1_undercount = 0\n",
    "    metric2_undercount = 0\n",
    "    metric3_undercount = 0\n",
    "    metric1_overcount = 0\n",
    "    metric2_overcount = 0\n",
    "    metric3_overcount = 0\n",
    "    \n",
    "    metric1_overcount_list = []\n",
    "    metric2_overcount_list = []\n",
    "    metric3_overcount_list = []\n",
    "\n",
    "    print(len(valid_y))\n",
    "\n",
    "    for i in range(len(valid_y)):\n",
    "        step_count = len(step_time_actual[i])\n",
    "        undercount = 0\n",
    "        overcount = 0\n",
    "        \n",
    "        metric1_overcount += len([t for t in step_time_predict[i] if t<step_time_actual[i][0]])\n",
    "        for j in range(1, step_count):\n",
    "            gap_count = [t for t in step_time_predict[i] if t>=step_time_actual[i][j-1] and t<step_time_actual[i][j]]\n",
    "        #     print(gap_count)\n",
    "            if(len(gap_count)>1):\n",
    "                overcount += len(gap_count)-1\n",
    "            if(len(gap_count)<1):\n",
    "                undercount += 1\n",
    "        gap_count = [t for t in step_time_predict[i] if t>=step_time_actual[i][-1]]\n",
    "        if(len(gap_count)>1):\n",
    "            overcount += len(gap_count)-1\n",
    "        if(len(gap_count)<1):\n",
    "            undercount += 1\n",
    "\n",
    "        metric1_undercount += undercount\n",
    "        metric1_overcount += overcount\n",
    "        metric1_overcount_list.append(overcount)\n",
    "\n",
    "        undercount = 0\n",
    "        overcount = 0\n",
    "        for j in range(1, len(step_time_actual_gap[i])):\n",
    "            gap_count = [t for t in step_time_predict[i] if t>=step_time_actual_gap[i][j-1] and t<step_time_actual_gap[i][j]]\n",
    "        #     print(gap_count)\n",
    "            if(len(gap_count)>1):\n",
    "                overcount += (len(gap_count)-1)\n",
    "            if(len(gap_count)<1):\n",
    "                undercount += 1    \n",
    "\n",
    "        metric2_undercount += undercount\n",
    "        metric2_overcount += overcount  \n",
    "        metric2_overcount_list.append(overcount)\n",
    "\n",
    "        diff = len(step_time_predict[i])-len(step_time_actual[i])\n",
    "#         print(step_time_actual[i])\n",
    "#         print(step_time_predict[i])\n",
    "#         print('------')\n",
    "\n",
    "        if(diff<0):\n",
    "    #         print('segement undercount : ', 1-len(step_time_predict[i])*1.0/len(step_time_actual[i]))\n",
    "            metric3_undercount -= diff\n",
    "            metric3_overcount_list.append(0)\n",
    "    #     if(diff>=0):\n",
    "        else:\n",
    "    #         print('segement overcount : ', 1-len(step_time_actual[i])*1.0/len(step_time_predict[i]))\n",
    "            metric3_overcount += diff\n",
    "            metric3_overcount_list.append(diff)\n",
    "\n",
    "    print(len(metric1_overcount_list))\n",
    "    print(sum(metric1_overcount_list))\n",
    "    print(metric1_overcount_list)\n",
    "    print(len(metric3_overcount_list))\n",
    "    print(sum(metric3_overcount_list))\n",
    "    print(metric3_overcount_list)\n",
    "\n",
    "    print('error : ')\n",
    "    print(\"total undercount metric 1:\\t\", metric1_undercount*1.0/total_step_count)\n",
    "    print(\"total overcount metric 1:\\t\", metric1_overcount*1.0/total_step_count)\n",
    "    print(\"total undercount metric 2:\\t\", metric2_undercount*1.0/total_step_count)\n",
    "    print(\"total overcount metric 2:\\t\", metric2_overcount*1.0/total_step_count)\n",
    "    print(\"total undercount metric 3:\\t\", metric3_undercount*1.0/total_step_count)\n",
    "    print(\"total overcount metric 3:\\t\", metric3_overcount*1.0/total_step_count)\n",
    "    \n",
    "    m1u.append(metric1_undercount*1.0/total_step_count)\n",
    "    m1o.append(metric1_overcount*1.0/total_step_count)\n",
    "    m2u.append(metric2_undercount*1.0/total_step_count)\n",
    "    m2o.append(metric2_overcount*1.0/total_step_count)\n",
    "    m3u.append(metric3_undercount*1.0/total_step_count)\n",
    "    m3o.append(metric3_overcount*1.0/total_step_count)\n",
    "    \n",
    "    \n",
    "    print(\"==============================================================\")\n",
    "\n",
    "filename = 'tmp/na_valid_timesteps='+str(timesteps)+'_trainingsteps='+str(training_steps)+'lr='+str(0.1)+'1.csv'\n",
    "with open(filename,\"w\") as csvfile: \n",
    "    writer = csv.writer(csvfile)\n",
    "\n",
    "    #先写入columns_name\n",
    "    writer.writerow([\"cv0\",\"cv1\",\"cv2\",\"cv3\"])\n",
    "    #写入多行用writerows\n",
    "    writer.writerows([m1u, m1o, m2u, m2o, m3u, m3o])\n",
    "    "
   ]
  },
  {
   "cell_type": "code",
   "execution_count": 537,
   "metadata": {},
   "outputs": [
    {
     "ename": "SyntaxError",
     "evalue": "invalid syntax (<ipython-input-537-064cb31106b9>, line 5)",
     "output_type": "error",
     "traceback": [
      "\u001b[0;36m  File \u001b[0;32m\"<ipython-input-537-064cb31106b9>\"\u001b[0;36m, line \u001b[0;32m5\u001b[0m\n\u001b[0;31m    error :\u001b[0m\n\u001b[0m            ^\u001b[0m\n\u001b[0;31mSyntaxError\u001b[0m\u001b[0;31m:\u001b[0m invalid syntax\n"
     ]
    }
   ],
   "source": [
    "[2, 2, 27, 2, 0, 1, 11, 5, 2, 31, 0, 0, 0, 48, 6, 10, 55, 8, 19, 21, 8, 50, 1, 51, 4, 22, 4, 15, 2, 26, 3, 16, 4, 13, 8, 21, 4, 13, 18, 7, 19, 6, 42, 0, 10, 34, 10, 5, 6, 31, 0, 12, 2, 30, 0, 0, 10, 0, 27, 3]\n",
    "60\n",
    "808\n",
    "[4, 3, 27, 3, 2, 1, 11, 5, 3, 33, 0, 3, 2, 45, 6, 11, 51, 11, 18, 21, 10, 53, 4, 51, 5, 21, 5, 15, 4, 27, 5, 14, 3, 13, 7, 19, 6, 12, 14, 8, 19, 6, 40, 0, 10, 34, 11, 6, 6, 28, 1, 13, 5, 33, 1, 0, 9, 2, 27, 1]\n",
    "error : "
   ]
  },
  {
   "cell_type": "code",
   "execution_count": null,
   "metadata": {
    "collapsed": true
   },
   "outputs": [],
   "source": []
  },
  {
   "cell_type": "code",
   "execution_count": null,
   "metadata": {
    "collapsed": true
   },
   "outputs": [],
   "source": []
  }
 ],
 "metadata": {
  "kernelspec": {
   "display_name": "Python 3",
   "language": "python",
   "name": "python3"
  },
  "language_info": {
   "codemirror_mode": {
    "name": "ipython",
    "version": 3
   },
   "file_extension": ".py",
   "mimetype": "text/x-python",
   "name": "python",
   "nbconvert_exporter": "python",
   "pygments_lexer": "ipython3",
   "version": "3.6.3"
  }
 },
 "nbformat": 4,
 "nbformat_minor": 2
}
