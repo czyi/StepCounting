{
 "cells": [
  {
   "cell_type": "code",
   "execution_count": 1,
   "metadata": {},
   "outputs": [
    {
     "name": "stderr",
     "output_type": "stream",
     "text": [
      "/home/ziyi/anaconda3/lib/python3.6/importlib/_bootstrap.py:219: RuntimeWarning: compiletime version 3.5 of module 'tensorflow.python.framework.fast_tensor_util' does not match runtime version 3.6\n",
      "  return f(*args, **kwds)\n"
     ]
    }
   ],
   "source": [
    "import pandas as pd\n",
    "import numpy as np\n",
    "import matplotlib.pyplot as plt\n",
    "import tensorflow as tf\n",
    "import math\n",
    "import re\n",
    "import random"
   ]
  },
  {
   "cell_type": "code",
   "execution_count": 8,
   "metadata": {
    "collapsed": true
   },
   "outputs": [],
   "source": [
    "# Network Parameters\n",
    "num_input = 39\n",
    "timesteps = 80 # timesteps\n",
    "num_hidden = 100 # hidden layer num of features\n",
    "num_output= 1"
   ]
  },
  {
   "cell_type": "code",
   "execution_count": 14,
   "metadata": {
    "collapsed": true
   },
   "outputs": [],
   "source": [
    "def read_sensor(filename):\n",
    "#     print(filename)\n",
    "    f_sensor=open(filename)  \n",
    "    dataset=pd.read_csv(f_sensor)\n",
    "    \n",
    "    data_x = np.array(dataset.iloc[:, 0:39])\n",
    "#     print(data_x.shape)\n",
    "    \n",
    "    data_y = np.array(dataset.iloc[:, 40:41])\n",
    "#     print(data_y.shape)\n",
    "\n",
    "    return data_x, data_y\n",
    "\n",
    "\n",
    "def read_xml(filename, length):\n",
    "    f = open(filename)\n",
    "    cts = f.read()\n",
    "    f.close()\n",
    "\n",
    "    p_foot = re.compile(r'<WhichFoot>(.*?)</WhichFoot>')\n",
    "    all_foot = p_foot.findall(cts)\n",
    "\n",
    "    p_time = re.compile(r'<Time>(.*?)</Time>')\n",
    "    all_time = p_time.findall(cts)\n",
    "\n",
    "    strike_times = []\n",
    "    for i in range(len(all_foot)):\n",
    "        strike_times.append([float(all_time[i]), all_foot[i]])\n",
    "#     print(len(strike_times))\n",
    "\n",
    "    # left - 0, right = 1\n",
    "    strike_times.append([length/25.0, 'E'])\n",
    "    step_direct = 0\n",
    "    window_y = []\n",
    "    strike_index=0\n",
    "    for i in range(length):\n",
    "        if(strike_index<len(strike_times) and i/25.0 < strike_times[strike_index][0]):\n",
    "            window_y.append(step_direct)\n",
    "        else:\n",
    "            step_direct = 1-step_direct\n",
    "            strike_index += 1\n",
    "            window_y.append(step_direct)\n",
    "            \n",
    "    return window_y"
   ]
  },
  {
   "cell_type": "code",
   "execution_count": 15,
   "metadata": {},
   "outputs": [
    {
     "name": "stdout",
     "output_type": "stream",
     "text": [
      "39487\n",
      "39487\n",
      "39487\n",
      "39487\n"
     ]
    }
   ],
   "source": [
    "data_x = []\n",
    "window_y = []\n",
    "out_num=50\n",
    "for i in range(1,5):\n",
    "    data_x_part, data_y_part = read_sensor('weallwalk/sensor/iPhoneSensors_T'+str(i)+'_ID1_1L_GD.csv')\n",
    "    window_y_part = read_xml('weallwalk/xml/T'+str(i)+'_ID1_GD.xml', len(data_x_part))\n",
    "    \n",
    "    for i in range(len(data_x_part)-timesteps):\n",
    "        x=data_x_part[i:i+timesteps]\n",
    "        y=window_y_part[i+out_num:i+timesteps]\n",
    "        data_x.append(x)\n",
    "        window_y.append(y)\n",
    "        \n",
    "for i in range(1,7):\n",
    "    data_x_part, data_y_part = read_sensor('weallwalk/sensor/iPhoneSensors_T'+str(i)+'_ID1_1L_WC.csv')\n",
    "    window_y_part = read_xml('weallwalk/xml/T'+str(i)+'_ID1_GD.xml', len(data_x_part))\n",
    "    \n",
    "    for i in range(len(data_x_part)-timesteps):\n",
    "        x=data_x_part[i:i+timesteps]\n",
    "        y=window_y_part[i+out_num:i+timesteps]\n",
    "        data_x.append(x)\n",
    "        window_y.append(y)    \n",
    "\n",
    "        \n",
    "print(len(data_x)) #21843\n",
    "print(len(window_y))\n",
    "\n",
    "order = list(range(0,len(data_x),1))\n",
    "random.shuffle(order)\n",
    "\n",
    "train_x = [data_x[i] for i in order]\n",
    "train_y = [window_y[i] for i in order]\n",
    "\n",
    "print(len(train_x))\n",
    "print(len(train_y))"
   ]
  },
  {
   "cell_type": "code",
   "execution_count": 16,
   "metadata": {},
   "outputs": [
    {
     "name": "stdout",
     "output_type": "stream",
     "text": [
      "7077\n",
      "7077\n"
     ]
    }
   ],
   "source": [
    "test_x, test_y=[], []\n",
    "for i in range(5,7):\n",
    "    data_x_part, data_y_part = read_sensor('weallwalk/sensor/iPhoneSensors_T'+str(i)+'_ID1_1L_GD.csv')\n",
    "    window_y_part = read_xml('weallwalk/xml/T'+str(i)+'_ID1_GD.xml', len(data_x_part))\n",
    "    \n",
    "    for i in range(len(data_x_part)-timesteps):\n",
    "        x=data_x_part[i:i+timesteps]\n",
    "        y=window_y_part[i+out_num:i+timesteps]\n",
    "        test_x.append(x)\n",
    "        test_y.append(y)\n",
    "        \n",
    "# for i in range(6,7):\n",
    "#     data_x_part, data_y_part = read_sensor('weallwalk/sensor/iPhoneSensors_T'+str(i)+'_ID1_1L_WC.csv')\n",
    "#     window_y_part = read_xml('weallwalk/xml/T'+str(i)+'_ID1_GD.xml', len(data_x_part))\n",
    "    \n",
    "#     for i in range(len(data_x_part)-timesteps):\n",
    "#         x=data_x_part[i:i+timesteps]\n",
    "#         y=window_y_part[i+out_num:i+timesteps]\n",
    "#         test_x.append(x)\n",
    "#         test_y.append(y)\n",
    "        \n",
    "print(len(test_x))\n",
    "print(len(test_y))"
   ]
  },
  {
   "cell_type": "code",
   "execution_count": 17,
   "metadata": {},
   "outputs": [
    {
     "data": {
      "image/png": "[encoded data removed]",
      "text/plain": [
       "<matplotlib.figure.Figure at 0x7f331a032358>"
      ]
     },
     "metadata": {},
     "output_type": "display_data"
    }
   ],
   "source": [
    "#0.150226\n",
    "start=4000\n",
    "end=4700\n",
    "plt.figure(figsize=(18, 5))\n",
    "plt.plot([i[0][0] for i in test_x[start:end]], [i[0] for i in test_y[start:end]], 'r')\n",
    "plt.show()"
   ]
  },
  {
   "cell_type": "code",
   "execution_count": 9,
   "metadata": {},
   "outputs": [
    {
     "name": "stdout",
     "output_type": "stream",
     "text": [
      "(?, 80, 39)\n",
      "unstack\n",
      "80\n",
      "(?, 39)\n"
     ]
    },
    {
     "ename": "AttributeError",
     "evalue": "'NoneType' object has no attribute 'shape'",
     "output_type": "error",
     "traceback": [
      "\u001b[0;31m---------------------------------------------------------------------------\u001b[0m",
      "\u001b[0;31mAttributeError\u001b[0m                            Traceback (most recent call last)",
      "\u001b[0;32m<ipython-input-9-ebd1edc2f40e>\u001b[0m in \u001b[0;36m<module>\u001b[0;34m()\u001b[0m\n\u001b[1;32m     44\u001b[0m \u001b[0;34m\u001b[0m\u001b[0m\n\u001b[1;32m     45\u001b[0m     \u001b[0mlogits\u001b[0m \u001b[0;34m=\u001b[0m \u001b[0mRNN\u001b[0m\u001b[0;34m(\u001b[0m\u001b[0mX\u001b[0m\u001b[0;34m,\u001b[0m \u001b[0mweights\u001b[0m\u001b[0;34m,\u001b[0m \u001b[0mbiases\u001b[0m\u001b[0;34m)\u001b[0m\u001b[0;34m\u001b[0m\u001b[0m\n\u001b[0;32m---> 46\u001b[0;31m     \u001b[0mprint\u001b[0m\u001b[0;34m(\u001b[0m\u001b[0mlogits\u001b[0m\u001b[0;34m.\u001b[0m\u001b[0mshape\u001b[0m\u001b[0;34m)\u001b[0m\u001b[0;34m\u001b[0m\u001b[0m\n\u001b[0m\u001b[1;32m     47\u001b[0m \u001b[0;31m#     logits = tf.reshape(logits, [-1])\u001b[0m\u001b[0;34m\u001b[0m\u001b[0;34m\u001b[0m\u001b[0m\n\u001b[1;32m     48\u001b[0m \u001b[0;31m#     print(logits.shape)\u001b[0m\u001b[0;34m\u001b[0m\u001b[0;34m\u001b[0m\u001b[0m\n",
      "\u001b[0;31mAttributeError\u001b[0m: 'NoneType' object has no attribute 'shape'"
     ]
    }
   ],
   "source": [
    "NUM_LAYERS=2\n",
    "\n",
    "def LstmCell():\n",
    "    lstm_cell = tf.contrib.rnn.BasicLSTMCell(num_hidden, state_is_tuple=True)\n",
    "    return lstm_cell\n",
    "\n",
    "graph = tf.Graph()\n",
    "with graph.as_default(), tf.device('/gpu:0'):\n",
    "    # tf Graph input\n",
    "    X = tf.placeholder(\"float\", [None, timesteps, num_input])\n",
    "    Y = tf.placeholder(\"float\", [None, num_output])\n",
    "\n",
    "    # Define weights\n",
    "    weights = {\n",
    "        'out': tf.Variable(tf.random_normal([num_hidden, num_output]))\n",
    "    }\n",
    "    biases = {\n",
    "        'out': tf.Variable(tf.random_normal([num_output]))\n",
    "        #'out':tf.Variable(tf.zeros([1]))\n",
    "    }\n",
    "\n",
    "    def RNN(x, weights, biases):\n",
    "        print(x.shape)\n",
    "        x = tf.unstack(x, timesteps, 1)\n",
    "        print(\"unstack\")\n",
    "        print(len(x))\n",
    "        print(x[0].shape)\n",
    "        cell = tf.contrib.rnn.MultiRNNCell([LstmCell() for _ in range(NUM_LAYERS)])\n",
    "        outputs, state = tf.nn.dynamic_rnn(cell, X, dtype=tf.float32)\n",
    "        outputs = tf.transpose(outputs, [1,0,2])\n",
    "        \n",
    "        \n",
    "#         ret = []\n",
    "#         for out in outputs:\n",
    "#             ret.append(tf.matmul(out, weights['out']) + biases['out'])\n",
    "#         return ret\n",
    "        \n",
    "#         return tf.matmul(outputs[-1], weights['out']) + biases['out']\n",
    "        \n",
    "#         outputs = tf.reshape(outputs, [-1, num_hidden])\n",
    "#         predictions = tf.contrib.layers.fully_connected(outputs, num_output, None)\n",
    "#         return predictions\n",
    "    \n",
    "\n",
    "    logits = RNN(X, weights, biases)\n",
    "    print(logits.shape)\n",
    "#     logits = tf.reshape(logits, [-1])\n",
    "#     print(logits.shape)\n",
    "#     Y = tf.reshape(Y, [-1])\n",
    "    mean_train = tf.reduce_mean(X)\n",
    "    loss = tf.reduce_mean(tf.squared_difference(logits, Y))\n",
    "#     loss = tf.reduce_mean(tf.nn.softmax_cross_entropy_with_logits(logits=logits, labels=Y))\n",
    "\n",
    "    optimizer = tf.train.AdamOptimizer(learning_rate = 0.0005).minimize(loss)\n",
    "    \n",
    "    saver = tf.train.Saver()"
   ]
  },
  {
   "cell_type": "code",
   "execution_count": 34,
   "metadata": {
    "collapsed": true
   },
   "outputs": [],
   "source": [
    "batch_size = 256\n",
    "batch_start = 0;\n",
    "train_length = len(train_x)\n",
    "train_x.extend(train_x[0:batch_size])\n",
    "train_y.extend(train_y[0:batch_size])\n",
    "training_steps = 10001"
   ]
  },
  {
   "cell_type": "code",
   "execution_count": 35,
   "metadata": {},
   "outputs": [
    {
     "name": "stdout",
     "output_type": "stream",
     "text": [
      "Initialized\n"
     ]
    },
    {
     "ename": "ValueError",
     "evalue": "Cannot feed value of shape (256, 50) for Tensor 'Placeholder_1:0', which has shape '(?, 1)'",
     "output_type": "error",
     "traceback": [
      "\u001b[0;31m---------------------------------------------------------------------------\u001b[0m",
      "\u001b[0;31mValueError\u001b[0m                                Traceback (most recent call last)",
      "\u001b[0;32m<ipython-input-35-699a0af50bf9>\u001b[0m in \u001b[0;36m<module>\u001b[0;34m()\u001b[0m\n\u001b[1;32m      9\u001b[0m         \u001b[0;32mif\u001b[0m\u001b[0;34m(\u001b[0m\u001b[0mbatch_start\u001b[0m\u001b[0;34m>=\u001b[0m\u001b[0mtrain_length\u001b[0m\u001b[0;34m)\u001b[0m\u001b[0;34m:\u001b[0m\u001b[0;34m\u001b[0m\u001b[0m\n\u001b[1;32m     10\u001b[0m             \u001b[0mbatch_start\u001b[0m \u001b[0;34m-=\u001b[0m \u001b[0mtrain_length\u001b[0m\u001b[0;34m\u001b[0m\u001b[0m\n\u001b[0;32m---> 11\u001b[0;31m         \u001b[0m_\u001b[0m\u001b[0;34m,\u001b[0m \u001b[0ml\u001b[0m\u001b[0;34m,\u001b[0m \u001b[0mpredictions\u001b[0m\u001b[0;34m,\u001b[0m \u001b[0mm\u001b[0m \u001b[0;34m=\u001b[0m \u001b[0msession\u001b[0m\u001b[0;34m.\u001b[0m\u001b[0mrun\u001b[0m\u001b[0;34m(\u001b[0m\u001b[0;34m[\u001b[0m\u001b[0moptimizer\u001b[0m\u001b[0;34m,\u001b[0m \u001b[0mloss\u001b[0m\u001b[0;34m,\u001b[0m \u001b[0mlogits\u001b[0m\u001b[0;34m,\u001b[0m\u001b[0mmean_train\u001b[0m\u001b[0;34m]\u001b[0m\u001b[0;34m,\u001b[0m \u001b[0mfeed_dict\u001b[0m \u001b[0;34m=\u001b[0m \u001b[0mfeed_dict\u001b[0m\u001b[0;34m)\u001b[0m\u001b[0;34m\u001b[0m\u001b[0m\n\u001b[0m\u001b[1;32m     12\u001b[0m         \u001b[0;32mif\u001b[0m \u001b[0;34m(\u001b[0m\u001b[0mstep\u001b[0m \u001b[0;34m%\u001b[0m \u001b[0;36m400\u001b[0m \u001b[0;34m==\u001b[0m \u001b[0;36m0\u001b[0m\u001b[0;34m)\u001b[0m\u001b[0;34m:\u001b[0m\u001b[0;34m\u001b[0m\u001b[0m\n\u001b[1;32m     13\u001b[0m             \u001b[0mprint\u001b[0m\u001b[0;34m(\u001b[0m\u001b[0;34m'Loss at step %d: %f'\u001b[0m \u001b[0;34m%\u001b[0m \u001b[0;34m(\u001b[0m\u001b[0mstep\u001b[0m\u001b[0;34m,\u001b[0m \u001b[0ml\u001b[0m\u001b[0;34m)\u001b[0m\u001b[0;34m)\u001b[0m\u001b[0;34m\u001b[0m\u001b[0m\n",
      "\u001b[0;32m~/anaconda3/lib/python3.6/site-packages/tensorflow/python/client/session.py\u001b[0m in \u001b[0;36mrun\u001b[0;34m(self, fetches, feed_dict, options, run_metadata)\u001b[0m\n\u001b[1;32m    887\u001b[0m     \u001b[0;32mtry\u001b[0m\u001b[0;34m:\u001b[0m\u001b[0;34m\u001b[0m\u001b[0m\n\u001b[1;32m    888\u001b[0m       result = self._run(None, fetches, feed_dict, options_ptr,\n\u001b[0;32m--> 889\u001b[0;31m                          run_metadata_ptr)\n\u001b[0m\u001b[1;32m    890\u001b[0m       \u001b[0;32mif\u001b[0m \u001b[0mrun_metadata\u001b[0m\u001b[0;34m:\u001b[0m\u001b[0;34m\u001b[0m\u001b[0m\n\u001b[1;32m    891\u001b[0m         \u001b[0mproto_data\u001b[0m \u001b[0;34m=\u001b[0m \u001b[0mtf_session\u001b[0m\u001b[0;34m.\u001b[0m\u001b[0mTF_GetBuffer\u001b[0m\u001b[0;34m(\u001b[0m\u001b[0mrun_metadata_ptr\u001b[0m\u001b[0;34m)\u001b[0m\u001b[0;34m\u001b[0m\u001b[0m\n",
      "\u001b[0;32m~/anaconda3/lib/python3.6/site-packages/tensorflow/python/client/session.py\u001b[0m in \u001b[0;36m_run\u001b[0;34m(self, handle, fetches, feed_dict, options, run_metadata)\u001b[0m\n\u001b[1;32m   1094\u001b[0m                 \u001b[0;34m'Cannot feed value of shape %r for Tensor %r, '\u001b[0m\u001b[0;34m\u001b[0m\u001b[0m\n\u001b[1;32m   1095\u001b[0m                 \u001b[0;34m'which has shape %r'\u001b[0m\u001b[0;34m\u001b[0m\u001b[0m\n\u001b[0;32m-> 1096\u001b[0;31m                 % (np_val.shape, subfeed_t.name, str(subfeed_t.get_shape())))\n\u001b[0m\u001b[1;32m   1097\u001b[0m           \u001b[0;32mif\u001b[0m \u001b[0;32mnot\u001b[0m \u001b[0mself\u001b[0m\u001b[0;34m.\u001b[0m\u001b[0mgraph\u001b[0m\u001b[0;34m.\u001b[0m\u001b[0mis_feedable\u001b[0m\u001b[0;34m(\u001b[0m\u001b[0msubfeed_t\u001b[0m\u001b[0;34m)\u001b[0m\u001b[0;34m:\u001b[0m\u001b[0;34m\u001b[0m\u001b[0m\n\u001b[1;32m   1098\u001b[0m             \u001b[0;32mraise\u001b[0m \u001b[0mValueError\u001b[0m\u001b[0;34m(\u001b[0m\u001b[0;34m'Tensor %s may not be fed.'\u001b[0m \u001b[0;34m%\u001b[0m \u001b[0msubfeed_t\u001b[0m\u001b[0;34m)\u001b[0m\u001b[0;34m\u001b[0m\u001b[0m\n",
      "\u001b[0;31mValueError\u001b[0m: Cannot feed value of shape (256, 50) for Tensor 'Placeholder_1:0', which has shape '(?, 1)'"
     ]
    }
   ],
   "source": [
    "config = tf.ConfigProto(allow_soft_placement=True)\n",
    "with tf.Session(graph=graph, config=config) as session:\n",
    "#     saver.restore(session, tf.train.latest_checkpoint('lstm_check'))\n",
    "    tf.global_variables_initializer().run()\n",
    "    print('Initialized')\n",
    "    for step in range(training_steps):      \n",
    "        feed_dict = {X: train_x[batch_start:batch_start+batch_size], Y: train_y[batch_start:batch_start+batch_size]}\n",
    "        batch_start += batch_size\n",
    "        if(batch_start>=train_length):\n",
    "            batch_start -= train_length\n",
    "        _, l, predictions, m = session.run([optimizer, loss, logits,mean_train], feed_dict = feed_dict)\n",
    "        if (step % 400 == 0):\n",
    "            print('Loss at step %d: %f' % (step, l))\n",
    "        if (step % 1000 == 0):\n",
    "            saver.save(session, 'lstm_check/my-model-gpu-timestamp-100-50.ckpt', global_step=step)\n",
    "    test_loss, test_logits = session.run([loss,logits], feed_dict={X: test_x, Y: test_y})"
   ]
  },
  {
   "cell_type": "code",
   "execution_count": null,
   "metadata": {
    "collapsed": true
   },
   "outputs": [],
   "source": []
  },
  {
   "cell_type": "code",
   "execution_count": null,
   "metadata": {
    "collapsed": true
   },
   "outputs": [],
   "source": []
  }
 ],
 "metadata": {
  "kernelspec": {
   "display_name": "Python 3",
   "language": "python",
   "name": "python3"
  },
  "language_info": {
   "codemirror_mode": {
    "name": "ipython",
    "version": 3
   },
   "file_extension": ".py",
   "mimetype": "text/x-python",
   "name": "python",
   "nbconvert_exporter": "python",
   "pygments_lexer": "ipython3",
   "version": "3.6.3"
  }
 },
 "nbformat": 4,
 "nbformat_minor": 2
}
